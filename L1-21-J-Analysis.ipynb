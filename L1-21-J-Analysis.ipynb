{
 "cells": [
  {
   "cell_type": "markdown",
   "metadata": {},
   "source": [
    "# Analysis of the L1-21-J impact event on the Moon"
   ]
  },
  {
   "cell_type": "markdown",
   "metadata": {},
   "source": [
    "*\"Location, orbit and energy of a meteoroid impacting the moon during the Lunar Eclipse of January 21, 2019* by Jorge I. Zuluaga, Pablo A. Cuartas, Jonathan Ospina, Sergio López, Fritz Pichardo & Karl Peña"
   ]
  },
  {
   "cell_type": "markdown",
   "metadata": {},
   "source": [
    "## External modules and useful routines"
   ]
  },
  {
   "cell_type": "code",
   "execution_count": 1,
   "metadata": {},
   "outputs": [],
   "source": [
    "###################################################################\n",
    "#EXTERNAL MODULES\n",
    "###################################################################\n",
    "BDIR=\"./\"\n",
    "import numpy as np\n",
    "from matplotlib import pyplot as plt\n",
    "import pandas as pd\n",
    "from scipy.optimize import minimize\n",
    "from scipy.interpolate import interp1d as interpolate\n",
    "from scipy.integrate import quad as integrate\n",
    "import statistics as stats\n",
    "import spiceypy as spy\n",
    "from copy import deepcopy\n",
    "from mpl_toolkits.basemap import Basemap as Map,shiftgrid as Grid\n",
    "from tqdm import tqdm\n",
    "\n",
    "%matplotlib nbagg\n",
    "\n",
    "###################################################################\n",
    "#INITIALIZE SPICE\n",
    "###################################################################\n",
    "spy.furnsh(BDIR+\"kernels/de430.bsp\")\n",
    "spy.furnsh(BDIR+\"kernels/naif0012.tls\")\n",
    "spy.furnsh(BDIR+\"kernels/pck00010.tpc\")\n",
    "spy.furnsh(BDIR+\"kernels/moon_pa_de421_1900-2050.bpc\")\n",
    "\n",
    "###################################################################\n",
    "#CONSTANTS AND MACROS\n",
    "###################################################################\n",
    "#Angle conversion\n",
    "DEG=np.pi/180\n",
    "RAD=1/DEG\n",
    "\n",
    "#Tons of TNT\n",
    "TTNT=4.184e9 #J\n",
    "\n",
    "#Regolith density\n",
    "RHO_REG=1600 #kg/m^3\n",
    "\n",
    "#Useful package routines\n",
    "norm=np.linalg.norm\n",
    "\n",
    "###################################################################\n",
    "#ROUTINES\n",
    "###################################################################\n",
    "def str2vec(str):\n",
    "    v=np.array([float(x) for x in str.split(\" \")])\n",
    "    return v\n",
    "def angle(u,v):\n",
    "    return np.arccos(np.dot(u,v)/(norm(u)*norm(v)))*180/np.pi\n",
    "\n",
    "def randomX(xs,ps,N=100):\n",
    "    \"\"\"\n",
    "        Generate random values of x given a normalized histogram (ps)\n",
    "    \"\"\"\n",
    "    Ps=np.array([ps[:i].sum() for i in range(len(ps))])\n",
    "    Fi=interpolate(Ps,xs)\n",
    "    u=np.random.rand(N,1)\n",
    "    us=Ps.min()+u*(Ps.max()-Ps.min())\n",
    "    xrs=Fi(us)\n",
    "    return xrs\n",
    "\n",
    "def ipercs(xs,ps,qpercs):\n",
    "    Ps=np.array([ps[:i].sum() for i in range(len(ps))])\n",
    "    fi=interpolate(Ps,xs)\n",
    "    return fi(np.array(qpercs)/100.0)\n",
    "\n",
    "def Gmag(coefs,r=1,g=1,b=1,x=1,y=1):\n",
    "    \"\"\"\n",
    "    coefs: Coefficients\n",
    "    r,g,b: Counts in each band\n",
    "    \"\"\"\n",
    "    mG=coefs[0]+coefs[1]*np.log(r)+coefs[2]*np.log(g)+coefs[3]*np.log(b)\n",
    "    return mG                                         \n",
    "\n",
    "def chiSquare(coefs,stars=None,verbose=False):\n",
    "    chisq=0\n",
    "    dGs=[]\n",
    "    for ind in stars.index[1:]:\n",
    "        star=stars.loc[ind]\n",
    "        Gteo=Gmag(coefs,star[\"Red\"],star[\"Blue\"],star[\"Green\"])\n",
    "        Gobs=float(star[\"G\"])\n",
    "        dGs+=[np.abs(Gteo-Gobs)]\n",
    "        if verbose:print(f\"{star['Starname']}:Teo={Gteo},Obs={Gobs},dM={dGs[-1]}\")\n",
    "        dG=0.05\n",
    "        chisq+=(Gteo-Gobs)**2/dG**2\n",
    "    if verbose:return chisq,dGs\n",
    "    return chisq\n",
    "                         \n",
    "#Convert Az,h into RA, DEC at a location lon,lat,alt on the moon\n",
    "def loc2Sky(et,Az,h,lon,lat,alt,bodyid=\"MOON\",frameid=\"IAU_MOON\"):\n",
    "    \"\"\"\n",
    "    Az,h,lon,lat in degress.\n",
    "    alt in km.\n",
    "    \n",
    "    Return RA(deg) and DEC(deg)\n",
    "    \n",
    "    Example: \n",
    "        Az=29.9670;h=19.2504\n",
    "        loc2Sky(et,Az,h,LON_MOON,LAT_MOON,ALT_MOON,\"MOON\",\"IAU_MOON\")\n",
    "    \"\"\"\n",
    "    #Rectangular position\n",
    "    r_local=spy.latrec(1,Az*DEG,h*DEG)\n",
    "    \n",
    "    #Size of the object\n",
    "    n,rs=spy.bodvrd(\"MOON\",\"RADII\",3)\n",
    "    Re=rs[0];Rp=rs[2]\n",
    "    f=(Re-Rp)/Re\n",
    "    geopos=spy.georec(lon*DEG,lat*DEG,alt,Re,f)\n",
    "\n",
    "    #Local to Body reference frame transformation\n",
    "    normal=spy.surfnm(Re,Re,Rp,geopos)\n",
    "    uy=spy.ucrss(np.array([0,0,1]),normal)\n",
    "    ux=spy.ucrss(normal,uy)\n",
    "    Local2Body=np.array(np.vstack((ux,uy,normal)).transpose().tolist())\n",
    "    \n",
    "    #Body to J2000\n",
    "    Body2j2000=spy.pxform(frameid,\"J2000\",et)\n",
    "    \n",
    "    #Transform vector from local to IAU moon\n",
    "    r_body=spy.mxv(Local2Body,r_local)\n",
    "    r_j2000=spy.mxv(Body2j2000,r_body)\n",
    "\n",
    "    #J2000 coordinates\n",
    "    r,RA,DEC=spy.reclat(r_j2000)\n",
    "    RA=RA+2*np.pi if RA<0 else RA\n",
    "    return RA*RAD,DEC*RAD   "
   ]
  },
  {
   "cell_type": "markdown",
   "metadata": {},
   "source": [
    "## Useful constants"
   ]
  },
  {
   "cell_type": "code",
   "execution_count": 2,
   "metadata": {},
   "outputs": [
    {
     "name": "stdout",
     "output_type": "stream",
     "text": [
      "Time of the eclipse: 01/21/2019 04:41:38 UTC (TDB = 601317698.0, Delta t = 69.18449230785387\n",
      "Moon distance at the time of impact (km): 357745.19348597113\n",
      "Position of the Earth as seen from the moon: (20.166039257679454, -20.436535879618923)\n",
      "Moon equatorial radius (km): 1737.4\n"
     ]
    }
   ],
   "source": [
    "#impact time and location\n",
    "IMPACT_DATA=\"grt-20190121044138-7AE3F0\"\n",
    "IMPACT_SUFFIX=\"lat_-2.94288e+01__lon_-6.81674e+01\"\n",
    "IMPACT_FIGDIR=f\"{BDIR}/figures/{IMPACT_DATA}/\"\n",
    "\n",
    "IMPACT_DATE=\"01/21/2019 04:41:38 UTC\"\n",
    "IMPACT_LOC=dict(\n",
    "    lon=-29.428816, #degrees, 29°25'43.74\"S\n",
    "    lat=-68.167435, #degrees, 68°10'2.77\"O\n",
    "    alt=0.510 #km\n",
    ")\n",
    "IMPACT_FLASH=9.0/30.0\n",
    "\n",
    "t=spy.str2et(IMPACT_DATE)\n",
    "dt=spy.deltet(t,\"et\")\n",
    "IMPACT_ET=t-dt\n",
    "print(f\"Time of the eclipse: {IMPACT_DATE} (TDB = {IMPACT_ET}, Delta t = {dt}\")\n",
    "\n",
    "#Instrument properties\n",
    "#LaLoma (San Vicente Ferrer, Colombia)\n",
    "LALOMA_F=0.73\n",
    "LALOMA_FL=2700.0 #mm\n",
    "LALOMA_D=635 #mm\n",
    "ZWO_COLS=4656.0 #px\n",
    "ZWO_ROWS=3520.0 #px\n",
    "ZWO_WIDTH=17.5 #mm\n",
    "ZWO_HEIGHT=13.4 #mm\n",
    "\n",
    "#Moon distance at the time of the impact\n",
    "moonpos,tf=spy.spkezr(\"MOON\",IMPACT_ET,\"J2000\",\"NONE\",\"EARTH\")\n",
    "MOON_DISTANCE=norm(moonpos[:4]) #km\n",
    "print(f\"Moon distance at the time of impact (km): {MOON_DISTANCE}\")\n",
    "\n",
    "#Location of the Earth at the time of the eclipse\n",
    "r,RA_EARTH,DEC_EARTH=spy.reclat(-moonpos[:3])\n",
    "RA_EARTH=24+RA_EARTH*RAD/15 if RA_EARTH<0 else RA_EARTH*RAD/15\n",
    "DEC_EARTH*=RAD\n",
    "print(f\"Position of the Earth as seen from the moon: {RA_EARTH,DEC_EARTH}\")\n",
    "\n",
    "#RA_EARTH=20+11.0/60.0+9.58/3600.0\n",
    "#DEC_EARTH=-(20+1.0/60.0+24.2/3600.0)\n",
    "\n",
    "#Filter calibration, http://svo2.cab.inta-csic.es/svo/theory/fps3/index.php\n",
    "NG=2.500e-11 #W/m^2/nm\n",
    "G0=0.03\n",
    "DLAMBDA=420.360 #Weff, nm\n",
    "\n",
    "#Moon size\n",
    "n,rs=spy.bodvrd(\"MOON\",\"RADII\",3)\n",
    "RMOON=rs[0]\n",
    "FMOON=0.0\n",
    "print(f\"Moon equatorial radius (km): {RMOON}\")\n",
    "\n",
    "#Moon reference frame matrix transformation\n",
    "Moon2j2000=spy.pxform(\"IAU_MOON\",\"J2000\",IMPACT_ET)\n",
    "\n",
    "plt.ion()"
   ]
  },
  {
   "cell_type": "markdown",
   "metadata": {},
   "source": [
    "## Images and instruments"
   ]
  },
  {
   "cell_type": "code",
   "execution_count": 3,
   "metadata": {},
   "outputs": [
    {
     "name": "stdout",
     "output_type": "stream",
     "text": [
      "Theoretical angular resolution = 0.3933358994645062 arcsec\n",
      "Theoretical linear resolution = 0.6822008563610164 km\n",
      "Theoretical linear resolution (@68.167435 deg) = 1.8343885961381754 km\n"
     ]
    }
   ],
   "source": [
    "#Theoretical spatial resolution of LaLoma telescope\n",
    "pxsize=ZWO_WIDTH/(LALOMA_F*LALOMA_FL)/ZWO_COLS\n",
    "pxsize_km=pxsize*MOON_DISTANCE\n",
    "#At 70 degrees inclination\n",
    "pxsize_inc=pxsize_km/np.cos(IMPACT_LOC[\"lat\"]*DEG)\n",
    "print(f\"Theoretical angular resolution = {pxsize*180/np.pi*3600} arcsec\")\n",
    "print(f\"Theoretical linear resolution = {pxsize_km} km\")\n",
    "print(f\"Theoretical linear resolution (@{np.abs(IMPACT_LOC['lat'])} deg) = {pxsize_inc} km\")"
   ]
  },
  {
   "cell_type": "markdown",
   "metadata": {},
   "source": [
    "## Orbital analysis"
   ]
  },
  {
   "cell_type": "markdown",
   "metadata": {},
   "source": [
    "### Read data"
   ]
  },
  {
   "cell_type": "code",
   "execution_count": 4,
   "metadata": {},
   "outputs": [
    {
     "name": "stdout",
     "output_type": "stream",
     "text": [
      "Number of test trajectories read: 41167\n"
     ]
    }
   ],
   "source": [
    "data_rays=np.loadtxt(BDIR+f\"data/{IMPACT_DATA}/rays-{IMPACT_SUFFIX}.data.phys\")\n",
    "data_rays_prob=np.loadtxt(BDIR+f\"data/{IMPACT_DATA}/rays-{IMPACT_SUFFIX}.data.prob\")\n",
    "Nrays=len(data_rays)\n",
    "print(f\"Number of test trajectories read: {Nrays}\")"
   ]
  },
  {
   "cell_type": "markdown",
   "metadata": {},
   "source": [
    "### Posterior probability distribution of key properties "
   ]
  },
  {
   "cell_type": "code",
   "execution_count": 5,
   "metadata": {},
   "outputs": [
    {
     "name": "stderr",
     "output_type": "stream",
     "text": [
      "22408it [00:00, 224078.08it/s]"
     ]
    },
    {
     "name": "stdout",
     "output_type": "stream",
     "text": [
      "Computed rays: 41167\n",
      "Computing ppd for elevation\n",
      "\tUnique values of property: 498\n",
      "\tRanges: 0.27798 83.332\n",
      "\tSampling points: 16\n"
     ]
    },
    {
     "name": "stderr",
     "output_type": "stream",
     "text": [
      "41167it [00:00, 194921.49it/s]\n",
      "17396it [00:00, 173952.70it/s]"
     ]
    },
    {
     "name": "stdout",
     "output_type": "stream",
     "text": [
      "\tSaving ./data/elevation-marginal.dat\n",
      "Computing ppd for vimp\n",
      "\tUnique values of property: 100\n",
      "\tRanges: 2.7972 44.058\n",
      "\tSampling points: 20\n"
     ]
    },
    {
     "name": "stderr",
     "output_type": "stream",
     "text": [
      "41167it [00:00, 213066.44it/s]\n",
      "0it [00:00, ?it/s]"
     ]
    },
    {
     "name": "stdout",
     "output_type": "stream",
     "text": [
      "\tSaving ./data/vimp-marginal.dat\n",
      "Computing ppd for azimuth\n",
      "\tUnique values of property: 498\n",
      "\tRanges: 0.27282 359.06\n",
      "\tSampling points: 9\n"
     ]
    },
    {
     "name": "stderr",
     "output_type": "stream",
     "text": [
      "41167it [00:00, 224873.85it/s]\n"
     ]
    },
    {
     "name": "stdout",
     "output_type": "stream",
     "text": [
      "\tSaving ./data/azimuth-marginal.dat\n"
     ]
    }
   ],
   "source": [
    "properties=[\n",
    "    dict(indice=0,property=\"elevation\",factor=30),\n",
    "    dict(indice=2,property=\"vimp\",factor=5),\n",
    "    dict(indice=1,property=\"azimuth\",factor=50)\n",
    "]\n",
    "pprob=data_rays_prob[:,7]\n",
    "print(\"Computed rays:\",len(pprob))\n",
    "for qprop in properties:\n",
    "    print(f\"Computing ppd for {qprop['property']}\")\n",
    "    xs=data_rays[:,qprop[\"indice\"]]\n",
    "    xun=np.unique(xs)\n",
    "    Nun=len(xun)\n",
    "    print(\"\\tUnique values of property:\",Nun)\n",
    "\n",
    "    # Range of elevations                                                                                                                                                                                                                                     \n",
    "    xmin=xs.min()\n",
    "    xmax=xs.max()\n",
    "    print(\"\\tRanges:\",xmin,xmax)\n",
    "\n",
    "    # Create boxes                                                                                                                                                                                                                                            \n",
    "    Nb=int(Nun/qprop[\"factor\"])\n",
    "    print(\"\\tSampling points:\",Nb)\n",
    "    xb=np.linspace(xmin,1.01*xmax,Nb,endpoint=False)\n",
    "    dxb=xb[1]-xb[0]\n",
    "\n",
    "    # Compute probabilities                                                                                                                                                                                                                                   \n",
    "    P=0\n",
    "    hb=np.zeros(Nb)\n",
    "    for i,x in tqdm(enumerate(xs)):\n",
    "        p=pprob[i]\n",
    "        P+=p\n",
    "        n=int((x-xmin)/dxb)\n",
    "        hb[n]+=p\n",
    "\n",
    "    hb=np.array(hb)\n",
    "    hb/=P\n",
    "\n",
    "    #Save histogram\n",
    "    fname=BDIR+f\"data/{qprop['property']}-marginal.dat\"\n",
    "    print(f\"\\tSaving {fname}\")\n",
    "    np.savetxt(fname,np.vstack((xb,hb)).transpose())"
   ]
  },
  {
   "cell_type": "markdown",
   "metadata": {},
   "source": [
    "### Impact velocity statistics"
   ]
  },
  {
   "cell_type": "code",
   "execution_count": 6,
   "metadata": {},
   "outputs": [
    {
     "data": {
      "image/png": "[encoded data removed]",
      "text/plain": [
       "<matplotlib.figure.Figure at 0x10a65c6d8>"
      ]
     },
     "metadata": {
      "needs_background": "light"
     },
     "output_type": "display_data"
    }
   ],
   "source": [
    "#Posterior probability distribution of impact velocities\n",
    "data=np.loadtxt(BDIR+\"data/vimp-marginal.dat\")\n",
    "vimps=data[:,0]\n",
    "pvs=data[:,1]\n",
    "v1,vm,v2=ipercs(vimps,pvs,[15.0,50.0,85.0])\n",
    "mv=vm-v1;pv=v2-vm\n",
    "\n",
    "#Plot\n",
    "fig=plt.figure()\n",
    "ax=fig.gca()\n",
    "\n",
    "ax.step(vimps,pvs,color='r',lw=2)\n",
    "\n",
    "ax.set_xlabel(r\"$v_{\\rm imp}$\",fontsize=14)\n",
    "ax.set_ylabel(r\"$p(v_{\\rm imp})$\",fontsize=14)\n",
    "\n",
    "ax.axvspan(v1,vm,color='k',alpha=0.3)\n",
    "ax.axvline(vm,color='k',lw=2)\n",
    "ax.axvspan(vm,v2,color='k',alpha=0.3)\n",
    "\n",
    "#ax.set_title(\"L1-J-21 Impact Velocity\",fontsize=18)\n",
    "\n",
    "ax.text(0.95,0.95,r\"$v_{\\rm imp}=%.1lf^{+%.1lf}_{-%.1lf}$ km/s\"%(vm,mv,pv),\n",
    "        transform=ax.transAxes,ha='right',va='top',fontsize=14)\n",
    "\n",
    "ymin,ymax=ax.get_ylim()\n",
    "ax.set_ylim((0,ymax))\n",
    "\n",
    "fig.tight_layout()\n",
    "fig.savefig(f\"{IMPACT_FIGDIR}/l21j-vimp-ppd.png\")"
   ]
  },
  {
   "cell_type": "markdown",
   "metadata": {},
   "source": [
    "### Incident angle statistics"
   ]
  },
  {
   "cell_type": "code",
   "execution_count": 7,
   "metadata": {},
   "outputs": [
    {
     "data": {
      "image/png": "[encoded data removed]",
      "text/plain": [
       "<matplotlib.figure.Figure at 0x182408e0f0>"
      ]
     },
     "metadata": {
      "needs_background": "light"
     },
     "output_type": "display_data"
    }
   ],
   "source": [
    "#Posterior probability distribution of impact velocities\n",
    "data=np.loadtxt(BDIR+\"data/elevation-marginal.dat\")\n",
    "angles=data[:,0]\n",
    "pas=data[:,1]\n",
    "v1,vm,v2=ipercs(angles,pas,[15.0,50.0,85.0])\n",
    "mv=vm-v1;pv=v2-vm\n",
    "\n",
    "#Figure\n",
    "fig=plt.figure()\n",
    "ax=fig.gca()\n",
    "\n",
    "ax.step(angles,pas,color='r',lw=2)\n",
    "\n",
    "ax.set_xlabel(r\"$\\theta$ (degrees)\",fontsize=14)\n",
    "ax.set_ylabel(r\"$p(\\theta)$\",fontsize=14)\n",
    "\n",
    "ax.axvspan(v1,vm,color='k',alpha=0.3)\n",
    "ax.axvline(vm,color='k',lw=2)\n",
    "ax.axvspan(vm,v2,color='k',alpha=0.3)\n",
    "\n",
    "ax.text(0.95,0.95,r\"$\\theta=%.1lf^{+%.1lf}_{-%.1lf}$\"%(vm,mv,pv),\n",
    "        transform=ax.transAxes,ha='right',va='top',fontsize=14)\n",
    "\n",
    "ymin,ymax=ax.get_ylim()\n",
    "ax.set_ylim((0,ymax))\n",
    "ax.set_xlim((0,60))\n",
    "\n",
    "fig.tight_layout()\n",
    "fig.savefig(f\"{IMPACT_FIGDIR}/l21j-elevation-ppd.png\")"
   ]
  },
  {
   "cell_type": "markdown",
   "metadata": {},
   "source": [
    "### Distribution of Radiants"
   ]
  },
  {
   "cell_type": "code",
   "execution_count": 8,
   "metadata": {},
   "outputs": [
    {
     "name": "stderr",
     "output_type": "stream",
     "text": [
      "100%|██████████| 41167/41167 [00:19<00:00, 2078.27it/s]\n"
     ]
    }
   ],
   "source": [
    "#Build 2D histogram\n",
    "RAmin=0.0;RAmax=360;NRA=10;dRA=(RAmax-RAmin)/NRA\n",
    "DECmin=-90.0;DECmax=90.0;NDEC=10;dDEC=(DECmax-DECmin)/NDEC\n",
    "\n",
    "#Run over all combinations\n",
    "hrd=np.zeros((NDEC,NRA))\n",
    "\n",
    "j=0\n",
    "for i in tqdm(range(len(data_rays))):\n",
    "\n",
    "    #Topocentric coordinates\n",
    "    Az=data_rays[i,1]\n",
    "    h=data_rays[i,0]\n",
    "\n",
    "    #J2000 coordinates\n",
    "    RA,DEC=loc2Sky(IMPACT_ET,Az,h,\n",
    "                   IMPACT_LOC[\"lon\"],IMPACT_LOC[\"lat\"],IMPACT_LOC[\"alt\"],\n",
    "                   \"MOON\",\"IAU_MOON\")\n",
    "    #print(Az,h,RA/15,DEC)\n",
    "    \n",
    "    nRA=int((RA-RAmin)/dRA)\n",
    "    nDEC=int((DEC-DECmin)/dDEC)\n",
    "\n",
    "    if nRA>=NRA or nDEC>=NDEC:continue\n",
    "    hrd[nDEC,nRA]+=1\n",
    "    j+=1"
   ]
  },
  {
   "cell_type": "code",
   "execution_count": 9,
   "metadata": {},
   "outputs": [],
   "source": [
    "#Surface of the moon\n",
    "sRA=[]\n",
    "sDEC=[]\n",
    "h=0\n",
    "for Az in np.linspace(0,360,100):\n",
    "    RA,DEC=loc2Sky(IMPACT_ET,Az,h,IMPACT_LOC[\"lon\"],IMPACT_LOC[\"lat\"],IMPACT_LOC[\"alt\"],\n",
    "                   \"MOON\",\"IAU_MOON\")\n",
    "    sRA+=[RA]\n",
    "    sDEC+=[DEC]\n",
    "sRA=np.array(sRA);sDEC=np.array(sDEC)"
   ]
  },
  {
   "cell_type": "code",
   "execution_count": 10,
   "metadata": {},
   "outputs": [
    {
     "data": {
      "image/png": "[encoded data removed]",
      "text/plain": [
       "<matplotlib.figure.Figure at 0x1822a83940>"
      ]
     },
     "metadata": {
      "needs_background": "light"
     },
     "output_type": "display_data"
    }
   ],
   "source": [
    "#Map\n",
    "RAs,DECs=np.meshgrid(np.arange(RAmin,RAmax,dRA),np.arange(DECmin,DECmax,dDEC))\n",
    "hrd/=hrd.sum()\n",
    "\n",
    "fig=plt.figure()\n",
    "ax=fig.gca()\n",
    "\n",
    "c=ax.contourf(RAs/15.0,DECs,hrd,levels=np.linspace(hrd.min(),hrd.max(),10)) #,cmap=\"YlOrBr\")\n",
    "cbar=fig.colorbar(c)\n",
    "cbar.ax.set_ylabel('Fraction of Trajetcories',fontsize=12)\n",
    "\n",
    "#ax.plot(RA_EARTH,DEC_EARTH,'wo')\n",
    "ax.plot(sRA/15.0,sDEC,'w.',ms=1)\n",
    "\n",
    "ax.set_ylim((-90.0,5*max(sDEC)))\n",
    "ax.set_xlim((0,RAs.max()/15.0))\n",
    "\n",
    "ax.text(RA_EARTH,DEC_EARTH,r'$\\odot$',ha='center',va='center',color='w',fontsize=16)\n",
    "ax.text(0.5,0.95,\"Moon surface\",ha='center',va='center',transform=ax.transAxes,color='w',fontsize=16)\n",
    "\n",
    "ax.set_xlabel(\"RA (h)\",fontsize=14)\n",
    "ax.set_ylabel(\"DEC (degrees)\",fontsize=14)\n",
    "\n",
    "fig.tight_layout()\n",
    "fig.savefig(f\"{IMPACT_FIGDIR}/l21j-RA_DEC-map.png\")"
   ]
  },
  {
   "cell_type": "markdown",
   "metadata": {},
   "source": [
    "### Orbital Map"
   ]
  },
  {
   "cell_type": "code",
   "execution_count": 11,
   "metadata": {},
   "outputs": [
    {
     "name": "stderr",
     "output_type": "stream",
     "text": [
      "100%|██████████| 41167/41167 [00:00<00:00, 95459.95it/s]\n"
     ]
    }
   ],
   "source": [
    "amin=0.5;amax=2.5;Na=10;da=(amax-amin)/Na\n",
    "emin=0.0;emax=1.0;Ne=10;de=(emax-emin)/Ne\n",
    "\n",
    "hae=np.zeros((Na,Ne))\n",
    "for i in tqdm(range(Nrays)):\n",
    "    q=data_rays[i,9]\n",
    "    e=data_rays[i,10]\n",
    "    if e>=1:continue\n",
    "    a=q/(1-e)\n",
    "    na=int((a-amin)/da)\n",
    "    ne=int((e-emin)/de)\n",
    "    if na>=Na or ne>=Ne:continue\n",
    "    hae[ne,na]+=1\n",
    "Nt=hae.sum()"
   ]
  },
  {
   "cell_type": "code",
   "execution_count": 12,
   "metadata": {},
   "outputs": [
    {
     "data": {
      "image/png": "[encoded data removed]",
      "text/plain": [
       "<matplotlib.figure.Figure at 0x1822bf9898>"
      ]
     },
     "metadata": {
      "needs_background": "light"
     },
     "output_type": "display_data"
    }
   ],
   "source": [
    "#Figure\n",
    "A,E=np.meshgrid(np.arange(amin,amax,da),np.arange(emin,emax,de))\n",
    "fig=plt.figure()\n",
    "ax=fig.gca()\n",
    "\n",
    "im=ax.imshow(hae/Nt,origin='lower')\n",
    "cbar=fig.colorbar(im)\n",
    "cbar.ax.set_ylabel('Fraction of Trajetcories',fontsize=12)\n",
    "\n",
    "ax.set_xlabel(\"a (AU)\",fontsize=14)\n",
    "ax.set_ylabel(\"e\",fontsize=14)\n",
    "\n",
    "xts=[]\n",
    "xtl=[]\n",
    "for i in np.arange(0.0,Na+1,1):\n",
    "    xts+=[i-0.5]\n",
    "    xtl+=[\"%.1f\"%(amin+i*da)]\n",
    "t=ax.set_xticks(xts)\n",
    "t=ax.set_xticklabels(xtl)\n",
    "\n",
    "xts=[]\n",
    "xtl=[]\n",
    "for i in np.arange(0.0,Ne+1,1):\n",
    "    xts+=[i-0.5]\n",
    "    xtl+=[\"%.1f\"%(emin+i*de)]\n",
    "t=ax.set_yticks(xts)\n",
    "t=ax.set_yticklabels(xtl)\n",
    "\n",
    "fig.tight_layout()\n",
    "fig.savefig(f\"{IMPACT_FIGDIR}/l21j-ae-map.png\")"
   ]
  },
  {
   "cell_type": "markdown",
   "metadata": {},
   "source": [
    "## Photometry"
   ]
  },
  {
   "cell_type": "code",
   "execution_count": 13,
   "metadata": {},
   "outputs": [],
   "source": [
    "data_rays=np.loadtxt(BDIR+f\"data/{IMPACT_DATA}/rays-{IMPACT_SUFFIX}.data.phys\")\n",
    "stars=pd.read_csv(BDIR+f\"data/{IMPACT_DATA}/photometry.csv\")\n",
    "for key in \"B\",\"V\",\"G\":stars[key]=stars[key].apply(lambda x:x.replace(',','.'))\n",
    "impact=stars.loc[9].copy()\n",
    "stars.drop(9,inplace=True)"
   ]
  },
  {
   "cell_type": "code",
   "execution_count": 14,
   "metadata": {},
   "outputs": [
    {
     "name": "stdout",
     "output_type": "stream",
     "text": [
      "BD+20 2009:Teo=45.87234458642629,Obs=10.4423,dM=35.43004458642629\n",
      "BD+20 2007:Teo=46.69281649382823,Obs=9.7906,dM=36.902216493828234\n",
      "BD+20 2005:Teo=47.71103846801377,Obs=8.6293,dM=39.08173846801377\n",
      "BD+21 1766:Teo=47.903476152854815,Obs=8.3523,dM=39.551176152854815\n",
      "BD+21 1779:Teo=47.684458586836044,Obs=8.9471,dM=38.737358586836045\n",
      "BD+21 1777:Teo=46.387141930648745,Obs=9.6792,dM=36.707941930648744\n",
      "TYC 1385-899-1:Teo=45.681138579078805,Obs=10.0131,dM=35.668038579078804\n",
      "TYC 1385-939-1:Teo=44.62320087709288,Obs=10.3526,dM=34.270600877092875\n",
      "Test G-mag = 47.64725093167365\n",
      "Test chisquare = (4401391.387973822, [35.43004458642629, 36.902216493828234, 39.08173846801377, 39.551176152854815, 38.737358586836045, 36.707941930648744, 35.668038579078804, 34.270600877092875])\n"
     ]
    }
   ],
   "source": [
    "coefs=[]\n",
    "coefs+=[24.35475129]\n",
    "coefs+=[0.17248805]\n",
    "coefs+=[0.44909602]\n",
    "coefs+=[1.93560511]\n",
    "G=Gmag(coefs,stars.loc[0,\"Red\"],stars.loc[0,\"Blue\"],stars.loc[0,\"Green\"])\n",
    "chisq=chiSquare(coefs,stars,True)\n",
    "print(f\"Test G-mag = {G}\")\n",
    "print(f\"Test chisquare = {chisq}\")"
   ]
  },
  {
   "cell_type": "code",
   "execution_count": 15,
   "metadata": {},
   "outputs": [
    {
     "name": "stdout",
     "output_type": "stream",
     "text": [
      "      fun: 6.602885449167282\n",
      " hess_inv: array([[ 0.06378907,  0.00068642, -0.00071408, -0.00731201],\n",
      "       [ 0.00068642,  0.01668852,  0.00753168, -0.02450347],\n",
      "       [-0.00071408,  0.00753168,  0.00496006, -0.0124912 ],\n",
      "       [-0.00731201, -0.02450347, -0.0124912 ,  0.03812656]])\n",
      "      jac: array([0.00000000e+00, 1.57356262e-05, 3.75509262e-06, 1.51991844e-05])\n",
      "  message: 'Desired error not necessarily achieved due to precision loss.'\n",
      "     nfev: 203\n",
      "      nit: 10\n",
      "     njev: 32\n",
      "   status: 2\n",
      "  success: False\n",
      "        x: array([23.66202139,  0.18580187,  0.75506325, -2.56553377])\n",
      "BD+20 2009:Teo=10.40336964795436,Obs=10.4423,dM=0.03893035204563944\n",
      "BD+20 2007:Teo=9.831578774493131,Obs=9.7906,dM=0.04097877449313181\n",
      "BD+20 2005:Teo=8.708465595281524,Obs=8.6293,dM=0.07916559528152334\n",
      "BD+21 1766:Teo=8.312023963832225,Obs=8.3523,dM=0.040276036167774976\n",
      "BD+21 1779:Teo=8.918349790545427,Obs=8.9471,dM=0.028750209454573294\n",
      "BD+21 1777:Teo=9.622782118746109,Obs=9.6792,dM=0.05641788125389091\n",
      "TYC 1385-899-1:Teo=10.049968503648941,Obs=10.0131,dM=0.03686850364894134\n",
      "TYC 1385-939-1:Teo=10.359961545878686,Obs=10.3526,dM=0.00736154587868576\n",
      "Mean magnitude fit error:0.04109361227802011\n"
     ]
    }
   ],
   "source": [
    "#Minimize\n",
    "solution=minimize(chiSquare,coefs,args=(stars,False),tol=1e-5)\n",
    "print(solution)\n",
    "\n",
    "#Test Solution\n",
    "chisq,dGs=chiSquare(solution.x,stars,verbose=True)\n",
    "dG=np.mean(dGs)\n",
    "print(f\"Mean magnitude fit error:{dG}\")"
   ]
  },
  {
   "cell_type": "code",
   "execution_count": 16,
   "metadata": {},
   "outputs": [
    {
     "name": "stdout",
     "output_type": "stream",
     "text": [
      "Magnitude without exposure correction: 11.608517707928296\n"
     ]
    }
   ],
   "source": [
    "m=Gmag(solution.x,impact[\"Red\"],impact[\"Blue\"],impact[\"Green\"],impact[\"Row\"],impact[\"Col\"])\n",
    "print(f\"Magnitude without exposure correction:\",m)"
   ]
  },
  {
   "cell_type": "code",
   "execution_count": 17,
   "metadata": {},
   "outputs": [
    {
     "name": "stdout",
     "output_type": "stream",
     "text": [
      "Total average G mag of the flash: 7.048745855567499\n"
     ]
    }
   ],
   "source": [
    "#Exposure time of the reference stars\n",
    "TEXP=20.0\n",
    "#Corrected magnitude by exposure\n",
    "G=m-2.5*np.log10(TEXP/IMPACT_FLASH)\n",
    "print(f\"Total average G mag of the flash: {G}\")"
   ]
  },
  {
   "cell_type": "markdown",
   "metadata": {},
   "source": [
    "## Energy of the impact"
   ]
  },
  {
   "cell_type": "code",
   "execution_count": 18,
   "metadata": {},
   "outputs": [
    {
     "name": "stdout",
     "output_type": "stream",
     "text": [
      "Luminous energy (log): 7.119390533114319 +/- 0.041505464974669934\n"
     ]
    }
   ],
   "source": [
    "#Luminous energy\n",
    "f=2\n",
    "Er=NG*10**((-G+G0)/2.5)*DLAMBDA*f*np.pi*(MOON_DISTANCE*1e3)**2\n",
    "logEr=np.log10(Er)\n",
    "dlogEr=dG/G*logEr\n",
    "print(f\"Luminous energy (log): {logEr} +/- {dlogEr}\")"
   ]
  },
  {
   "cell_type": "code",
   "execution_count": 19,
   "metadata": {},
   "outputs": [],
   "source": [
    "#Luminous efficiency\n",
    "logeta_min=np.log10(1.8e-3)\n",
    "logeta_max=np.log10(3.4e-3)\n",
    "logeta_mean=(logeta_min+logeta_max)/2\n",
    "dlogeta=logeta_mean-logeta_min"
   ]
  },
  {
   "cell_type": "code",
   "execution_count": 20,
   "metadata": {},
   "outputs": [
    {
     "name": "stdout",
     "output_type": "stream",
     "text": [
      "Kinetic energy (log): 9.726014822041538 +/- 0.14420540600757878\n",
      "Range of kinetic energy in tons: 0.9124682045701461-1.7726726827750534 tons of TNT\n"
     ]
    }
   ],
   "source": [
    "#Kinetic energy\n",
    "logK=logEr-logeta_mean\n",
    "dlogK=np.sqrt(dlogEr**2+dlogeta**2)\n",
    "print(f\"Kinetic energy (log): {logK} +/- {dlogK}\")\n",
    "print(f\"Range of kinetic energy in tons: {10**(logK-dlogK)/TTNT}-{10**(logK+dlogK)/TTNT} tons of TNT\")"
   ]
  },
  {
   "cell_type": "markdown",
   "metadata": {},
   "source": [
    "## Meteoroid and crater size"
   ]
  },
  {
   "cell_type": "markdown",
   "metadata": {},
   "source": [
    "### Random values of primary quantities "
   ]
  },
  {
   "cell_type": "code",
   "execution_count": 21,
   "metadata": {},
   "outputs": [],
   "source": [
    "#Generate random values of the key quantities\n",
    "N=1000\n",
    "#Random kinetic energy\n",
    "logKs=np.random.normal(logK,dlogK,N)\n",
    "Ks=10**logKs\n",
    "#Random impact speed\n",
    "vrs=randomX(vimps,pvs,N)\n",
    "#Random impact angle\n",
    "thetas=randomX(angles,pas,N)\n",
    "#Random densities\n",
    "u=np.random.rand(N)\n",
    "rhos=np.zeros(N)\n",
    "rhos[(u<0.01)]=1000\n",
    "rhos[(u>=0.01)*(u<0.59)]=2500\n",
    "rhos[(u>=0.59)]=3700"
   ]
  },
  {
   "cell_type": "markdown",
   "metadata": {},
   "source": [
    "### Derived quantities"
   ]
  },
  {
   "cell_type": "code",
   "execution_count": 22,
   "metadata": {},
   "outputs": [],
   "source": [
    "#Mass\n",
    "Ms=2*Ks/(vrs*1e3)**2\n",
    "logMs=np.log10(Ms)\n",
    "#Diameter\n",
    "Ds=2*(3*Ms/(3*np.pi*rhos))**(1./3)\n",
    "#Crater diameter\n",
    "dcs=0.25*rhos**(1./6.)*RHO_REG**(-0.5)*Ks**0.29*(np.sin(thetas*DEG))**(1./3.)"
   ]
  },
  {
   "cell_type": "code",
   "execution_count": 23,
   "metadata": {},
   "outputs": [
    {
     "name": "stdout",
     "output_type": "stream",
     "text": [
      "Median impactor mass: 55.10002503913701 kg\n",
      "Median impactor diameter: 0.36299161556502063 m\n",
      "Median crater size: 10.421355337417669 m\n"
     ]
    }
   ],
   "source": [
    "#Basic statistics\n",
    "print(f\"Median impactor mass: {np.percentile(Ms,50)} kg\")\n",
    "print(f\"Median impactor diameter: {np.percentile(Ds,50)} m\")\n",
    "print(f\"Median crater size: {np.percentile(dcs,50)} m\")"
   ]
  },
  {
   "cell_type": "markdown",
   "metadata": {},
   "source": [
    "### Posterior probability distributions"
   ]
  },
  {
   "cell_type": "code",
   "execution_count": 24,
   "metadata": {},
   "outputs": [
    {
     "name": "stdout",
     "output_type": "stream",
     "text": [
      "Generating statistics of logMs...\n"
     ]
    },
    {
     "name": "stderr",
     "output_type": "stream",
     "text": [
      "/Users/jzuluaga/anaconda/lib/python3.6/site-packages/ipykernel_launcher.py:1: VisibleDeprecationWarning: Passing `normed=True` on non-uniform bins has always been broken, and computes neither the probability density function nor the probability mass function. The result is only correct if the bins are uniform, when density=True will produce the same result anyway. The argument will be removed in a future version of numpy.\n",
      "  \"\"\"Entry point for launching an IPython kernel.\n"
     ]
    },
    {
     "name": "stdout",
     "output_type": "stream",
     "text": [
      "\tValue: $\\log(M)$$=1.7^{+0.40}_{-0.36}$ [kg]\n",
      "\tCreating figure file .//figures/grt-20190121044138-7AE3F0//l21j-logMs-ppd.png\n",
      "Generating statistics of Ds...\n",
      "\tValue: $D$$=0.4^{+0.10}_{-0.12}$ m\n",
      "\tCreating figure file .//figures/grt-20190121044138-7AE3F0//l21j-Ds-ppd.png\n",
      "Generating statistics of dcs...\n",
      "\tValue: $d$$=10.4^{+4.01}_{-2.88}$ m\n",
      "\tCreating figure file .//figures/grt-20190121044138-7AE3F0//l21j-dcs-ppd.png\n"
     ]
    },
    {
     "data": {
      "image/png": "[encoded data removed]",
      "text/plain": [
       "<matplotlib.figure.Figure at 0x18239ed630>"
      ]
     },
     "metadata": {
      "needs_background": "light"
     },
     "output_type": "display_data"
    },
    {
     "data": {
      "image/png": "[encoded data removed]",
      "text/plain": [
       "<matplotlib.figure.Figure at 0x18229426a0>"
      ]
     },
     "metadata": {
      "needs_background": "light"
     },
     "output_type": "display_data"
    },
    {
     "data": {
      "image/png": "[encoded data removed]",
      "text/plain": [
       "<matplotlib.figure.Figure at 0x182380ba20>"
      ]
     },
     "metadata": {
      "needs_background": "light"
     },
     "output_type": "display_data"
    }
   ],
   "source": [
    "properties=[\n",
    "    dict(name=\"$\\log(M)$\",units=\"[kg]\",symbol=\"logMs\",xlabel=r\"$\\log(M/{\\rm kg})$\",ylabel=r\"$p(\\log M)$\"),\n",
    "    dict(name=\"$D$\",units=\"m\",symbol=\"Ds\",xlabel=r\"$D$ (m)\",ylabel=r\"$p(D)$\"),\n",
    "    dict(name=\"$d$\",units=\"m\",symbol=\"dcs\",xlabel=r\"$d$ (m)\",ylabel=r\"$p(d)$\"),\n",
    "]\n",
    "plt.ioff()\n",
    "for q in properties[:]:\n",
    "    \n",
    "    print(f\"Generating statistics of {q['symbol']}...\")\n",
    "    \n",
    "    #Statistics\n",
    "    exec(f\"vs=deepcopy({q['symbol']})\")\n",
    "    exec(f\"hs,xs=np.histogram({q['symbol']},100,normed=True)\")\n",
    "    xms=(xs[1:]+xs[:-1])/2\n",
    "    #Error\n",
    "    x1,xm,x2=np.percentile(vs,[15,50,85])\n",
    "    mv=xm-x1;pv=x2-xm\n",
    "    x1,xm,x2\n",
    "\n",
    "    #Plot distributions\n",
    "    fig=plt.figure()\n",
    "    ax=fig.gca()\n",
    "    ax.step(xms,hs,color='r',lw=2)\n",
    "\n",
    "    ax.set_xlabel(q[\"xlabel\"],fontsize=14)\n",
    "    ax.set_ylabel(q[\"ylabel\"],fontsize=14)\n",
    "\n",
    "    ax.axvspan(x1,xm,color='k',alpha=0.3)\n",
    "    ax.axvline(xm,color='k',lw=2)\n",
    "    ax.axvspan(xm,x2,color='k',alpha=0.3)\n",
    "\n",
    "    value=r\"%s$=%.1lf^{+%.2lf}_{-%.2f}$ %s\"%(q[\"name\"],xm,mv,pv,q[\"units\"])\n",
    "    print(f\"\\tValue: {value}\")\n",
    "    ax.text(0.5,0.1,value,\n",
    "            transform=ax.transAxes,ha='center',va='center',fontsize=14,bbox=dict(facecolor='lightgray'))\n",
    "\n",
    "    ymin,ymax=ax.get_ylim()\n",
    "    ax.set_ylim((0,ymax))\n",
    "    ax.set_xlim((x1-2*mv,x2+2*pv))\n",
    "    fname=f\"{IMPACT_FIGDIR}/l21j-{q['symbol']}-ppd.png\"\n",
    "    print(f\"\\tCreating figure file {fname}\")\n",
    "    fig.savefig(fname)\n",
    "    fig.tight_layout()\n",
    "    del(fig)"
   ]
  },
  {
   "cell_type": "code",
   "execution_count": null,
   "metadata": {},
   "outputs": [],
   "source": []
  }
 ],
 "metadata": {
  "kernelspec": {
   "display_name": "Python 3",
   "language": "python",
   "name": "python3"
  },
  "language_info": {
   "codemirror_mode": {
    "name": "ipython",
    "version": 3
   },
   "file_extension": ".py",
   "mimetype": "text/x-python",
   "name": "python",
   "nbconvert_exporter": "python",
   "pygments_lexer": "ipython3",
   "version": "3.6.0"
  }
 },
 "nbformat": 4,
 "nbformat_minor": 2
}
