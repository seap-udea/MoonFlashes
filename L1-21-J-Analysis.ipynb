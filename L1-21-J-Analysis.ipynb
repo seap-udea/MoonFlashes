{
 "cells": [
  {
   "cell_type": "markdown",
   "metadata": {
    "colab_type": "text",
    "id": "WZID_uHPnHSy"
   },
   "source": [
    "# Analysis of the L1-21J impact event on the Moon"
   ]
  },
  {
   "cell_type": "markdown",
   "metadata": {
    "colab_type": "text",
    "id": "sI89EzO-nHS1"
   },
   "source": [
    "*\"Location, orbit and energy of a meteoroid impacting the moon during the Lunar Eclipse of January 21, 2019* by Jorge I. Zuluaga, Pablo A. Cuartas, Jonathan Ospina, Matipon Tangmatitham, Sergio López, Fritz Pichardo & Karl Peña"
   ]
  },
  {
   "cell_type": "code",
   "execution_count": 1,
   "metadata": {
    "colab": {},
    "colab_type": "code",
    "id": "LdsimnGiwWNI"
   },
   "outputs": [],
   "source": [
    "BDIR=\"./\""
   ]
  },
  {
   "cell_type": "markdown",
   "metadata": {
    "colab_type": "text",
    "id": "ASf8eN0znvza"
   },
   "source": [
    "## Preparing the Environment\n",
    "\n",
    "Please skip if you are working on a Jupyter environment"
   ]
  },
  {
   "cell_type": "code",
   "execution_count": 4,
   "metadata": {
    "colab": {},
    "colab_type": "code",
    "id": "_AAT4Ykhn1Fy"
   },
   "outputs": [],
   "source": [
    "#ENVIRONMENT=\"Colaboratory\"\n",
    "ENVIRONMENT=\"Jupyter\"\n",
    "DATADIR=\"MoonFlashes\""
   ]
  },
  {
   "cell_type": "code",
   "execution_count": 5,
   "metadata": {
    "colab": {
     "base_uri": "https://localhost:8080/",
     "height": 51
    },
    "colab_type": "code",
    "executionInfo": {
     "elapsed": 2805,
     "status": "ok",
     "timestamp": 1554755259974,
     "user": {
      "displayName": "Matipon Tangmatitham",
      "photoUrl": "https://lh6.googleusercontent.com/-Z1Oy2xmUBk0/AAAAAAAAAAI/AAAAAAAAAEA/mmGv3PZGxHE/s64/photo.jpg",
      "userId": "17207820507831638312"
     },
     "user_tz": 240
    },
    "id": "utOfzl0_nizl",
    "outputId": "6afd30a0-bff9-4560-c605-e9a389cfcfcf"
   },
   "outputs": [
    {
     "name": "stdout",
     "output_type": "stream",
     "text": [
      "Home, sweet home\n"
     ]
    }
   ],
   "source": [
    "if ENVIRONMENT==\"Colaboratory\":\n",
    "  try:\n",
    "    import spiceypy\n",
    "  except:\n",
    "    !pip install spiceypy\n",
    "  from google.colab import drive,files\n",
    "  drive.mount('/content/gdrive')\n",
    "  \n",
    "  BDIR=f\"gdrive/My Drive/{DATADIR}/\"\n",
    "else:\n",
    "  BDIR=\"./\"\n",
    "from glob import glob \n",
    "if len(glob(f\"{BDIR}/data\"))==0:\n",
    "  print(\"You are not in the proper directory.  Please correct\")\n",
    "else:\n",
    "  print(\"Home, sweet home\")"
   ]
  },
  {
   "cell_type": "markdown",
   "metadata": {
    "colab_type": "text",
    "id": "JMRUY8Slvxmz"
   },
   "source": [
    "## External modules, constants and useful routines"
   ]
  },
  {
   "cell_type": "markdown",
   "metadata": {
    "colab_type": "text",
    "id": "N2gcQ9elvSbk"
   },
   "source": [
    "### External modules and macros"
   ]
  },
  {
   "cell_type": "code",
   "execution_count": 6,
   "metadata": {
    "colab": {},
    "colab_type": "code",
    "id": "AbcuOXVTnHS5"
   },
   "outputs": [],
   "source": [
    "###################################################################\n",
    "#EXTERNAL MODULES\n",
    "###################################################################\n",
    "import numpy as np\n",
    "from matplotlib import pyplot as plt\n",
    "from matplotlib.ticker import ScalarFormatter\n",
    "import pandas as pd\n",
    "from scipy.optimize import minimize\n",
    "from scipy import optimize\n",
    "from scipy.interpolate import interp1d as interpolate\n",
    "from scipy.integrate import quad as integrate\n",
    "import statistics as stats\n",
    "import spiceypy as spy\n",
    "from copy import deepcopy\n",
    "from tqdm import tqdm\n",
    "from collections import OrderedDict\n",
    "import math\n",
    "\n",
    "if ENVIRONMENT==\"Colaboratory\":\n",
    "    %matplotlib inline\n",
    "else:\n",
    "    %matplotlib nbagg\n",
    "\n",
    "###################################################################\n",
    "#INITIALIZE SPICE\n",
    "###################################################################\n",
    "spy.furnsh(BDIR+\"kernels/de430.bsp\")\n",
    "spy.furnsh(BDIR+\"kernels/naif0012.tls\")\n",
    "spy.furnsh(BDIR+\"kernels/pck00010.tpc\")\n",
    "spy.furnsh(BDIR+\"kernels/moon_pa_de421_1900-2050.bpc\")\n",
    "\n",
    "#Useful package routines\n",
    "norm=np.linalg.norm"
   ]
  },
  {
   "cell_type": "markdown",
   "metadata": {
    "colab_type": "text",
    "id": "m8ehV4yYnHS_"
   },
   "source": [
    "### Constants and Macros"
   ]
  },
  {
   "cell_type": "code",
   "execution_count": 7,
   "metadata": {
    "colab": {
     "base_uri": "https://localhost:8080/",
     "height": 136
    },
    "colab_type": "code",
    "executionInfo": {
     "elapsed": 2783,
     "status": "ok",
     "timestamp": 1554755259977,
     "user": {
      "displayName": "Matipon Tangmatitham",
      "photoUrl": "https://lh6.googleusercontent.com/-Z1Oy2xmUBk0/AAAAAAAAAAI/AAAAAAAAAEA/mmGv3PZGxHE/s64/photo.jpg",
      "userId": "17207820507831638312"
     },
     "user_tz": 240
    },
    "id": "3Mz015AGnHTB",
    "outputId": "0b182e65-8af0-470c-f987-ae99655cbfc8"
   },
   "outputs": [
    {
     "name": "stdout",
     "output_type": "stream",
     "text": [
      "Time of the eclipse: 01/21/2019 (TDB = 601317698.0, Delta t = 69.18449230785387\n",
      "Moon distance at the time of impact (km): 357745.19348597113\n",
      "Moon equatorial radius (km): 1737.4\n",
      "Position of the Moon as seen from Earth: (8.166039257679454, 20.436535879618923)\n",
      "Position of the Earth as seen from the moon: (20.166039257679454, -20.436535879618923)\n",
      "Earth shape (km): RE = 6378.1366 km , 1/f = 298.25700617731906\n",
      "log(eta) = -2.6066242889272195+/-0.13810320596947445\n"
     ]
    }
   ],
   "source": [
    "###################################################################\n",
    "#NUMERICAL\n",
    "###################################################################\n",
    "#Angle conversion\n",
    "DEG=np.pi/180\n",
    "RAD=1/DEG\n",
    "\n",
    "###################################################################\n",
    "#PHYSICAL \n",
    "###################################################################\n",
    "#Tons of TNT\n",
    "TTNT=4.184e9 #J\n",
    "\n",
    "#Regolith density\n",
    "RHO_REG=1600 #kg/m^3\n",
    "\n",
    "#Density of bodies\n",
    "RHO_COMET=1000\n",
    "P_COMET=0.01\n",
    "RHO_ROCKY=2500\n",
    "P_ROCKY=0.59\n",
    "RHO_METAL=3700\n",
    "P_METAL=1-P_COMET-P_ROCKY\n",
    "\n",
    "###################################################################\n",
    "#IMPACT DATA\n",
    "###################################################################\n",
    "IMPACT_DATA=\"L1-21J\"\n",
    "IMPACT_SUFFIX=\"lat_-2.94288e+01__lon_-6.81674e+01\"\n",
    "IMPACT_FIGDIR=f\"{BDIR}/data/{IMPACT_DATA}\"\n",
    "IMPACT_LOC=dict(\n",
    "    lon=-29.428816, #degrees, 29°25'43.74\"S\n",
    "    lat=-68.167435, #degrees, 68°10'2.77\"O\n",
    "    alt=0.510 #km\n",
    ")\n",
    "IMPACT_FLASH=0.30\n",
    "IMPACT_DATE=\"01/21/2019\"\n",
    "IMPACT_TIME=\"04:41:38 UTC\"\n",
    "\n",
    "#Ephemeris Time\n",
    "t=spy.str2et(IMPACT_DATE+\" \"+IMPACT_TIME)\n",
    "dt=spy.deltet(t,\"et\")\n",
    "IMPACT_ET=t-dt\n",
    "print(f\"Time of the eclipse: {IMPACT_DATE} (TDB = {IMPACT_ET}, Delta t = {dt}\")\n",
    "\n",
    "#Sideral time at the moment of the impact\n",
    "GST=12.71279 #H\n",
    "\n",
    "###################################################################\n",
    "#ASTRONOMICAL CONDITIONS\n",
    "###################################################################\n",
    "moonpos,tf=spy.spkezr(\"MOON\",IMPACT_ET,\"J2000\",\"NONE\",\"EARTH\")\n",
    "MOON_DISTANCE=norm(moonpos[:4]) #km\n",
    "print(f\"Moon distance at the time of impact (km): {MOON_DISTANCE}\")\n",
    "\n",
    "#Moon size\n",
    "n,rs=spy.bodvrd(\"MOON\",\"RADII\",3)\n",
    "RMOON=rs[0]\n",
    "FMOON=0.0\n",
    "print(f\"Moon equatorial radius (km): {RMOON}\")\n",
    "\n",
    "#Location of the Moon in the sky\n",
    "r,RA_MOON,DEC_MOON=spy.reclat(moonpos[:3])\n",
    "RA_MOON=24+RA_MOON*RAD/15 if RA_MOON<0 else RA_MOON*RAD/15\n",
    "DEC_MOON*=RAD\n",
    "print(f\"Position of the Moon as seen from Earth: {RA_MOON,DEC_MOON}\")\n",
    "\n",
    "#Moon reference frame matrix transformation\n",
    "Moon2j2000=spy.pxform(\"IAU_MOON\",\"J2000\",IMPACT_ET)\n",
    "\n",
    "#Location of the Earth at the time of the eclipse\n",
    "r,RA_EARTH,DEC_EARTH=spy.reclat(-moonpos[:3])\n",
    "RA_EARTH=24+RA_EARTH*RAD/15 if RA_EARTH<0 else RA_EARTH*RAD/15\n",
    "DEC_EARTH*=RAD\n",
    "print(f\"Position of the Earth as seen from the moon: {RA_EARTH,DEC_EARTH}\")\n",
    "\n",
    "#Earth size\n",
    "n,rs=spy.bodvrd(\"EARTH\",\"RADII\",3)\n",
    "REARTH=rs[0]\n",
    "FEARTH=(rs[0]-rs[2])/rs[0]\n",
    "print(f\"Earth shape (km): RE = {REARTH} km , 1/f = {1/FEARTH}\")\n",
    "\n",
    "###################################################################\n",
    "#OTHER NUMERICAL CONSTANTS\n",
    "###################################################################\n",
    "#Filter calibration, http://svo2.cab.inta-csic.es/svo/theory/fps3/index.php\n",
    "NG=2.500e-11 #W/m^2/nm\n",
    "G0=0.03\n",
    "DLAMBDA=420.360 #Weff, nm\n",
    "\n",
    "\n",
    "###################################################################\n",
    "#LUMINOUS EFFICIENCY\n",
    "###################################################################\n",
    "eta_min=1.8e-3\n",
    "eta_max=3.4e-3\n",
    "logeta_min=np.log10(eta_min)\n",
    "logeta_max=np.log10(eta_max)\n",
    "logeta_mean=(logeta_min+logeta_max)/2\n",
    "dlogeta=logeta_mean-logeta_min\n",
    "print(f\"log(eta) = {logeta_mean}+/-{dlogeta}\")\n",
    "\n",
    "#Plate constants\n",
    "PLATECONST=[-1.e-6,-1.e-7,8.16,-1.e-5,-1.e-4,19.7] \n",
    "PHOTOMETRY_COEFS=np.array([23.66200566,  0.42782257,  -5.9073529 ,1.73859671 ])\n",
    "\n",
    "#REF_LUNARSITE=\"L1-21J\"\n",
    "REF_LUNARSITE=\"Moon Center\"\n",
    "CENTER_LUNARSITE=\"Moon Center\""
   ]
  },
  {
   "cell_type": "markdown",
   "metadata": {
    "colab_type": "text",
    "id": "2O_5P6XevSbt"
   },
   "source": [
    "### Routines"
   ]
  },
  {
   "cell_type": "code",
   "execution_count": 8,
   "metadata": {
    "colab": {},
    "colab_type": "code",
    "id": "UxzMQ-8wvSbt"
   },
   "outputs": [],
   "source": [
    "###################################################################\n",
    "#ROUTINES\n",
    "###################################################################\n",
    "def val2Exp(value,fmt=\"%.1f\",text=False):\n",
    "    sgn=np.sign(value)\n",
    "    pot=np.floor(np.log10(np.abs(value)))\n",
    "    man=value/10**pot\n",
    "    man=fmt%man\n",
    "    pot=\"%d\"%pot\n",
    "    if text:return f\"%s\\EE%s\"%(man,pot)\n",
    "    return man,pot\n",
    "\n",
    "def str2vec(str):\n",
    "    v=np.array([float(x) for x in str.split(\" \")])\n",
    "    return v\n",
    "\n",
    "def angle(u,v):\n",
    "    return np.arccos(np.dot(u,v)/(norm(u)*norm(v)))*180/np.pi\n",
    "\n",
    "def randomX(xs,ps,N=100):\n",
    "    \"\"\"\n",
    "        Generate random values of x given a normalized histogram (ps)\n",
    "    \"\"\"\n",
    "    Ps=np.array([ps[:i].sum() for i in range(len(ps))])\n",
    "    Fi=interpolate(Ps,xs)\n",
    "    u=np.random.rand(N,1)\n",
    "    us=Ps.min()+u*(Ps.max()-Ps.min())\n",
    "    xrs=Fi(us)\n",
    "    return xrs\n",
    "\n",
    "def ipercs(xs,ps,qpercs):\n",
    "    Ps=np.array([ps[:i].sum() for i in range(len(ps))])\n",
    "    fi=interpolate(Ps,xs)\n",
    "    return fi(np.array(qpercs)/100.0)\n",
    "\n",
    "def Gmag(coefs,r=1,g=1,b=1,x=1,y=1):\n",
    "    \"\"\"\n",
    "    coefs: Coefficients\n",
    "    r,g,b: Counts in each band\n",
    "    \"\"\"\n",
    "    mG=coefs[0]+coefs[1]*np.log10(r)+coefs[2]*np.log10(g)+coefs[3]*np.log10(b)\n",
    "    return mG                                         \n",
    "\n",
    "def chiSquare(coefs,stars=None,verbose=False):\n",
    "    chisq=0\n",
    "    dGs=[]\n",
    "    for ind in stars.index[1:]:\n",
    "        star=stars.loc[ind]\n",
    "        Gteo=Gmag(coefs,star[\"Red\"],star[\"Blue\"],star[\"Green\"])\n",
    "        Gobs=float(star[\"G\"])\n",
    "        dGs+=[np.abs(Gteo-Gobs)]\n",
    "        if verbose:print(f\"{star['Starname']}:Teo={Gteo},Obs={Gobs},dM={dGs[-1]}\")\n",
    "        dG=0.05\n",
    "        chisq+=(Gteo-Gobs)**2/dG**2\n",
    "    if verbose:return chisq,dGs\n",
    "    return chisq\n",
    "                         \n",
    "#Convert Az,h into RA, DEC at a location lon,lat,alt on the moon\n",
    "def loc2Sky(et,Az,h,lon,lat,alt,bodyid=\"MOON\",frameid=\"IAU_MOON\"):\n",
    "    \"\"\"\n",
    "    Az,h,lon,lat in degress.\n",
    "    alt in km.\n",
    "    \n",
    "    Return RA(deg) and DEC(deg)\n",
    "    \n",
    "    Example: \n",
    "        Az=29.9670;h=19.2504\n",
    "        loc2Sky(et,Az,h,LON_MOON,LAT_MOON,ALT_MOON,\"MOON\",\"IAU_MOON\")\n",
    "    \"\"\"\n",
    "    #Rectangular position\n",
    "    r_local=spy.latrec(1,Az*DEG,h*DEG)\n",
    "    \n",
    "    #Size of the object\n",
    "    n,rs=spy.bodvrd(\"MOON\",\"RADII\",3)\n",
    "    Re=rs[0];Rp=rs[2]\n",
    "    f=(Re-Rp)/Re\n",
    "    geopos=spy.georec(lon*DEG,lat*DEG,alt,Re,f)\n",
    "\n",
    "    #Local to Body reference frame transformation\n",
    "    normal=spy.surfnm(Re,Re,Rp,geopos)\n",
    "    uy=spy.ucrss(np.array([0,0,1]),normal)\n",
    "    ux=spy.ucrss(normal,uy)\n",
    "    Local2Body=np.array(np.vstack((ux,uy,normal)).transpose().tolist())\n",
    "    \n",
    "    #Body to J2000\n",
    "    Body2j2000=spy.pxform(frameid,\"J2000\",et)\n",
    "    \n",
    "    #Transform vector from local to IAU moon\n",
    "    r_body=spy.mxv(Local2Body,r_local)\n",
    "    r_j2000=spy.mxv(Body2j2000,r_body)\n",
    "\n",
    "    #J2000 coordinates\n",
    "    r,RA,DEC=spy.reclat(r_j2000)\n",
    "    RA=RA+2*np.pi if RA<0 else RA\n",
    "    return RA*RAD,DEC*RAD   \n",
    "\n",
    "def getradec(plateconst,x,y,xcen,ycen):\n",
    "    \"\"\"\n",
    "    Get (RA,Dec) relative to center of frame from (X,Y) given plate constant parameters\n",
    "    \"\"\"\n",
    "    dec = plateconst[3]*(x-xcen)+plateconst[4]*(y-ycen)+plateconst[5]\n",
    "    ra = 15*math.cos(math.radians(dec))*(plateconst[0]*(x-xcen)-plateconst[1]*(y-ycen))+plateconst[2]\n",
    "    return ra,dec\n",
    "                         \n",
    "def distsq(plateconst,stars=None,verbose=False):\n",
    "    \"\"\"\n",
    "    Calculate distance squared for positions given plate constant and star coordinates\n",
    "    \"\"\"\n",
    "    distsq=0\n",
    "    drasq=[]\n",
    "    ddecsq=[]\n",
    "    center=stars.loc[stars[\"ObjName\"]==REF_LUNARSITE].iloc[0]\n",
    "    for ind,star in stars.loc[stars[\"type\"]==\"Star\"].iterrows():\n",
    "        ra,dec=getradec(plateconst,star[\"X\"],star[\"Y\"],center[\"X\"],center[\"Y\"])\n",
    "        drasq+=[(15*math.cos(math.radians(dec))*(ra-star[\"RA\"]))**2]\n",
    "        ddecsq+=[(dec-star[\"DEC\"])**2]\n",
    "        distsq+=drasq[-1]+ddecsq[-1]\n",
    "    if verbose:return distsq,drasq,ddecsq\n",
    "    return distsq\n",
    "\n",
    "def selenographictoradec(params,lat,lon):\n",
    "    \"\"\"\n",
    "    Get (RA,Dec) given selenographic coordinate (lat,lon)\n",
    "    \"\"\"\n",
    "    ra = params[0]*math.sin(math.radians(lon-params[6]))*math.cos(math.radians(lat-params[7]))+params[1]*math.sin(math.radians(lat-params[7]))+params[2]\n",
    "    dec = params[3]*math.sin(math.radians(lon-params[6]))*math.cos(math.radians(lat-params[7]))+params[4]*math.sin(math.radians(lat-params[7]))+params[5]\n",
    "    #print(\"\\t\",params,lat,lon,ra,dec)\n",
    "    return ra,dec\n",
    "\n",
    "def selenerr(coord,raref,decref,params):\n",
    "    \"\"\"\n",
    "    Calculates the error between selenographictoradec conversion and (raref,decref) given params\n",
    "    \"\"\"\n",
    "    ra,dec=selenographictoradec(params,coord[0],coord[1])\n",
    "    return math.cos(math.radians(dec))**2*(15*(ra-raref))**2+(dec-decref)**2\n",
    "    \n",
    "def selensq(params,site=None,lunarsites=None,verbose=False):\n",
    "    \"\"\"\n",
    "    Calculate Error Squared for each RA,Dec conversion from selenographic coordinate\n",
    "    \"\"\"\n",
    "    selensq=0\n",
    "    srasq=[]\n",
    "    sdecsq=[]\n",
    "    \n",
    "    objs=site[\"data\"]\n",
    "    locations=objs.loc[objs[\"type\"]==\"Moon\"]\n",
    "    \n",
    "    for ind in locations.index[2:]:\n",
    "        location=locations.loc[ind]\n",
    "        locname=location[\"ObjName\"]\n",
    "        sra=location[\"RA\"]\n",
    "        sdec=location[\"DEC\"]\n",
    "        lunarsite=lunarsites.loc[lunarsites[\"LunarSite\"]==locname].iloc[0]\n",
    "        ra,dec=selenographictoradec(params,lunarsite[\"slat\"],lunarsite[\"slon\"])\n",
    "        srasq+=[(15*(ra-sra)*np.cos(dec*DEG))**2]\n",
    "        sdecsq+=[(dec-sdec)**2]\n",
    "        selensq+=srasq[-1]+sdecsq[-1]\n",
    "        if verbose and False:\n",
    "            print(ind)\n",
    "            print(\"\\t\",lunarsite[\"slat\"],lunarsite[\"slon\"])\n",
    "            print(\"\\t\",sra,sdec)\n",
    "            print(\"\\t\",ra,dec)\n",
    "            print(\"\\t\",srasq[-1],sdecsq[-1])\n",
    "    if verbose: return selensq,srasq,sdecsq\n",
    "    return selensq\n",
    "                         \n",
    "def apparentSkyPosition(parallaxconst,lat,lon,alt,gst=GST):\n",
    "    \"\"\"\n",
    "    Get apparent coordinate (RA,Dec) of observer at (lat,lon,ele) given the \n",
    "    parallaxconst=(moon distance in Earth radii,geocentric RA,geocentric Dec)\n",
    "    \"\"\"\n",
    "    LST=gst+lon/15\n",
    "    HA=(LST-parallaxconst[1])*15\n",
    "\n",
    "    #Distance\n",
    "    pos=spy.georec(lon*DEG,lat*DEG,alt/1000,REARTH,FEARTH)\n",
    "    rho=norm(pos)/REARTH\n",
    "    #print(rho*np.cos(lat*DEG),rho*np.sin(lat*DEG))\n",
    "    rhosin=0.996647*np.sin(np.arctan(0.996647*np.tan(lat*DEG)))+alt/(REARTH*1000)*np.sin(lat*DEG)\n",
    "    rhocos=np.cos(np.arctan(0.996647*np.tan(lat*DEG)))+alt/(REARTH*1000)*np.cos(lat*DEG)\n",
    "    #print(rhocos,rhosin)\n",
    "    \n",
    "    #Difference between apparent and true right ascension\n",
    "    #deltara=np.arctan((rho*np.cos(lat*DEG)*np.sin(HA*DEG))/(parallaxconst[0]*np.cos(parallaxconst[2]*DEG)-\\\n",
    "    #                                                     rho*np.cos(lat*DEG)*np.cos(HA*DEG)))*RAD\n",
    "    deltara=np.arctan((rhocos*np.sin(HA*DEG))/(parallaxconst[0]*np.cos(parallaxconst[2]*DEG)-rhocos*np.cos(HA*DEG)))*RAD\n",
    "    ra=parallaxconst[1]-deltara/15\n",
    "    \n",
    "    #Apparent declination\n",
    "    #dec=np.arctan(np.cos((HA+deltara)*DEG)*\\\n",
    "    #              (parallaxconst[0]*np.sin(parallaxconst[2]*DEG)-rho*np.sin(lat*DEG))/\\\n",
    "    #              (parallaxconst[0]*np.cos(parallaxconst[2]*DEG)*np.cos(HA*DEG)-rho*np.cos(lat*DEG)))*RAD\n",
    "    dec=np.arctan(np.cos((HA+deltara)*DEG)*\\\n",
    "                  (parallaxconst[0]*np.sin(parallaxconst[2]*DEG)-rhosin)/\\\n",
    "                   (parallaxconst[0]*np.cos(parallaxconst[2]*DEG)*np.cos(HA*DEG)-rhocos))*RAD\n",
    "    return ra,dec\n",
    "\n",
    "\n",
    "def parallaxsq(parallaxconst,sites=None,location=None,verbose=False):\n",
    "    \"\"\"\n",
    "    Calculate Error Squared for each parallax correction\n",
    "    \"\"\"\n",
    "    parallaxsq=0\n",
    "    prasq=[]\n",
    "    pdecsq=[]\n",
    "    for key,site in sites.items():\n",
    "        objs=site[\"data\"]\n",
    "        loc=objs.loc[objs[\"ObjName\"]==location].iloc[0]\n",
    "        ra,dec=apparentSkyPosition(parallaxconst,site[\"lat\"],site[\"lon\"],site[\"alt\"])\n",
    "        prasq+=[(15*np.cos(dec*DEG)*(ra-loc[\"RA\"]))**2]\n",
    "        pdecsq+=[(dec-loc[\"DEC\"])**2]\n",
    "        parallaxsq+=prasq[-1]+pdecsq[-1]\n",
    "    if verbose: return parallaxsq,prasq,pdecsq\n",
    "    return parallaxsq\n",
    "                         \n",
    "def Gmag(coefs,r=1,g=1,b=1):\n",
    "    \"\"\"\n",
    "    coefs: Coefficients\n",
    "    r,g,b: Counts in each band\n",
    "    \"\"\"\n",
    "    mG=coefs[0]+coefs[1]*np.log10(r)+coefs[2]*np.log10(g)+coefs[3]*np.log10(b)\n",
    "    return mG                                         \n",
    "\n",
    "def chiSquare(coefs,stars=None,verbose=False):\n",
    "    chisq=0\n",
    "    dGs=[]\n",
    "    for ind in stars.index:\n",
    "        star=stars.loc[ind]\n",
    "        Gteo=Gmag(coefs,star[\"CountsR\"],star[\"CountsG\"],star[\"CountsB\"])\n",
    "        Gobs=float(star[\"G\"])\n",
    "        dGs+=[np.abs(Gteo-Gobs)]\n",
    "        if verbose:print(f\"{star['ObjName']}:Teo={Gteo},Obs={Gobs},dM={dGs[-1]}\")\n",
    "        dG=0.05\n",
    "        chisq+=(Gteo-Gobs)**2/dG**2\n",
    "    if verbose:return chisq,dGs\n",
    "    return chisq\n",
    "\n",
    "def photoFit(x,ts,Gs,dGs,verbose=False):\n",
    "    Go=x[0]\n",
    "    chisq=0\n",
    "    res=[]\n",
    "    for texp,G,dG in zip(ts,Gs,dGs):\n",
    "        Gt=Go-2.5*np.log10(IMPACT_FLASH/texp)\n",
    "        res+=[(Gt-G)**2/dG**2]\n",
    "        chisq+=res[-1]\n",
    "    if verbose:return chisq,res\n",
    "    return chisq\n",
    "\n",
    "def errorMagnitude(Go,fun,dGo):\n",
    "    #see https://www.phas.ubc.ca/~oser/p509/Lec_09.pdf\n",
    "    def errorLstq(G,Go,fun):\n",
    "        return photoFit([G],texps,Gts,dGts,verbose=False)-fun-4\n",
    "    Goup=optimize.bisect(errorLstq,Go,Go+dGo,args=(Go,fun))\n",
    "    Godown=optimize.bisect(errorLstq,Go-dGo,Go,args=(Go,fun))\n",
    "    return (Goup-Go+Go-Godown)/2"
   ]
  },
  {
   "cell_type": "markdown",
   "metadata": {
    "colab_type": "text",
    "id": "Qol0Ly0DvSbv"
   },
   "source": [
    "## Read data from images"
   ]
  },
  {
   "cell_type": "code",
   "execution_count": 9,
   "metadata": {
    "colab": {
     "base_uri": "https://localhost:8080/",
     "height": 153
    },
    "colab_type": "code",
    "executionInfo": {
     "elapsed": 3298,
     "status": "ok",
     "timestamp": 1554755260524,
     "user": {
      "displayName": "Matipon Tangmatitham",
      "photoUrl": "https://lh6.googleusercontent.com/-Z1Oy2xmUBk0/AAAAAAAAAAI/AAAAAAAAAEA/mmGv3PZGxHE/s64/photo.jpg",
      "userId": "17207820507831638312"
     },
     "user_tz": 240
    },
    "id": "_Qa6PlUjvSbw",
    "outputId": "78950caa-1e5d-4ab5-eb6e-5c8899e20b88"
   },
   "outputs": [
    {
     "name": "stdout",
     "output_type": "stream",
     "text": [
      "Reading and loading data for RD...\n",
      "Reading and loading data for Georgia...\n",
      "Reading and loading data for CapeVerde...\n",
      "Reading and loading data for CanaryIslands...\n",
      "Reading and loading data for Germany...\n",
      "Reading and loading data for Czech...\n",
      "Reading and loading data for Vienna...\n",
      "Reading reference lunar sites...\n"
     ]
    }
   ],
   "source": [
    "sites=OrderedDict(\n",
    "    RD=dict(\n",
    "        location=\"Santo Domingo (The Dominican Republic)\",\n",
    "        observer=\"Fritz Pichardo\",\n",
    "        Nstars=9,\n",
    "        lat=18.43567,lon=-69.96872,alt=26,\n",
    "        texp=20.0,\n",
    "    ),\n",
    "    Georgia=dict(\n",
    "        location=\"Georgia (USA)\",\n",
    "        observer=\"GregHogan\",\n",
    "        Nstars=9,        \n",
    "        lat=32.51667,lon=-83.6544,alt=107,\n",
    "        texp=16.0,\n",
    "    ),\n",
    "    CapeVerde=dict(\n",
    "        location=\"Boa Vista (Cape Verde, South Africa)\",\n",
    "        observer=\"Petr Horalek\",\n",
    "        Nstars=9,\n",
    "        lat=16.14361,lon=-22.86400,alt=55,\n",
    "        texp=16.0,\n",
    "    ),\n",
    "    CanaryIslands=dict(\n",
    "        location=\"Santa Cruz de Tenerife (Cannary Island, Spain)\",\n",
    "        observer=\"Fritz Helmut Hemmerich\",\n",
    "        Nstars=9,        \n",
    "        lat=28.14169,lon=-16.6220,alt=1187,\n",
    "        texp=2.0,\n",
    "    ),\n",
    "    Germany=dict(\n",
    "        location=\"Karben (Germany)\",\n",
    "        observer=\"Dr. Sighard Schrabler and Dr. Ulrike Loffler\",\n",
    "        Nstars=9,        \n",
    "        lat=50.21615,lon=8.79607,alt=140, \n",
    "        texp=1.0,\n",
    "    ),\n",
    "    Czech=dict(\n",
    "        location=\"Velky Osek (Czech Republic)\",\n",
    "        observer=\"LiborHaspl\",\n",
    "        Nstars=9,        \n",
    "        lat=50.0982,lon=15.18885,alt=192, \n",
    "        texp=0.5,\n",
    "    ),\n",
    "    Vienna=dict(\n",
    "        location=\"Vienna (Austria)\",\n",
    "        observer=\"RobertEderArtis\",\n",
    "        Nstars=9,        \n",
    "        lat=48.250,lon=16.217,alt=450, \n",
    "        texp=4.0,\n",
    "    ),\n",
    ")\n",
    "\n",
    "#Read data\n",
    "for key,site in sites.items():\n",
    "    print(f\"Reading and loading data for {key}...\")\n",
    "    sites[key][\"data\"]=pd.read_csv(f\"{IMPACT_FIGDIR}/{key}.csv\")\n",
    "    sites[key][\"data\"][\"ObjName\"]=sites[key][\"data\"][\"ObjName\"].str.strip()\n",
    "\n",
    "print(\"Reading reference lunar sites...\")\n",
    "LunarSites=pd.read_csv(f\"{IMPACT_FIGDIR}/LunarSites.csv\")\n",
    "LunarSites[\"LunarSite\"]=LunarSites[\"LunarSite\"].str.strip()\n",
    "LunarSites[\"RAgeo\"]=-1\n",
    "LunarSites[\"DECgeo\"]=-1\n",
    "LunarSites[\"Distance\"]=-1"
   ]
  },
  {
   "cell_type": "markdown",
   "metadata": {
    "colab_type": "text",
    "id": "yXFTw5cfvSbz"
   },
   "source": [
    "## Geometrical analysis"
   ]
  },
  {
   "cell_type": "markdown",
   "metadata": {
    "colab_type": "text",
    "id": "mooDnzr6vSbz"
   },
   "source": [
    "### Compute the apparent position of the flash and accidents "
   ]
  },
  {
   "cell_type": "code",
   "execution_count": 10,
   "metadata": {
    "colab": {
     "base_uri": "https://localhost:8080/",
     "height": 2040
    },
    "colab_type": "code",
    "executionInfo": {
     "elapsed": 44861,
     "status": "ok",
     "timestamp": 1554755302104,
     "user": {
      "displayName": "Matipon Tangmatitham",
      "photoUrl": "https://lh6.googleusercontent.com/-Z1Oy2xmUBk0/AAAAAAAAAAI/AAAAAAAAAEA/mmGv3PZGxHE/s64/photo.jpg",
      "userId": "17207820507831638312"
     },
     "user_tz": 240
    },
    "id": "Vr_7q4UBvSb0",
    "outputId": "d7677de4-3be5-47ae-855e-83e8a4e20c3c"
   },
   "outputs": [
    {
     "name": "stdout",
     "output_type": "stream",
     "text": [
      "Analysing image from location: Santo Domingo (The Dominican Republic)\n",
      "\tRMS in RA: 2.94347e-03, Dec: 2.12649e-04, Overall: 2.95114e-03\n",
      "\tThe (RA, Dec) for Moon Center is 8.169010693060093, 20.4733488759181\n",
      "\tThe (RA, Dec) for L1-21J is 8.182557475779078, 20.284143986203702\n",
      "\tThe (RA, Dec) for Byrgius A is 8.183060601818521, 20.30484651757546\n",
      "\tThe (RA, Dec) for Grimaldi is 8.186708604707363, 20.38599256459474\n",
      "\tThe (RA, Dec) for Aristachus is 8.184042017583195, 20.539986034243533\n",
      "\tThe (RA, Dec) for Plato is 8.174444863880142, 20.681736159117296\n",
      "\tThe (RA, Dec) for Tycho is 8.168217870859616, 20.277322169787496\n",
      "\tThe (RA, Dec) for Copernicus is 8.176141054059105, 20.500875258788117\n",
      "\tThe (RA, Dec) for Manilius is 8.166732168741005, 20.556168406126748\n",
      "\tThe (RA, Dec) for Dionysus is 8.162947248073353, 20.510863235054604\n",
      "\tThe (RA, Dec) for Chladni is 8.168506513429225, 20.497888111868463\n",
      "\tThe (RA, Dec) for Kepler is 8.181419452337877, 20.47384690718121\n",
      "\tThe (RA, Dec) for Bullialdus is 8.173968337029654, 20.35517692581894\n",
      "\tFinding location using data from RD\n",
      "\t\tImpact coordinates: [-29.66965394 -67.81496341]\n",
      "Analysing image from location: Georgia (USA)\n",
      "\tRMS in RA: 3.38444e-03, Dec: 1.30026e-04, Overall: 3.38694e-03\n",
      "\tThe (RA, Dec) for Moon Center is 8.183419838048724, 20.21047976307871\n",
      "\tThe (RA, Dec) for L1-21J is 8.196789682418016, 20.019780013664136\n",
      "\tThe (RA, Dec) for Byrgius A is 8.197277517277142, 20.04038243504016\n",
      "\tThe (RA, Dec) for Grimaldi is 8.200997816343621, 20.122052056201124\n",
      "\tThe (RA, Dec) for Aristachus is 8.198615948799047, 20.275835277370934\n",
      "\tThe (RA, Dec) for Plato is 8.18917197383262, 20.42041222847149\n",
      "\tThe (RA, Dec) for Tycho is 8.182452554677372, 20.013243720318194\n",
      "\tThe (RA, Dec) for Copernicus is 8.190635132884164, 20.23658820603573\n",
      "\tThe (RA, Dec) for Manilius is 8.181326589208835, 20.292022432222776\n",
      "\tThe (RA, Dec) for Dionysus is 8.177436554139593, 20.24656211273799\n",
      "\tThe (RA, Dec) for Chladni is 8.183028233916415, 20.233424277535732\n",
      "\tThe (RA, Dec) for Kepler is 8.195894274046813, 20.20905989800198\n",
      "\tThe (RA, Dec) for Bullialdus is 8.188251741989697, 20.090486524964415\n",
      "\tFinding location using data from Georgia\n",
      "\t\tImpact coordinates: [-29.56329738 -67.8386201 ]\n",
      "Analysing image from location: Boa Vista (Cape Verde, South Africa)\n",
      "\tRMS in RA: 2.13653e-03, Dec: 2.70542e-04, Overall: 2.15359e-03\n",
      "\tThe (RA, Dec) for Moon Center is 8.116378557671615, 20.409849111277982\n",
      "\tThe (RA, Dec) for L1-21J is 8.129656774561786, 20.22234101623261\n",
      "\tThe (RA, Dec) for Byrgius A is 8.130083787637856, 20.24301711056527\n",
      "\tThe (RA, Dec) for Grimaldi is 8.133650118016103, 20.323551869902893\n",
      "\tThe (RA, Dec) for Aristachus is 8.130973347434105, 20.477007290908112\n",
      "\tThe (RA, Dec) for Plato is 8.121485175212126, 20.619458936192952\n",
      "\tThe (RA, Dec) for Tycho is 8.115501101036054, 20.215444350389387\n",
      "\tThe (RA, Dec) for Copernicus is 8.123096100880906, 20.4374489415365\n",
      "\tThe (RA, Dec) for Manilius is 8.113898628198875, 20.492282674814938\n",
      "\tThe (RA, Dec) for Dionysus is 8.110090253845257, 20.44628714192349\n",
      "\tThe (RA, Dec) for Chladni is 8.115598718927309, 20.43429595170802\n",
      "\tThe (RA, Dec) for Kepler is 8.128304596026464, 20.4111528749594\n",
      "\tThe (RA, Dec) for Bullialdus is 8.12104657812491, 20.293086251106104\n",
      "\tFinding location using data from CapeVerde\n",
      "\t\tImpact coordinates: [-29.51459834 -67.89175945]\n",
      "Analysing image from location: Santa Cruz de Tenerife (Cannary Island, Spain)\n",
      "\tRMS in RA: 2.05357e-03, Dec: 1.59819e-04, Overall: 2.05978e-03\n",
      "\tThe (RA, Dec) for Moon Center is 8.115862809848148, 20.17783487834052\n",
      "\tThe (RA, Dec) for L1-21J is 8.129056018396168, 19.990027400117164\n",
      "\tThe (RA, Dec) for Byrgius A is 8.129520090366942, 20.009838730465244\n",
      "\tThe (RA, Dec) for Grimaldi is 8.133213001773656, 20.091177638370812\n",
      "\tThe (RA, Dec) for Aristachus is 8.130540542012433, 20.24421415893188\n",
      "\tThe (RA, Dec) for Plato is 8.121117599557293, 20.386786809112703\n",
      "\tThe (RA, Dec) for Tycho is 8.114816223895627, 19.98117824262228\n",
      "\tThe (RA, Dec) for Copernicus is 8.122579306289262, 20.204238024271206\n",
      "\tThe (RA, Dec) for Manilius is 8.113328878767165, 20.25891141839526\n",
      "\tThe (RA, Dec) for Dionysus is 8.109537471875587, 20.213099310284335\n",
      "\tThe (RA, Dec) for Chladni is 8.115058774643446, 20.200600314045115\n",
      "\tThe (RA, Dec) for Kepler is 8.127910240645315, 20.17780588304451\n",
      "\tThe (RA, Dec) for Bullialdus is 8.120413913690784, 20.05891841407127\n",
      "\tFinding location using data from CanaryIslands\n",
      "\t\tImpact coordinates: [-29.42559077 -67.83881617]\n",
      "Analysing image from location: Karben (Germany)\n",
      "\tRMS in RA: 1.96621e-03, Dec: 6.03252e-04, Overall: 2.05667e-03\n",
      "\tThe (RA, Dec) for Moon Center is 8.121049938920393, 19.748885093749973\n",
      "\tThe (RA, Dec) for L1-21J is 8.134236587956286, 19.562502711593797\n",
      "\tThe (RA, Dec) for Byrgius A is 8.134675575805906, 19.582878297028127\n",
      "\tThe (RA, Dec) for Grimaldi is 8.138219678010351, 19.662458291890204\n",
      "\tThe (RA, Dec) for Aristachus is 8.135576298714525, 19.81461500813621\n",
      "\tThe (RA, Dec) for Plato is 8.126189359751518, 19.955725530144942\n",
      "\tThe (RA, Dec) for Tycho is 8.12014190031723, 19.553464826139926\n",
      "\tThe (RA, Dec) for Copernicus is 8.127675985736154, 19.772519229161215\n",
      "\tThe (RA, Dec) for Manilius is 8.118579137969068, 19.82761136755961\n",
      "\tThe (RA, Dec) for Dionysus is 8.114897993448128, 19.782016852699474\n",
      "\tThe (RA, Dec) for Chladni is 8.120282682168071, 19.769493482142334\n",
      "\tThe (RA, Dec) for Kepler is 8.132956215649047, 19.747706180811832\n",
      "\tThe (RA, Dec) for Bullialdus is 8.125633114647117, 19.629899492056243\n",
      "\tFinding location using data from Germany\n",
      "\t\tImpact coordinates: [-29.28577248 -67.96676545]\n",
      "Analysing image from location: Velky Osek (Czech Republic)\n",
      "\tRMS in RA: 3.36639e-03, Dec: 4.11072e-04, Overall: 3.39139e-03\n",
      "\tThe (RA, Dec) for Moon Center is 8.120193314087333, 19.72519336811776\n",
      "\tThe (RA, Dec) for L1-21J is 8.133436608659178, 19.53855076994392\n",
      "\tThe (RA, Dec) for Byrgius A is 8.133865097319047, 19.55997965924013\n",
      "\tThe (RA, Dec) for Grimaldi is 8.137437873210585, 19.638484383577545\n",
      "\tThe (RA, Dec) for Aristachus is 8.13469981157542, 19.79060151157691\n",
      "\tThe (RA, Dec) for Plato is 8.125010955085322, 19.932383410252807\n",
      "\tThe (RA, Dec) for Tycho is 8.119312590640387, 19.529493141132626\n",
      "\tThe (RA, Dec) for Copernicus is 8.126872553225247, 19.749666914597707\n",
      "\tThe (RA, Dec) for Manilius is 8.117712919348506, 19.80375324352214\n",
      "\tThe (RA, Dec) for Dionysus is 8.114012460524142, 19.759104638521325\n",
      "\tThe (RA, Dec) for Chladni is 8.119436512719648, 19.74657899428038\n",
      "\tThe (RA, Dec) for Kepler is 8.132124750549519, 19.723836865191537\n",
      "\tThe (RA, Dec) for Bullialdus is 8.124909453906021, 19.606677007954193\n",
      "\tFinding location using data from Czech\n",
      "\t\tImpact coordinates: [-29.39617374 -67.94481968]\n",
      "Analysing image from location: Vienna (Austria)\n",
      "\tRMS in RA: 2.54277e-03, Dec: 3.20452e-04, Overall: 2.56289e-03\n",
      "\tThe (RA, Dec) for Moon Center is 8.118266802558598, 19.742097107446117\n",
      "\tThe (RA, Dec) for L1-21J is 8.13150044379965, 19.556239775514864\n",
      "\tThe (RA, Dec) for Byrgius A is 8.131880781328436, 19.575596541488682\n",
      "\tThe (RA, Dec) for Grimaldi is 8.135523242914434, 19.65620213032303\n",
      "\tThe (RA, Dec) for Aristachus is 8.132820517874753, 19.80705314870742\n",
      "\tThe (RA, Dec) for Plato is 8.123414207121822, 19.94920922989031\n",
      "\tThe (RA, Dec) for Tycho is 8.117384332190465, 19.546414863914332\n",
      "\tThe (RA, Dec) for Copernicus is 8.12506392451967, 19.76626516583798\n",
      "\tThe (RA, Dec) for Manilius is 8.115767289745625, 19.820813394928507\n",
      "\tThe (RA, Dec) for Dionysus is 8.1121224649348, 19.77603905241446\n",
      "\tThe (RA, Dec) for Chladni is 8.117530921665969, 19.76352340072523\n",
      "\tThe (RA, Dec) for Kepler is 8.13018910699811, 19.7413888846439\n",
      "\tThe (RA, Dec) for Bullialdus is 8.122909479327179, 19.623316606485503\n",
      "\tFinding location using data from Vienna\n",
      "\t\tImpact coordinates: [-29.05805045 -67.98678088]\n"
     ]
    }
   ],
   "source": [
    "slats_impact=[]\n",
    "slons_impact=[]\n",
    "for key,site in sites.items():\n",
    "    print(f\"Analysing image from location: {site['location']}\")\n",
    "    \n",
    "    #Basic properties of the site\n",
    "    objs=site[\"data\"]\n",
    "    \n",
    "    #Initial plate constants\n",
    "    plateconst=deepcopy(PLATECONST)\n",
    "    center=objs.loc[objs[\"ObjName\"]==\"Moon Center\"].iloc[0]\n",
    "    \n",
    "    #print(center)\n",
    "    plateconst[2]=center[\"RA\"]\n",
    "    plateconst[5]=center[\"DEC\"]\n",
    "    \n",
    "    if not \"plateconst\" in site.keys() or 1:\n",
    "        #Find (X,Y) to (RA,Dec) map by least square fitting        \n",
    "        solutionplate=optimize.minimize(distsq,plateconst,args=(objs,False))\n",
    "        dist,dra,ddec=distsq(solutionplate.x,objs,verbose=True)\n",
    "        rmsra=math.sqrt(np.mean(dra))\n",
    "        rmsdec=math.sqrt(np.mean(ddec))\n",
    "        rmsov=math.sqrt(dist/len(ddec))\n",
    "\n",
    "        #Store result\n",
    "        site[\"plateconst\"]=solutionplate.x\n",
    "        site[\"rmsastro\"]=[rmsra,rmsdec,rmsov]\n",
    "    else:\n",
    "        class solutionplate(object):x=site[\"plateconst\"]\n",
    "        rmsra,rmsdec,rmsov=site[\"rmsastro\"]\n",
    "          \n",
    "    print(f\"\\tRMS in RA: {rmsra:.5e}, Dec: {rmsdec:.5e}, Overall: {rmsov:.5e}\")\n",
    "          \n",
    "    #Transform coordinates of the unknown objects using the solutionplate\n",
    "    for ind,star in objs.loc[objs[\"type\"]==\"Moon\"].iterrows():\n",
    "        ra,dec=getradec(solutionplate.x,star[\"X\"],star[\"Y\"],center[\"X\"],center[\"Y\"])\n",
    "        print(f\"\\tThe (RA, Dec) for \"+star['ObjName']+f\" is {ra}, {dec}\")\n",
    "        objs.loc[ind,\"RA\"]=ra\n",
    "        objs.loc[ind,\"DEC\"]=dec\n",
    "    #break\n",
    "          \n",
    "    print(f\"\\tFinding location using data from {key}\")\n",
    "    data=site[\"data\"]\n",
    "    initialseleneparams=[-0.02,0.005,8.17,0.07,0.27,20.43,-2.5,-0.8]\n",
    "    initialseleneparams[2]=data.loc[data[\"ObjName\"]==\"L1-21J\"].iloc[0][\"RA\"]\n",
    "    initialseleneparams[5]=data.loc[data[\"ObjName\"]==\"L1-21J\"].iloc[0][\"DEC\"]\n",
    "    #initialseleneparams[2]=data.loc[data[\"ObjName\"]==\"Moon Center\"].iloc[0][\"RA\"]\n",
    "    #initialseleneparams[5]=data.loc[data[\"ObjName\"]==\"Moon Center\"].iloc[0][\"DEC\"]\n",
    "\n",
    "    #Find parameters for selenographic<->geocentric conversion\n",
    "    solutionselenographic=optimize.minimize(selensq,initialseleneparams,args=(site,LunarSites,False)) \n",
    "    #print(solutionselenographic)\n",
    "    \n",
    "    initialcoord=[-29.,-68.]\n",
    "    ra_impact=data.loc[data[\"ObjName\"]==\"L1-21J\"].iloc[0][\"RA\"]\n",
    "    dec_impact=data.loc[data[\"ObjName\"]==\"L1-21J\"].iloc[0][\"DEC\"]\n",
    "    selencoordsolution=optimize.minimize(selenerr,initialcoord,\n",
    "                                         args=(ra_impact,dec_impact,solutionselenographic.x))\n",
    "    print(\"\\t\\tImpact coordinates:\",selencoordsolution.x)\n",
    "    slats_impact+=[selencoordsolution.x[0]]\n",
    "    slons_impact+=[selencoordsolution.x[1]]\n",
    "          \n",
    "    site[\"ImpactLat\"]=selencoordsolution.x[0]\n",
    "    site[\"ImpactLon\"]=selencoordsolution.x[1]        "
   ]
  },
  {
   "cell_type": "code",
   "execution_count": 11,
   "metadata": {
    "colab": {
     "base_uri": "https://localhost:8080/",
     "height": 136
    },
    "colab_type": "code",
    "executionInfo": {
     "elapsed": 44846,
     "status": "ok",
     "timestamp": 1554755302108,
     "user": {
      "displayName": "Matipon Tangmatitham",
      "photoUrl": "https://lh6.googleusercontent.com/-Z1Oy2xmUBk0/AAAAAAAAAAI/AAAAAAAAAEA/mmGv3PZGxHE/s64/photo.jpg",
      "userId": "17207820507831638312"
     },
     "user_tz": 240
    },
    "id": "4MUtCTi3vSb2",
    "outputId": "7ec12d9b-e68d-47d1-c21a-4d22e464d810"
   },
   "outputs": [
    {
     "name": "stdout",
     "output_type": "stream",
     "text": [
      "Impact position from parallax: (slat,slon) = -29.41616244448308,-67.89750359263807\n",
      "Errors: (dslat,dslon) = 0.18567654011879367,0.06410238016078715\n",
      "Midrange: (dslat,dslon) = 0.30580174704829766,0.0859087345573144\n",
      "Latitude quantile: [-29.63774698 -29.42559077 -29.12636706]\n",
      "Longitude quantile: [-67.98077625 -67.89175945 -67.82206042]\n",
      "Asymmetric errors: slat = -29.426$^+0.3_-0.21$\n",
      "Asymmetric errors: slon = -67.892$^+0.07_-0.089$\n"
     ]
    }
   ],
   "source": [
    "### Position of the impact on the moon surface\n",
    "slats_impact=np.array(slats_impact)\n",
    "slons_impact=np.array(slons_impact)\n",
    "slat_impact=slats_impact.mean()\n",
    "slon_impact=slons_impact.mean()\n",
    "\n",
    "dslat_impact=slats_impact.std()\n",
    "dslon_impact=slons_impact.std()\n",
    "\n",
    "LunarSites.loc[1,\"slat\"]=slat_impact\n",
    "LunarSites.loc[1,\"slon\"]=slon_impact\n",
    "\n",
    "Dslat_impact=(slats_impact.max()-slats_impact.min())/2\n",
    "Dslon_impact=(slons_impact.max()-slons_impact.min())/2\n",
    "\n",
    "slat_quant=np.percentile(slats_impact,[5,50,95])\n",
    "slon_quant=np.percentile(slons_impact,[5,50,95])\n",
    "\n",
    "latGeo=slat_quant[1]\n",
    "dlatGeo_p=slat_quant[2]-slat_quant[1]\n",
    "dlatGeo_m=slat_quant[0]-slat_quant[1]\n",
    "\n",
    "lonGeo=slon_quant[1]\n",
    "dlonGeo_p=slon_quant[2]-slon_quant[1]\n",
    "dlonGeo_m=slon_quant[0]-slon_quant[1]\n",
    "\n",
    "print(f\"Impact position from parallax: (slat,slon) = {slat_impact},{slon_impact}\")\n",
    "print(f\"Errors: (dslat,dslon) = {dslat_impact},{dslon_impact}\")\n",
    "print(f\"Midrange: (dslat,dslon) = {Dslat_impact},{Dslon_impact}\")\n",
    "print(f\"Latitude quantile:\",slat_quant)\n",
    "print(f\"Longitude quantile:\",slon_quant)\n",
    "print(f\"Asymmetric errors: slat = {slat_quant[1]:.5}$^+{slat_quant[2]-slat_quant[1]:.2}_-{slat_quant[1]-slat_quant[0]:.2}$\")\n",
    "print(f\"Asymmetric errors: slon = {slon_quant[1]:.5}$^+{slon_quant[2]-slon_quant[1]:.2}_-{slon_quant[1]-slon_quant[0]:.2}$\")"
   ]
  },
  {
   "cell_type": "markdown",
   "metadata": {
    "colab_type": "text",
    "id": "LlWPU1-ZvSb6"
   },
   "source": [
    "### Parallax"
   ]
  },
  {
   "cell_type": "code",
   "execution_count": 12,
   "metadata": {
    "colab": {
     "base_uri": "https://localhost:8080/",
     "height": 680
    },
    "colab_type": "code",
    "executionInfo": {
     "elapsed": 59100,
     "status": "ok",
     "timestamp": 1554755316376,
     "user": {
      "displayName": "Matipon Tangmatitham",
      "photoUrl": "https://lh6.googleusercontent.com/-Z1Oy2xmUBk0/AAAAAAAAAAI/AAAAAAAAAEA/mmGv3PZGxHE/s64/photo.jpg",
      "userId": "17207820507831638312"
     },
     "user_tz": 240
    },
    "id": "RK_SokhJvSb7",
    "outputId": "ac031b95-f316-4b6c-be82-6c2998864c84"
   },
   "outputs": [
    {
     "name": "stdout",
     "output_type": "stream",
     "text": [
      "Computing lunar parameters using location Moon Center...\n",
      "\tThe geocentric (RA,Dec) is 8.166743323943132, 20.436150873430705\n",
      "\tThe geocentric distance is 357046.4165528035\n",
      "Computing lunar parameters using location L1-21J...\n",
      "\tThe geocentric (RA,Dec) is 8.17992469519217, 20.25050264144109\n",
      "\tThe geocentric distance is 356552.6540320956\n",
      "Computing lunar parameters using location Byrgius A...\n",
      "\tThe geocentric (RA,Dec) is 8.180388877377093, 20.270873292960534\n",
      "\tThe geocentric distance is 356363.0579873853\n",
      "Computing lunar parameters using location Grimaldi...\n",
      "\tThe geocentric (RA,Dec) is 8.184019802277362, 20.350547218931435\n",
      "\tThe geocentric distance is 356135.4375821765\n",
      "Computing lunar parameters using location Aristachus...\n",
      "\tThe geocentric (RA,Dec) is 8.181491825733428, 20.50236655545112\n",
      "\tThe geocentric distance is 355491.34127664194\n",
      "Computing lunar parameters using location Plato...\n",
      "\tThe geocentric (RA,Dec) is 8.172102260691553, 20.643337511748864\n",
      "\tThe geocentric distance is 355635.85359229246\n",
      "Computing lunar parameters using location Tycho...\n",
      "\tThe geocentric (RA,Dec) is 8.165872852296822, 20.243295707263233\n",
      "\tThe geocentric distance is 356270.5929863037\n",
      "Computing lunar parameters using location Copernicus...\n",
      "\tThe geocentric (RA,Dec) is 8.173711568572052, 20.463396461690873\n",
      "\tThe geocentric distance is 354998.74602986977\n",
      "Computing lunar parameters using location Manilius...\n",
      "\tThe geocentric (RA,Dec) is 8.16453219783035, 20.51768563738584\n",
      "\tThe geocentric distance is 355303.3893817661\n",
      "Computing lunar parameters using location Dionysus...\n",
      "\tThe geocentric (RA,Dec) is 8.160774227306245, 20.472693329187937\n",
      "\tThe geocentric distance is 355576.3612349212\n",
      "Computing lunar parameters using location Chladni...\n",
      "\tThe geocentric (RA,Dec) is 8.16623474013506, 20.460321357513923\n",
      "\tThe geocentric distance is 355284.2935008609\n",
      "Computing lunar parameters using location Kepler...\n",
      "\tThe geocentric (RA,Dec) is 8.178879224785472, 20.437042684405572\n",
      "\tThe geocentric distance is 355312.2162108802\n",
      "Computing lunar parameters using location Bullialdus...\n",
      "\tThe geocentric (RA,Dec) is 8.171503137920928, 20.320062421055024\n",
      "\tThe geocentric distance is 355721.3912869687\n"
     ]
    }
   ],
   "source": [
    "#Initial conditions\n",
    "parallaxinitialconst=[56.0,8.17,20.44]\n",
    "#print(apparentSkyPosition(parallaxinitialconst,18.43567,-69.96872,26))\n",
    "    \n",
    "for ind,lunarsite in LunarSites.iterrows():\n",
    "    location=lunarsite[\"LunarSite\"]\n",
    "    print(f\"Computing lunar parameters using location {location}...\")\n",
    "    \n",
    "    #Find geocentric distance and RA,Dec by least square fitting\n",
    "    solutionparallax=optimize.minimize(parallaxsq,parallaxinitialconst,args=(sites,location,False)) \n",
    "\n",
    "    #Read solution\n",
    "    geo_dist=solutionparallax.x[0]\n",
    "    geo_ra=solutionparallax.x[1]\n",
    "    geo_dec=solutionparallax.x[2]\n",
    "    \n",
    "    #Save solution\n",
    "    LunarSites.loc[ind,\"RAgeo\"]=geo_ra\n",
    "    LunarSites.loc[ind,\"DECgeo\"]=geo_dec\n",
    "    LunarSites.loc[ind,\"Distance\"]=geo_dist\n",
    "    \n",
    "    print(f\"\\tThe geocentric (RA,Dec) is {geo_ra}, {geo_dec}\")\n",
    "    print(f\"\\tThe geocentric distance is {geo_dist*REARTH}\")"
   ]
  },
  {
   "cell_type": "code",
   "execution_count": 13,
   "metadata": {
    "colab": {},
    "colab_type": "code",
    "id": "jQP7hFlDvSb-"
   },
   "outputs": [],
   "source": [
    "Center=LunarSites.loc[LunarSites[\"LunarSite\"]==\"Moon Center\"].iloc[0]\n",
    "Impact=LunarSites.loc[LunarSites[\"LunarSite\"]==\"L1-21J\"].iloc[0]"
   ]
  },
  {
   "cell_type": "markdown",
   "metadata": {
    "colab_type": "text",
    "id": "u_nAyq2ZnHTQ"
   },
   "source": [
    "## Orbital analysis"
   ]
  },
  {
   "cell_type": "markdown",
   "metadata": {
    "colab_type": "text",
    "id": "_M2HkWxWnHTR"
   },
   "source": [
    "### Read data"
   ]
  },
  {
   "cell_type": "code",
   "execution_count": 14,
   "metadata": {
    "colab": {
     "base_uri": "https://localhost:8080/",
     "height": 34
    },
    "colab_type": "code",
    "executionInfo": {
     "elapsed": 60612,
     "status": "ok",
     "timestamp": 1554755317908,
     "user": {
      "displayName": "Matipon Tangmatitham",
      "photoUrl": "https://lh6.googleusercontent.com/-Z1Oy2xmUBk0/AAAAAAAAAAI/AAAAAAAAAEA/mmGv3PZGxHE/s64/photo.jpg",
      "userId": "17207820507831638312"
     },
     "user_tz": 240
    },
    "id": "MTOMyPK_nHTS",
    "outputId": "f0a8d5f0-b30b-419f-d1e1-b579650bdb05"
   },
   "outputs": [
    {
     "name": "stdout",
     "output_type": "stream",
     "text": [
      "Number of test trajectories read: 41167\n"
     ]
    }
   ],
   "source": [
    "data_rays=np.loadtxt(f\"{IMPACT_FIGDIR}/rays-{IMPACT_SUFFIX}.data.phys\")\n",
    "data_rays_prob=np.loadtxt(f\"{IMPACT_FIGDIR}/rays-{IMPACT_SUFFIX}.data.prob\")\n",
    "Nrays=len(data_rays)\n",
    "print(f\"Number of test trajectories read: {Nrays}\")"
   ]
  },
  {
   "cell_type": "markdown",
   "metadata": {
    "colab_type": "text",
    "id": "Bes_XdXonHTX"
   },
   "source": [
    "### Posterior probability distribution of key properties "
   ]
  },
  {
   "cell_type": "code",
   "execution_count": 15,
   "metadata": {
    "colab": {
     "base_uri": "https://localhost:8080/",
     "height": 340
    },
    "colab_type": "code",
    "executionInfo": {
     "elapsed": 60601,
     "status": "ok",
     "timestamp": 1554755317911,
     "user": {
      "displayName": "Matipon Tangmatitham",
      "photoUrl": "https://lh6.googleusercontent.com/-Z1Oy2xmUBk0/AAAAAAAAAAI/AAAAAAAAAEA/mmGv3PZGxHE/s64/photo.jpg",
      "userId": "17207820507831638312"
     },
     "user_tz": 240
    },
    "id": "hAjRgGJnnHTY",
    "outputId": "4cf08f14-a03f-4a7e-8526-71354eeffa74"
   },
   "outputs": [
    {
     "name": "stderr",
     "output_type": "stream",
     "text": [
      "9246it [00:00, 92456.12it/s]"
     ]
    },
    {
     "name": "stdout",
     "output_type": "stream",
     "text": [
      "Computed rays: 41167\n",
      "Computing ppd for elevation\n",
      "\tUnique values of property: 498\n",
      "\tRanges: 0.27798 83.332\n",
      "\tSampling points: 16\n"
     ]
    },
    {
     "name": "stderr",
     "output_type": "stream",
     "text": [
      "41167it [00:00, 90205.25it/s]\n"
     ]
    },
    {
     "name": "stdout",
     "output_type": "stream",
     "text": [
      "\tSaving .//data/L1-21J/elevation-marginal.dat\n"
     ]
    },
    {
     "name": "stderr",
     "output_type": "stream",
     "text": [
      "41167it [00:00, 218229.25it/s]"
     ]
    },
    {
     "name": "stdout",
     "output_type": "stream",
     "text": [
      "Computing ppd for vimp\n",
      "\tUnique values of property: 100\n",
      "\tRanges: 2.7972 44.058\n",
      "\tSampling points: 20\n",
      "\tSaving .//data/L1-21J/vimp-marginal.dat\n"
     ]
    },
    {
     "name": "stderr",
     "output_type": "stream",
     "text": [
      "\n",
      "41167it [00:00, 224170.83it/s]"
     ]
    },
    {
     "name": "stdout",
     "output_type": "stream",
     "text": [
      "Computing ppd for azimuth\n",
      "\tUnique values of property: 498\n",
      "\tRanges: 0.27282 359.06\n",
      "\tSampling points: 9\n",
      "\tSaving .//data/L1-21J/azimuth-marginal.dat\n"
     ]
    },
    {
     "name": "stderr",
     "output_type": "stream",
     "text": [
      "\n"
     ]
    }
   ],
   "source": [
    "properties=[\n",
    "    dict(indice=0,property=\"elevation\",factor=30),\n",
    "    dict(indice=2,property=\"vimp\",factor=5),\n",
    "    dict(indice=1,property=\"azimuth\",factor=50)\n",
    "]\n",
    "pprob=data_rays_prob[:,7]\n",
    "print(\"Computed rays:\",len(pprob))\n",
    "for qprop in properties:\n",
    "    print(f\"Computing ppd for {qprop['property']}\")\n",
    "    xs=data_rays[:,qprop[\"indice\"]]\n",
    "    xun=np.unique(xs)\n",
    "    Nun=len(xun)\n",
    "    print(\"\\tUnique values of property:\",Nun)\n",
    "\n",
    "    # Range of elevations                                                                                                                                                                                                                                     \n",
    "    xmin=xs.min()\n",
    "    xmax=xs.max()\n",
    "    print(\"\\tRanges:\",xmin,xmax)\n",
    "\n",
    "    # Create boxes                                                                                                                                                                                                                                            \n",
    "    Nb=int(Nun/qprop[\"factor\"])\n",
    "    print(\"\\tSampling points:\",Nb)\n",
    "    xb=np.linspace(xmin,1.01*xmax,Nb,endpoint=False)\n",
    "    dxb=xb[1]-xb[0]\n",
    "\n",
    "    # Compute probabilities                                                                                                                                                                                                                                   \n",
    "    P=0\n",
    "    hb=np.zeros(Nb)\n",
    "    for i,x in tqdm(enumerate(xs)):\n",
    "        p=pprob[i]\n",
    "        n=int((x-xmin)/dxb)\n",
    "        if qprop[\"property\"]==\"elevation\":\n",
    "          xcen=(xmin+(n+1./2)*dxb)\n",
    "          factor=1/np.cos(xcen*np.pi/180)\n",
    "        else:\n",
    "          factor=1\n",
    "        P+=factor*p\n",
    "        hb[n]+=factor*p\n",
    "\n",
    "    hb=np.array(hb)\n",
    "    hb/=P\n",
    "\n",
    "    #Save histogram\n",
    "    fname=f\"{IMPACT_FIGDIR}/{qprop['property']}-marginal.dat\"\n",
    "    print(f\"\\tSaving {fname}\")\n",
    "    np.savetxt(fname,np.vstack((xb,hb)).transpose())"
   ]
  },
  {
   "cell_type": "markdown",
   "metadata": {
    "colab_type": "text",
    "id": "XUAq7sHqnHTc"
   },
   "source": [
    "### Impact velocity statistics"
   ]
  },
  {
   "cell_type": "code",
   "execution_count": 16,
   "metadata": {
    "colab": {
     "base_uri": "https://localhost:8080/",
     "height": 297
    },
    "colab_type": "code",
    "executionInfo": {
     "elapsed": 61649,
     "status": "ok",
     "timestamp": 1554755318974,
     "user": {
      "displayName": "Matipon Tangmatitham",
      "photoUrl": "https://lh6.googleusercontent.com/-Z1Oy2xmUBk0/AAAAAAAAAAI/AAAAAAAAAEA/mmGv3PZGxHE/s64/photo.jpg",
      "userId": "17207820507831638312"
     },
     "user_tz": 240
    },
    "id": "jKgAeNA0nHTf",
    "outputId": "e5d014ed-1a0c-464f-a3e3-fa6e7f045bbc"
   },
   "outputs": [
    {
     "data": {
      "image/png": "[encoded data removed]",
      "text/plain": [
       "<matplotlib.figure.Figure at 0x10b17ae80>"
      ]
     },
     "metadata": {
      "needs_background": "light"
     },
     "output_type": "display_data"
    }
   ],
   "source": [
    "#Posterior probability distribution of impact velocities\n",
    "data=np.loadtxt(f\"{IMPACT_FIGDIR}/vimp-marginal.dat\")\n",
    "vimps=data[:,0]\n",
    "pvs=data[:,1]\n",
    "v1,vm,v2=ipercs(vimps,pvs,[15.0,50.0,85.0])\n",
    "mv=v1-vm;pv=v2-vm\n",
    "vimp=vm;dvimp_p=pv;dvimp_m=mv\n",
    "\n",
    "#Plot\n",
    "fig=plt.figure()\n",
    "ax=fig.gca()\n",
    "\n",
    "ax.step(vimps,pvs,color='r',lw=2)\n",
    "\n",
    "ax.set_xlabel(r\"$v_{\\rm imp}$\",fontsize=14)\n",
    "ax.set_ylabel(r\"$p(v_{\\rm imp})$\",fontsize=14)\n",
    "\n",
    "ax.axvspan(v1,vm,color='k',alpha=0.3)\n",
    "ax.axvline(vm,color='k',lw=2)\n",
    "ax.axvspan(vm,v2,color='k',alpha=0.3)\n",
    "\n",
    "#ax.set_title(\"L1-J-21 Impact Velocity\",fontsize=18)\n",
    "\n",
    "ax.text(0.95,0.95,r\"$v_{\\rm imp}=%.1lf^{%+.1lf}_{%+.1lf}$ km/s\"%(vm,pv,mv),\n",
    "        transform=ax.transAxes,ha='right',va='top',fontsize=14)\n",
    "\n",
    "ymin,ymax=ax.get_ylim()\n",
    "ax.set_ylim((0,ymax))\n",
    "\n",
    "fig.tight_layout()\n",
    "fig.savefig(f\"{IMPACT_FIGDIR}/l21j-vimp-ppd.png\")\n",
    "plt.show();"
   ]
  },
  {
   "cell_type": "markdown",
   "metadata": {
    "colab_type": "text",
    "id": "uqU9yB47nHTo"
   },
   "source": [
    "### Incident angle statistics"
   ]
  },
  {
   "cell_type": "code",
   "execution_count": 17,
   "metadata": {
    "colab": {
     "base_uri": "https://localhost:8080/",
     "height": 297
    },
    "colab_type": "code",
    "executionInfo": {
     "elapsed": 62322,
     "status": "ok",
     "timestamp": 1554755319661,
     "user": {
      "displayName": "Matipon Tangmatitham",
      "photoUrl": "https://lh6.googleusercontent.com/-Z1Oy2xmUBk0/AAAAAAAAAAI/AAAAAAAAAEA/mmGv3PZGxHE/s64/photo.jpg",
      "userId": "17207820507831638312"
     },
     "user_tz": 240
    },
    "id": "mMMzUEyynHTq",
    "outputId": "ec7f5819-33e0-42e0-86a6-3ebd10afb23c"
   },
   "outputs": [
    {
     "data": {
      "image/png": "[encoded data removed]",
      "text/plain": [
       "<matplotlib.figure.Figure at 0x181d7700b8>"
      ]
     },
     "metadata": {
      "needs_background": "light"
     },
     "output_type": "display_data"
    }
   ],
   "source": [
    "plt.ion()\n",
    "#Posterior probability distribution of impact velocities\n",
    "data=np.loadtxt(f\"{IMPACT_FIGDIR}/elevation-marginal.dat\")\n",
    "angles=data[:,0]\n",
    "pas=data[:,1]\n",
    "v1,vm,v2=ipercs(angles,pas,[15.0,50.0,85.0])\n",
    "mv=v1-vm;pv=v2-vm\n",
    "thetamax=v2\n",
    "\n",
    "#Figure\n",
    "fig=plt.figure()\n",
    "ax=fig.gca()\n",
    "\n",
    "ax.step(angles,pas,color='r',lw=2)\n",
    "\n",
    "ax.set_xlabel(r\"$\\theta$ (degrees)\",fontsize=14)\n",
    "ax.set_ylabel(r\"$p(\\theta)$\",fontsize=14)\n",
    "\n",
    "ax.axvspan(v1,vm,color='k',alpha=0.3)\n",
    "ax.axvline(vm,color='k',lw=2)\n",
    "ax.axvspan(vm,v2,color='k',alpha=0.3)\n",
    "\n",
    "ax.text(0.95,0.95,r\"$\\theta=%.1lf^{%+.1lf}_{%+.1lf}$\"%(vm,pv,mv),\n",
    "        transform=ax.transAxes,ha='right',va='top',fontsize=14)\n",
    "\n",
    "ymin,ymax=ax.get_ylim()\n",
    "ax.set_ylim((0,ymax))\n",
    "ax.set_xlim((0,60))\n",
    "\n",
    "fig.tight_layout()\n",
    "fig.savefig(f\"{IMPACT_FIGDIR}/l21j-elevation-ppd.png\")"
   ]
  },
  {
   "cell_type": "markdown",
   "metadata": {
    "colab_type": "text",
    "id": "losF13AFnHTv"
   },
   "source": [
    "### Distribution of Radiants"
   ]
  },
  {
   "cell_type": "code",
   "execution_count": 18,
   "metadata": {
    "colab": {
     "base_uri": "https://localhost:8080/",
     "height": 34
    },
    "colab_type": "code",
    "executionInfo": {
     "elapsed": 69349,
     "status": "ok",
     "timestamp": 1554755326706,
     "user": {
      "displayName": "Matipon Tangmatitham",
      "photoUrl": "https://lh6.googleusercontent.com/-Z1Oy2xmUBk0/AAAAAAAAAAI/AAAAAAAAAEA/mmGv3PZGxHE/s64/photo.jpg",
      "userId": "17207820507831638312"
     },
     "user_tz": 240
    },
    "id": "8i2-c6P6nHTw",
    "outputId": "32bc9f7f-ee93-44f8-e9a7-580620a7372a"
   },
   "outputs": [
    {
     "name": "stderr",
     "output_type": "stream",
     "text": [
      "100%|██████████| 41167/41167 [00:17<00:00, 2339.89it/s]\n"
     ]
    }
   ],
   "source": [
    "#Build 2D histogram\n",
    "RAmin=0.0;RAmax=360;NRA=20;dRA=(RAmax-RAmin)/NRA\n",
    "DECmin=-90.0;DECmax=90.0;NDEC=20;dDEC=(DECmax-DECmin)/NDEC\n",
    "\n",
    "#Run over all combinations\n",
    "hrd=np.zeros((NDEC,NRA))\n",
    "pprob=data_rays_prob[:,7]\n",
    "\n",
    "j=0\n",
    "P=0\n",
    "for i in tqdm(range(len(data_rays))):\n",
    "\n",
    "    #Topocentric coordinates\n",
    "    Az=data_rays[i,1]\n",
    "    h=data_rays[i,0]\n",
    "    p=pprob[i]\n",
    "\n",
    "    #J2000 coordinates\n",
    "    RA,DEC=loc2Sky(IMPACT_ET,Az,h,\n",
    "                   IMPACT_LOC[\"lon\"],IMPACT_LOC[\"lat\"],IMPACT_LOC[\"alt\"],\n",
    "                   \"MOON\",\"IAU_MOON\")\n",
    "    #print(Az,h,RA/15,DEC)\n",
    "    \n",
    "    nRA=int((RA-RAmin)/dRA)\n",
    "    nDEC=int((DEC-DECmin)/dDEC)\n",
    "\n",
    "    if nRA>=NRA or nDEC>=NDEC:continue\n",
    "        \n",
    "    DEC=DECmin+(nDEC+0.5)*dDEC\n",
    "    factor=1/np.cos(DEC*np.pi/180)\n",
    "    \n",
    "    P+=factor*p\n",
    "    hrd[nDEC,nRA]+=factor*p\n",
    "    j+=1\n",
    "hrd/=P"
   ]
  },
  {
   "cell_type": "code",
   "execution_count": 19,
   "metadata": {
    "colab": {},
    "colab_type": "code",
    "id": "C6sn_ap_nHT0"
   },
   "outputs": [],
   "source": [
    "#Surface of the moon\n",
    "sRA=[]\n",
    "sDEC=[]\n",
    "h=0\n",
    "for Az in np.linspace(0,360,100):\n",
    "    RA,DEC=loc2Sky(IMPACT_ET,Az,h,IMPACT_LOC[\"lon\"],IMPACT_LOC[\"lat\"],IMPACT_LOC[\"alt\"],\n",
    "                   \"MOON\",\"IAU_MOON\")\n",
    "    sRA+=[RA]\n",
    "    sDEC+=[DEC]\n",
    "sRA=np.array(sRA);sDEC=np.array(sDEC)"
   ]
  },
  {
   "cell_type": "code",
   "execution_count": 20,
   "metadata": {
    "colab": {
     "base_uri": "https://localhost:8080/",
     "height": 297
    },
    "colab_type": "code",
    "executionInfo": {
     "elapsed": 69991,
     "status": "ok",
     "timestamp": 1554755327372,
     "user": {
      "displayName": "Matipon Tangmatitham",
      "photoUrl": "https://lh6.googleusercontent.com/-Z1Oy2xmUBk0/AAAAAAAAAAI/AAAAAAAAAEA/mmGv3PZGxHE/s64/photo.jpg",
      "userId": "17207820507831638312"
     },
     "user_tz": 240
    },
    "id": "_UV8kLuEnHT4",
    "outputId": "4806202f-d6ba-47eb-a2dc-857034826d7d"
   },
   "outputs": [
    {
     "data": {
      "image/png": "[encoded data removed]",
      "text/plain": [
       "<matplotlib.figure.Figure at 0x181d8815c0>"
      ]
     },
     "metadata": {
      "needs_background": "light"
     },
     "output_type": "display_data"
    }
   ],
   "source": [
    "#Map\n",
    "RAs,DECs=np.meshgrid(np.arange(RAmin,RAmax,dRA),np.arange(DECmin,DECmax,dDEC))\n",
    "hrd/=hrd.sum()\n",
    "hmin=hrd.min();hmax=hrd.max()\n",
    "\n",
    "fig=plt.figure()\n",
    "ax=fig.gca()\n",
    "\n",
    "c=ax.contourf(RAs/15.0,DECs,hrd,levels=np.linspace(hrd.min(),hrd.max(),10)) #,cmap=\"YlOrBr\")\n",
    "cbar=fig.colorbar(c)\n",
    "cbar.ax.set_ylabel('Fraction of Trajetcories',fontsize=12)\n",
    "\n",
    "ytl=[]\n",
    "for y in cbar.ax.get_yticks():\n",
    "    ytl+=[\"%.3f\"%(hmin+y*(hmax-hmin))]\n",
    "cbar.ax.set_yticklabels(ytl)\n",
    "\n",
    "#ax.plot(RA_EARTH,DEC_EARTH,'wo')\n",
    "ax.plot(sRA/15.0,sDEC,'w.',ms=1)\n",
    "\n",
    "ax.set_ylim((-90.0,5*max(sDEC)))\n",
    "ax.set_xlim((0,RAs.max()/15.0))\n",
    "\n",
    "ax.text(RA_EARTH,DEC_EARTH,r'$\\oplus$',ha='center',va='center',color='w',fontsize=16)\n",
    "ax.text(0.5,0.95,\"Moon surface\",ha='center',va='center',transform=ax.transAxes,color='w',fontsize=16)\n",
    "\n",
    "ax.set_xlabel(\"RA (h)\",fontsize=14)\n",
    "ax.set_ylabel(\"DEC (degrees)\",fontsize=14)\n",
    "\n",
    "ax.set_aspect(0.2)\n",
    "fig.tight_layout()\n",
    "fig.savefig(f\"{IMPACT_FIGDIR}/l21j-RA_DEC-map.png\")"
   ]
  },
  {
   "cell_type": "code",
   "execution_count": 21,
   "metadata": {
    "colab": {},
    "colab_type": "code",
    "id": "JYRDzEWKvSc2"
   },
   "outputs": [],
   "source": [
    "#Identify maxima\n",
    "RArad=3.07\n",
    "DECrad=-23.7"
   ]
  },
  {
   "cell_type": "markdown",
   "metadata": {
    "colab_type": "text",
    "id": "07AF3ncAnHT8"
   },
   "source": [
    "### Orbital Map"
   ]
  },
  {
   "cell_type": "code",
   "execution_count": 22,
   "metadata": {
    "colab": {
     "base_uri": "https://localhost:8080/",
     "height": 34
    },
    "colab_type": "code",
    "executionInfo": {
     "elapsed": 71134,
     "status": "ok",
     "timestamp": 1554755328536,
     "user": {
      "displayName": "Matipon Tangmatitham",
      "photoUrl": "https://lh6.googleusercontent.com/-Z1Oy2xmUBk0/AAAAAAAAAAI/AAAAAAAAAEA/mmGv3PZGxHE/s64/photo.jpg",
      "userId": "17207820507831638312"
     },
     "user_tz": 240
    },
    "id": "S3PWbisBnHT9",
    "outputId": "fa858779-9aa6-41c3-8f7f-9c302d02c5cc"
   },
   "outputs": [
    {
     "name": "stderr",
     "output_type": "stream",
     "text": [
      "100%|██████████| 41167/41167 [00:00<00:00, 107265.18it/s]\n"
     ]
    }
   ],
   "source": [
    "amin=0.5;amax=2.5;Na=10;da=(amax-amin)/Na\n",
    "emin=0.0;emax=1.0;Ne=10;de=(emax-emin)/Ne\n",
    "\n",
    "hae=np.zeros((Na,Ne))\n",
    "for i in tqdm(range(Nrays)):\n",
    "    q=data_rays[i,9]\n",
    "    e=data_rays[i,10]\n",
    "    if e>=1:continue\n",
    "    a=q/(1-e)\n",
    "    na=int((a-amin)/da)\n",
    "    ne=int((e-emin)/de)\n",
    "    if na>=Na or ne>=Ne:continue\n",
    "    hae[ne,na]+=1\n",
    "Nt=hae.sum()"
   ]
  },
  {
   "cell_type": "code",
   "execution_count": 23,
   "metadata": {
    "colab": {
     "base_uri": "https://localhost:8080/",
     "height": 297
    },
    "colab_type": "code",
    "executionInfo": {
     "elapsed": 71123,
     "status": "ok",
     "timestamp": 1554755328538,
     "user": {
      "displayName": "Matipon Tangmatitham",
      "photoUrl": "https://lh6.googleusercontent.com/-Z1Oy2xmUBk0/AAAAAAAAAAI/AAAAAAAAAEA/mmGv3PZGxHE/s64/photo.jpg",
      "userId": "17207820507831638312"
     },
     "user_tz": 240
    },
    "id": "BTt2lOVznHUF",
    "outputId": "a736feff-701d-4df7-ed81-c1042f1b5e61"
   },
   "outputs": [
    {
     "data": {
      "image/png": "[encoded data removed]",
      "text/plain": [
       "<matplotlib.figure.Figure at 0x181e82cc18>"
      ]
     },
     "metadata": {
      "needs_background": "light"
     },
     "output_type": "display_data"
    }
   ],
   "source": [
    "#Figure\n",
    "hmin=hae.min()/Nt;hmax=hae.max()/Nt\n",
    "\n",
    "A,E=np.meshgrid(np.arange(amin,amax,da),np.arange(emin,emax,de))\n",
    "fig=plt.figure()\n",
    "ax=fig.gca()\n",
    "\n",
    "im=ax.imshow(hae/Nt,origin='lower')\n",
    "cbar=fig.colorbar(im)\n",
    "cbar.ax.set_ylabel('Fraction of Trajetcories',fontsize=12)\n",
    "\n",
    "ytl=[]\n",
    "for y in cbar.ax.get_yticks():\n",
    "    ytl+=[\"%.3f\"%(hmin+y*(hmax-hmin))]\n",
    "cbar.ax.set_yticklabels(ytl)\n",
    "\n",
    "\n",
    "ax.set_xlabel(\"a (AU)\",fontsize=14)\n",
    "ax.set_ylabel(\"e\",fontsize=14)\n",
    "\n",
    "xts=[]\n",
    "xtl=[]\n",
    "for i in np.arange(0.0,Na+1,1):\n",
    "    xts+=[i-0.5]\n",
    "    xtl+=[\"%.1f\"%(amin+i*da)]\n",
    "t=ax.set_xticks(xts)\n",
    "t=ax.set_xticklabels(xtl)\n",
    "\n",
    "xts=[]\n",
    "xtl=[]\n",
    "for i in np.arange(0.0,Ne+1,1):\n",
    "    xts+=[i-0.5]\n",
    "    xtl+=[\"%.1f\"%(emin+i*de)]\n",
    "t=ax.set_yticks(xts)\n",
    "t=ax.set_yticklabels(xtl)\n",
    "\n",
    "fig.tight_layout()\n",
    "fig.savefig(f\"{IMPACT_FIGDIR}/l21j-ae-map.png\")"
   ]
  },
  {
   "cell_type": "markdown",
   "metadata": {
    "colab_type": "text",
    "id": "DE79vJJ7nHUN"
   },
   "source": [
    "## Photometry"
   ]
  },
  {
   "cell_type": "markdown",
   "metadata": {
    "colab_type": "text",
    "id": "4wO9ybgtvSdA"
   },
   "source": [
    "### Magnitude calculations"
   ]
  },
  {
   "cell_type": "code",
   "execution_count": 24,
   "metadata": {
    "colab": {
     "base_uri": "https://localhost:8080/",
     "height": 1445
    },
    "colab_type": "code",
    "executionInfo": {
     "elapsed": 79484,
     "status": "ok",
     "timestamp": 1554755336914,
     "user": {
      "displayName": "Matipon Tangmatitham",
      "photoUrl": "https://lh6.googleusercontent.com/-Z1Oy2xmUBk0/AAAAAAAAAAI/AAAAAAAAAEA/mmGv3PZGxHE/s64/photo.jpg",
      "userId": "17207820507831638312"
     },
     "user_tz": 240
    },
    "id": "w5ahqFD3vSdB",
    "outputId": "f0d28c96-553e-4551-d0bc-237fb75c9263"
   },
   "outputs": [
    {
     "name": "stdout",
     "output_type": "stream",
     "text": [
      "Fitting photometry for site RD:\n",
      "BD+21 1766:Teo=8.332326935276292,Obs=8.3523,dM=0.019973064723707523\n",
      "BD+20 2007:Teo=9.716401243841592,Obs=9.7906,dM=0.07419875615840787\n",
      "HD 67564:Teo=9.214110841358224,Obs=9.0181,dM=0.19601084135822333\n",
      "TYC 1385-899-1:Teo=10.096088322435435,Obs=10.0132,dM=0.08288832243543531\n",
      "BD+21 1779:Teo=8.862222440980187,Obs=8.9471,dM=0.08487755901981409\n",
      "BD+21 1777:Teo=9.5698938006629,Obs=9.6792,dM=0.10930619933709984\n",
      "BD+20 2009:Teo=10.34659999263705,Obs=10.4423,dM=0.09570000736295015\n",
      "BD+20 2005:Teo=8.665190381334455,Obs=8.6293,dM=0.03589038133445399\n",
      "TYC 1385-939-1:Teo=10.421865975179573,Obs=10.3526,dM=0.06926597517957234\n",
      "\tRMS magnitude fit error:0.09752010282437712\n",
      "\tMagnitude without exposure correction: 11.682978318448377\n",
      "Fitting photometry for site Georgia:\n",
      "TYC 1385-116-1:Teo=10.55747389086084,Obs=10.5824,dM=0.0249261091391606\n",
      "HD 68121:Teo=9.56017838210927,Obs=9.5567,dM=0.003478382109269873\n",
      "TYC 1385-1052-1:Teo=9.909495928692767,Obs=10.0134,dM=0.10390407130723389\n",
      "TYC 1385-368-1:Teo=10.879522526865529,Obs=10.9407,dM=0.06117747313447097\n",
      "TYC 1385-188-1:Teo=10.489357431548676,Obs=10.5111,dM=0.02174256845132483\n",
      "TYC 1385-1391-1:Teo=11.04550220998024,Obs=11.0578,dM=0.012297790019760058\n",
      "TYC 1385-1610-1:Teo=11.236780395242642,Obs=11.2203,dM=0.016480395242641777\n",
      "TYC 1385-1675-1:Teo=10.056760692388128,Obs=9.8901,dM=0.16666069238812753\n",
      "TYC 1385-376-1:Teo=11.429028475139045,Obs=11.3916,dM=0.03742847513904479\n",
      "\tRMS magnitude fit error:0.07090244064155385\n",
      "\tMagnitude without exposure correction: 10.757113322332886\n",
      "Fitting photometry for site CapeVerde:\n",
      "BD+20 2005:Teo=8.736658085269694,Obs=8.6293,dM=0.10735808526969315\n",
      "BD+21 1766:Teo=8.768209604889433,Obs=8.3523,dM=0.41590960488943374\n",
      "BD+20 2007:Teo=9.719346742915683,Obs=9.7906,dM=0.07125325708431696\n",
      "TYC 13841851:Teo=9.621200919086773,Obs=9.8998,dM=0.27859908091322794\n",
      "TYC 13843851:Teo=11.314207629712682,Obs=11.2398,dM=0.074407629712681\n",
      "TYC 13859851:Teo=9.982089030704277,Obs=10.035,dM=0.052910969295723476\n",
      "BD+20 2009:Teo=10.329054746855663,Obs=10.4423,dM=0.11324525314433664\n",
      "TYC 13845091:Teo=11.560351062184129,Obs=11.5007,dM=0.059651062184128634\n",
      "HD 67150:Teo=7.396882111116144,Obs=7.5382,dM=0.1413178888838562\n",
      "\tRMS magnitude fit error:0.1861572157470253\n",
      "\tMagnitude without exposure correction: 10.703111606179952\n",
      "Fitting photometry for site CanaryIslands:\n",
      "HD 67150:Teo=7.51396353347762,Obs=7.5382,dM=0.024236466522379985\n",
      "HD 67424:Teo=8.598367476188725,Obs=8.4742,dM=0.1241674761887257\n",
      "TYC 1385-985-1:Teo=9.93156175705803,Obs=10.035,dM=0.10343824294196935\n",
      "HD 67564:Teo=8.962288582124469,Obs=9.0181,dM=0.05581141787553179\n",
      "BD+20 2007:Teo=9.746633453153631,Obs=9.7906,dM=0.04396654684636836\n",
      "BD+20 2009:Teo=10.401478093076406,Obs=10.4423,dM=0.04082190692359333\n",
      "BD+20 2005:Teo=8.677367359260987,Obs=8.6293,dM=0.04806735926098682\n",
      "TYC 1384-185-1:Teo=9.899716590926532,Obs=9.8998,dM=8.34090734684878e-05\n",
      "TYC 1384-1748-1:Teo=11.223523076831,Obs=11.1274,dM=0.09612307683100063\n",
      "\tRMS magnitude fit error:0.07068628825867503\n",
      "\tMagnitude without exposure correction: 8.517442619794242\n",
      "Fitting photometry for site Germany:\n",
      "HD 67424:Teo=8.176904321471026,Obs=8.4742,dM=0.29729567852897354\n",
      "HD 67346:Teo=7.7450060204940865,Obs=7.4785,dM=0.2665060204940861\n",
      "TYC 1384-1330-1:Teo=9.905332679191604,Obs=9.761000000000001,dM=0.14433267919160286\n",
      "TYC 1384-594-1:Teo=9.621907275620476,Obs=9.6143,dM=0.007607275620475917\n",
      "BD+20 1997:Teo=9.323026912948986,Obs=9.0853,dM=0.23772691294898607\n",
      "BD+20 2002:Teo=9.99629944209745,Obs=10.2011,dM=0.20480055790254958\n",
      "TYC 1385-985-1:Teo=9.755201414415783,Obs=10.035,dM=0.2797985855842171\n",
      "TYC 1384-963-1:Teo=11.063003277848656,Obs=10.7476,dM=0.31540327784865596\n",
      "TYC 1385-1668-1:Teo=10.886118584963283,Obs=11.0758,dM=0.18968141503671632\n",
      "\tRMS magnitude fit error:0.23392848892983786\n",
      "\tMagnitude without exposure correction: 8.541718524388404\n",
      "Fitting photometry for site Czech:\n",
      "HD 67346:Teo=7.496274410951944,Obs=7.4785,dM=0.017774410951943764\n",
      "HD 67424:Teo=8.326322336876279,Obs=8.4742,dM=0.14787766312372064\n",
      "TYC 1385-985-1:Teo=9.715125358782903,Obs=10.035,dM=0.31987464121709763\n",
      "BD+20 2007:Teo=9.606040838055286,Obs=9.7906,dM=0.18455916194471378\n",
      "BD+20 2002:Teo=10.196447031643835,Obs=10.2011,dM=0.0046529683561651325\n",
      "HD 66551:Teo=9.149687538025933,Obs=8.914,dM=0.23568753802593356\n",
      "BD+20 1997:Teo=9.242952006999552,Obs=9.0853,dM=0.15765200699955173\n",
      "TYC 1384-594-1:Teo=9.813295724493294,Obs=9.6143,dM=0.19899572449329384\n",
      "TYC 1384-1330-1:Teo=9.807854685413112,Obs=9.761000000000001,dM=0.046854685413110886\n",
      "\tRMS magnitude fit error:0.1766304001156501\n",
      "\tMagnitude without exposure correction: 6.613071137596139\n",
      "Fitting photometry for site Vienna:\n",
      "HD 67346:Teo=7.484272454735525,Obs=7.4785,dM=0.005772454735524235\n",
      "HD 67424:Teo=8.426051983952103,Obs=8.4742,dM=0.04814801604789665\n",
      "TYC 13859851:Teo=10.075217496518746,Obs=10.035,dM=0.04021749651874629\n",
      "BD+20 2007:Teo=9.779201405343848,Obs=9.7906,dM=0.011398594656151673\n",
      "TYC 13841851:Teo=9.801890547174864,Obs=9.8998,dM=0.09790945282513697\n",
      "BD+20 1997:Teo=9.15360751216755,Obs=9.0853,dM=0.06830751216755004\n",
      "TYC 13845941:Teo=9.611628742706186,Obs=9.6143,dM=0.002671257293814122\n",
      "TYC 138413301:Teo=9.780528206537884,Obs=9.761000000000001,dM=0.01952820653788301\n",
      "HD 67564:Teo=9.044401583825119,Obs=9.0181,dM=0.026301583825118158\n",
      "\tRMS magnitude fit error:0.046465476572823176\n",
      "\tMagnitude without exposure correction: 9.88288177912743\n"
     ]
    }
   ],
   "source": [
    "Gts=[]\n",
    "dGts=[]\n",
    "texps=[]\n",
    "for key,site in sites.items():\n",
    "\n",
    "    print(f\"Fitting photometry for site {key}:\")\n",
    "    \n",
    "    #Extract photometric data\n",
    "    stars=site[\"data\"]\n",
    "    impact=stars.loc[stars[\"ObjName\"]==\"L1-21J\"].iloc[0]\n",
    "    stars=stars.loc[stars[\"type\"]==\"Star\"]\n",
    "    texps+=[site[\"texp\"]]\n",
    "\n",
    "    #Minimize\n",
    "    coefs=deepcopy(PHOTOMETRY_COEFS)\n",
    "    solution=minimize(chiSquare,coefs,args=(stars,False),tol=1e-5)\n",
    "\n",
    "    #Test Solution\n",
    "    chisq,dGs=chiSquare(solution.x,stars,verbose=True)\n",
    "    dG=np.sqrt(np.mean(np.array(dGs)**2))\n",
    "    print(f\"\\tRMS magnitude fit error:{dG}\")\n",
    "    \n",
    "    #Determine the magnitude of the simpact\n",
    "    Gt=Gmag(solution.x,impact[\"CountsR\"],impact[\"CountsG\"],impact[\"CountsB\"])\n",
    "    print(f\"\\tMagnitude without exposure correction:\",Gt)\n",
    "    Gts+=[Gt]\n",
    "    dGts+=[dG]\n",
    "    \n",
    "    site[\"Gt\"]=Gt\n",
    "    site[\"dG\"]=dG\n",
    "    impact.loc[\"G\"]=Gt"
   ]
  },
  {
   "cell_type": "markdown",
   "metadata": {
    "colab_type": "text",
    "id": "R8wgPyg7vSdD"
   },
   "source": [
    "### Intercept calculation"
   ]
  },
  {
   "cell_type": "code",
   "execution_count": 25,
   "metadata": {
    "colab": {
     "base_uri": "https://localhost:8080/",
     "height": 34
    },
    "colab_type": "code",
    "executionInfo": {
     "elapsed": 79472,
     "status": "ok",
     "timestamp": 1554755336916,
     "user": {
      "displayName": "Matipon Tangmatitham",
      "photoUrl": "https://lh6.googleusercontent.com/-Z1Oy2xmUBk0/AAAAAAAAAAI/AAAAAAAAAEA/mmGv3PZGxHE/s64/photo.jpg",
      "userId": "17207820507831638312"
     },
     "user_tz": 240
    },
    "id": "cGt55n-FvSdD",
    "outputId": "97db28fc-6b50-4587-a086-4acbcb9cff4e"
   },
   "outputs": [
    {
     "name": "stdout",
     "output_type": "stream",
     "text": [
      "Best fitted magnitude: 6.791689056124043+/-0.06182268661359558\n"
     ]
    }
   ],
   "source": [
    "photofitparam=[6.0]\n",
    "solution=minimize(photoFit,photofitparam,args=(texps,Gts,dGts))\n",
    "Go=solution.x[0]\n",
    "fun=solution.fun\n",
    "dGo=errorMagnitude(Go,fun,1)\n",
    "print(f\"Best fitted magnitude: {Go}+/-{dGo}\")"
   ]
  },
  {
   "cell_type": "code",
   "execution_count": 26,
   "metadata": {
    "colab": {
     "base_uri": "https://localhost:8080/",
     "height": 297
    },
    "colab_type": "code",
    "executionInfo": {
     "elapsed": 79465,
     "status": "ok",
     "timestamp": 1554755336921,
     "user": {
      "displayName": "Matipon Tangmatitham",
      "photoUrl": "https://lh6.googleusercontent.com/-Z1Oy2xmUBk0/AAAAAAAAAAI/AAAAAAAAAEA/mmGv3PZGxHE/s64/photo.jpg",
      "userId": "17207820507831638312"
     },
     "user_tz": 240
    },
    "id": "MIp5TM44vSdF",
    "outputId": "a5ed79c6-204d-4962-a6b6-95a815e1bd8b"
   },
   "outputs": [
    {
     "data": {
      "image/png": "[encoded data removed]",
      "text/plain": [
       "<matplotlib.figure.Figure at 0x181ef820f0>"
      ]
     },
     "metadata": {
      "needs_background": "light"
     },
     "output_type": "display_data"
    }
   ],
   "source": [
    "fig=plt.figure()\n",
    "ax=fig.gca()\n",
    "\n",
    "tmin=0.125\n",
    "tmax=32.0\n",
    "ts=np.linspace(tmin,tmax,10)\n",
    "\n",
    "ax.errorbar(texps,Gts,yerr=dGts,ls='',fmt='s',ms=4,capsize=5)\n",
    "ax.fill_between(ts,\n",
    "               (Go+dGo)-2.5*np.log10(IMPACT_FLASH/ts),\n",
    "               (Go-dGo)-2.5*np.log10(IMPACT_FLASH/ts),\n",
    "               color='red',alpha=0.2)\n",
    "\n",
    "ax.set_xscale(\"log\")\n",
    "\n",
    "ax.set_xlabel(\"Exposure time (s)\",fontsize=16)\n",
    "ax.set_ylabel(\"$G_t$\",fontsize=14)\n",
    "\n",
    "ax.axvline(IMPACT_FLASH,lw=3,color='b')\n",
    "ax.axhline(Go,ls='--',color='b')\n",
    "\n",
    "ax.set_xlim((tmin,tmax))\n",
    "ax.text(1.1*0.3,12,r\"$t_{\\rm flash}=0.3$ s\",fontsize=16,ha='left')\n",
    "ax.text(0.9*tmax,Go-dGo,f\"$G_f={Go:.2f}\\pm{dGo:.2f}$\",ha='right',va='bottom',fontsize=18)\n",
    "\n",
    "ax.set_xticks([0.25,0.5,1.0,2.0,4.0,8.0,16.0,32.0])\n",
    "ax.get_xaxis().set_tick_params(which='minor', size=0)\n",
    "ax.get_xaxis().set_tick_params(which='minor', width=0) \n",
    "ax.get_xaxis().set_tick_params(which='major', size=0)\n",
    "ax.get_xaxis().set_tick_params(which='major', width=0) \n",
    "ax.xaxis.set_major_formatter(ScalarFormatter())\n",
    "ax.invert_yaxis()\n",
    "ax.grid()\n",
    "\n",
    "fig.tight_layout()\n",
    "fig.savefig(f\"{IMPACT_FIGDIR}/l21j-Gmag-time.png\")"
   ]
  },
  {
   "cell_type": "markdown",
   "metadata": {
    "colab_type": "text",
    "id": "Waa4QguUnHU6"
   },
   "source": [
    "## Energy of the impact"
   ]
  },
  {
   "cell_type": "code",
   "execution_count": 27,
   "metadata": {
    "colab": {
     "base_uri": "https://localhost:8080/",
     "height": 68
    },
    "colab_type": "code",
    "executionInfo": {
     "elapsed": 79453,
     "status": "ok",
     "timestamp": 1554755336923,
     "user": {
      "displayName": "Matipon Tangmatitham",
      "photoUrl": "https://lh6.googleusercontent.com/-Z1Oy2xmUBk0/AAAAAAAAAAI/AAAAAAAAAEA/mmGv3PZGxHE/s64/photo.jpg",
      "userId": "17207820507831638312"
     },
     "user_tz": 240
    },
    "id": "iOjanBWWnHU7",
    "outputId": "c9db9a9c-1ac2-4c98-e625-00827e88c162"
   },
   "outputs": [
    {
     "name": "stdout",
     "output_type": "stream",
     "text": [
      "Luminous energy (log): 6.699334507611363 +/- 0.06098201115527329\n",
      "Kinetic energy (log): 9.305958796538583 +/- 0.1509678812979402\n",
      "Range of kinetic energy in tons: 0.3415067085572129-0.6844394001114759 tons of TNT\n"
     ]
    }
   ],
   "source": [
    "#Luminous energy\n",
    "fany=2\n",
    "Er=NG*10**((-Go+G0)/2.5)*DLAMBDA*fany*np.pi*(MOON_DISTANCE*1e3)**2*IMPACT_FLASH\n",
    "logEr=np.log10(Er)\n",
    "dlogEr=dGo/Go*logEr\n",
    "print(f\"Luminous energy (log): {logEr} +/- {dlogEr}\")\n",
    "#Kinetic energy\n",
    "logK=logEr-logeta_mean\n",
    "dlogK=np.sqrt(dlogEr**2+dlogeta**2)\n",
    "print(f\"Kinetic energy (log): {logK} +/- {dlogK}\")\n",
    "Kton_m=10**(logK-dlogK)/TTNT\n",
    "Kton_p=10**(logK+dlogK)/TTNT\n",
    "print(f\"Range of kinetic energy in tons: {Kton_m}-{Kton_p} tons of TNT\")"
   ]
  },
  {
   "cell_type": "markdown",
   "metadata": {
    "colab_type": "text",
    "id": "-EiBxUmLnHVK"
   },
   "source": [
    "## Meteoroid and crater size"
   ]
  },
  {
   "cell_type": "markdown",
   "metadata": {
    "colab_type": "text",
    "id": "x2cqlpCZnHVO"
   },
   "source": [
    "### Random values of primary quantities "
   ]
  },
  {
   "cell_type": "code",
   "execution_count": 28,
   "metadata": {
    "colab": {},
    "colab_type": "code",
    "id": "0wsAQSQ9nHVP"
   },
   "outputs": [],
   "source": [
    "#Generate random values of the key quantities\n",
    "N=1000\n",
    "#Random kinetic energy\n",
    "logKs=np.random.normal(logK,dlogK,N)\n",
    "Ks=10**logKs\n",
    "#Random impact speed\n",
    "vrs=randomX(vimps,pvs,N)\n",
    "#Random impact angle\n",
    "thetas=randomX(angles,pas,N)\n",
    "#Random densities\n",
    "u=np.random.rand(N)\n",
    "rhos=np.zeros(N)\n",
    "\n",
    "RHO_COMET=1000\n",
    "P_COMET=0.01\n",
    "RHO_ROCKY=2500\n",
    "P_ROCKY=0.59\n",
    "RHO_METAL=3700\n",
    "P_METAL=1-P_COMET-P_ROCKY\n",
    "\n",
    "rhos[(u<0.01)]=RHO_COMET\n",
    "rhos[(u>=0.01)*(u<0.59)]=RHO_ROCKY\n",
    "rhos[(u>=0.59)]=RHO_METAL"
   ]
  },
  {
   "cell_type": "markdown",
   "metadata": {
    "colab_type": "text",
    "id": "bbC8uO37nHVX"
   },
   "source": [
    "### Derived quantities"
   ]
  },
  {
   "cell_type": "code",
   "execution_count": 29,
   "metadata": {
    "colab": {},
    "colab_type": "code",
    "id": "tzNDHXlxnHVZ"
   },
   "outputs": [],
   "source": [
    "#Mass\n",
    "Ms=2*Ks/(vrs*1e3)**2\n",
    "logMs=np.log10(Ms)\n",
    "#Diameter\n",
    "Ds=2*(3*Ms/(3*np.pi*rhos))**(1./3)\n",
    "#Crater diameter\n",
    "dcs=0.25*rhos**(1./6.)*RHO_REG**(-0.5)*Ks**0.29*(np.sin(thetas*DEG))**(1./3.)"
   ]
  },
  {
   "cell_type": "code",
   "execution_count": 30,
   "metadata": {
    "colab": {
     "base_uri": "https://localhost:8080/",
     "height": 68
    },
    "colab_type": "code",
    "executionInfo": {
     "elapsed": 79435,
     "status": "ok",
     "timestamp": 1554755336930,
     "user": {
      "displayName": "Matipon Tangmatitham",
      "photoUrl": "https://lh6.googleusercontent.com/-Z1Oy2xmUBk0/AAAAAAAAAAI/AAAAAAAAAEA/mmGv3PZGxHE/s64/photo.jpg",
      "userId": "17207820507831638312"
     },
     "user_tz": 240
    },
    "id": "id5_UztxvSdP",
    "outputId": "9a6b5ded-bd76-415f-9708-a5831bfdbab4"
   },
   "outputs": [
    {
     "name": "stdout",
     "output_type": "stream",
     "text": [
      "Median impactor mass: 21.621798093430563 kg\n",
      "Median impactor diameter: 0.26616549845418414 m\n",
      "Median crater size: 8.100714641783732 m\n"
     ]
    }
   ],
   "source": [
    "#Basic statistics\n",
    "print(f\"Median impactor mass: {np.percentile(Ms,50)} kg\")\n",
    "print(f\"Median impactor diameter: {np.percentile(Ds,50)} m\")\n",
    "print(f\"Median crater size: {np.percentile(dcs,50)} m\")"
   ]
  },
  {
   "cell_type": "markdown",
   "metadata": {
    "colab_type": "text",
    "id": "FR68XAm0nHVh"
   },
   "source": [
    "### Posterior probability distributions"
   ]
  },
  {
   "cell_type": "code",
   "execution_count": 31,
   "metadata": {
    "colab": {
     "base_uri": "https://localhost:8080/",
     "height": 1010
    },
    "colab_type": "code",
    "executionInfo": {
     "elapsed": 80723,
     "status": "ok",
     "timestamp": 1554755338232,
     "user": {
      "displayName": "Matipon Tangmatitham",
      "photoUrl": "https://lh6.googleusercontent.com/-Z1Oy2xmUBk0/AAAAAAAAAAI/AAAAAAAAAEA/mmGv3PZGxHE/s64/photo.jpg",
      "userId": "17207820507831638312"
     },
     "user_tz": 240
    },
    "id": "YEsXnzZDnHVj",
    "outputId": "6a46d1d5-b830-4010-ea1f-b0ad9b3a58b1"
   },
   "outputs": [
    {
     "name": "stdout",
     "output_type": "stream",
     "text": [
      "Generating statistics of logMs...\n",
      "\tValue: $\\log(M)$$=1.3^{+0.40}_{-0.37}$ [kg]\n",
      "\tCreating figure file .//data/L1-21J/l21j-logMs-ppd.png\n"
     ]
    },
    {
     "name": "stderr",
     "output_type": "stream",
     "text": [
      "/Users/jzuluaga/anaconda/lib/python3.6/site-packages/ipykernel_launcher.py:1: VisibleDeprecationWarning: Passing `normed=True` on non-uniform bins has always been broken, and computes neither the probability density function nor the probability mass function. The result is only correct if the bins are uniform, when density=True will produce the same result anyway. The argument will be removed in a future version of numpy.\n",
      "  \"\"\"Entry point for launching an IPython kernel.\n"
     ]
    },
    {
     "name": "stdout",
     "output_type": "stream",
     "text": [
      "Generating statistics of Ds...\n",
      "\tValue: $D$$=0.3^{+0.07}_{-0.09}$ m\n",
      "\tCreating figure file .//data/L1-21J/l21j-Ds-ppd.png\n",
      "Generating statistics of dcs...\n",
      "\tValue: $d$$=8.1^{+3.08}_{-2.11}$ m\n",
      "\tCreating figure file .//data/L1-21J/l21j-dcs-ppd.png\n"
     ]
    },
    {
     "data": {
      "image/png": "[encoded data removed]",
      "text/plain": [
       "<matplotlib.figure.Figure at 0x181d979f28>"
      ]
     },
     "metadata": {
      "needs_background": "light"
     },
     "output_type": "display_data"
    },
    {
     "data": {
      "image/png": "[encoded data removed]",
      "text/plain": [
       "<matplotlib.figure.Figure at 0x181db5b748>"
      ]
     },
     "metadata": {
      "needs_background": "light"
     },
     "output_type": "display_data"
    },
    {
     "data": {
      "image/png": "[encoded data removed]",
      "text/plain": [
       "<matplotlib.figure.Figure at 0x1822813da0>"
      ]
     },
     "metadata": {
      "needs_background": "light"
     },
     "output_type": "display_data"
    }
   ],
   "source": [
    "properties=[\n",
    "    dict(name=\"$\\log(M)$\",units=\"[kg]\",symbol=\"logMs\",xlabel=r\"$\\log(M/{\\rm kg})$\",ylabel=r\"$p(\\log M)$\"),\n",
    "    dict(name=\"$D$\",units=\"m\",symbol=\"Ds\",xlabel=r\"$D$ (m)\",ylabel=r\"$p(D)$\"),\n",
    "    dict(name=\"$d$\",units=\"m\",symbol=\"dcs\",xlabel=r\"$d$ (m)\",ylabel=r\"$p(d)$\"),\n",
    "]\n",
    "plt.ioff()\n",
    "for q in properties[:]:\n",
    "    \n",
    "    print(f\"Generating statistics of {q['symbol']}...\")\n",
    "    \n",
    "    #Statistics\n",
    "    exec(f\"vs=deepcopy({q['symbol']})\")\n",
    "    exec(f\"hs,xs=np.histogram({q['symbol']},100,normed=True)\")\n",
    "    xms=(xs[1:]+xs[:-1])/2\n",
    "    #Error\n",
    "    x1,xm,x2=np.percentile(vs,[15,50,85])\n",
    "    mv=xm-x1;pv=x2-xm\n",
    "          \n",
    "    if q[\"symbol\"]==\"logMs\":\n",
    "          logMs_val=xm\n",
    "          dlogMs_m=x1-xm\n",
    "          dlogMs_p=x2-xm\n",
    "    elif q[\"symbol\"]==\"Ds\":\n",
    "          Ds_val=xm\n",
    "          dDs_m=x1-xm\n",
    "          dDs_p=x2-xm\n",
    "    elif q[\"symbol\"]==\"dcs\":\n",
    "          dcs_val=xm\n",
    "          ddcs_m=x1-xm\n",
    "          ddcs_p=x2-xm\n",
    "\n",
    "    #Plot distributions\n",
    "    fig=plt.figure()\n",
    "    ax=fig.gca()\n",
    "    ax.step(xms,hs,color='r',lw=2)\n",
    "\n",
    "    ax.set_xlabel(q[\"xlabel\"],fontsize=14)\n",
    "    ax.set_ylabel(q[\"ylabel\"],fontsize=14)\n",
    "\n",
    "    ax.axvspan(x1,xm,color='k',alpha=0.3)\n",
    "    ax.axvline(xm,color='k',lw=2)\n",
    "    ax.axvspan(xm,x2,color='k',alpha=0.3)\n",
    "\n",
    "    value=r\"%s$=%.1lf^{+%.2lf}_{-%.2f}$ %s\"%(q[\"name\"],xm,mv,pv,q[\"units\"])\n",
    "    print(f\"\\tValue: {value}\")\n",
    "    ax.text(0.5,0.1,value,\n",
    "            transform=ax.transAxes,ha='center',va='center',fontsize=14,bbox=dict(facecolor='lightgray'))\n",
    "\n",
    "    ymin,ymax=ax.get_ylim()\n",
    "    ax.set_ylim((0,ymax))\n",
    "    ax.set_xlim((x1-2*mv,x2+2*pv))\n",
    "    fname=f\"{IMPACT_FIGDIR}/l21j-{q['symbol']}-ppd.png\"\n",
    "    print(f\"\\tCreating figure file {fname}\")\n",
    "    fig.savefig(fname)\n",
    "    fig.tight_layout()\n",
    "    del(fig)\n",
    "\n",
    "\n",
    "Mmin=10**(logMs_val+dlogMs_m)\n",
    "Mmax=10**(logMs_val+dlogMs_p)\n",
    "Dmin=Ds_val+dDs_m\n",
    "Dmax=Ds_val+dDs_p\n",
    "dmin=dcs_val+ddcs_m\n",
    "dmax=dcs_val+ddcs_p"
   ]
  },
  {
   "cell_type": "markdown",
   "metadata": {
    "colab_type": "text",
    "id": "dcFMk9A_vSdW"
   },
   "source": [
    "## Generate paper content"
   ]
  },
  {
   "cell_type": "markdown",
   "metadata": {
    "colab_type": "text",
    "id": "P2splj_SvSdX"
   },
   "source": [
    "### Macros"
   ]
  },
  {
   "cell_type": "code",
   "execution_count": 32,
   "metadata": {
    "colab": {},
    "colab_type": "code",
    "id": "2tmpQ3DsvSdX"
   },
   "outputs": [],
   "source": [
    "#First set of \n",
    "f=open(f\"{IMPACT_FIGDIR}/macros-results.tex\",\"w\")\n",
    "\n",
    "f.write(\"\\\\newcommand{\\\\vimpvalue}{%.1f^{%+.1f}_{%+.1f}} %s%%km/s\\n\"%(vimp,dvimp_p,dvimp_m,\"\"))\n",
    "f.write(\"\\\\newcommand{\\\\thetamax}{%.1f} %s%%deg\\n\"%(thetamax,\"\"))\n",
    "f.write(\"\\\\newcommand{\\\\Erel}{%s} %s%%log J\\n\"%(val2Exp(Er,fmt=\"%.0f\",text=True),\"\"))\n",
    "f.write(\"\\\\newcommand{\\\\tflash}{%.1f} %s%%s \\n\"%(IMPACT_FLASH,\"\"))\n",
    "f.write(\"\\\\newcommand{\\\\Eimp}{%.1f-%.1f} %s%%tons of TNT\\n\"%(Kton_m,Kton_p,\"\"))\n",
    "f.write(\"\\\\newcommand{\\\\Mrange}{%.0f-%.0f} %s%%kg\\n\"%(Mmin,Mmax,\"\"))\n",
    "f.write(\"\\\\newcommand{\\\\Drange}{%.0f-%.0f} %s%%cm\\n\"%(100*Dmin,100*Dmax,\"\"))\n",
    "f.write(\"\\\\newcommand{\\\\craterRange}{%.0f-%.0f} %s%%m\\n\"%(dmin,dmax,\"\"))\n",
    "f.write(\"\\\\newcommand{\\\\flashtime}{%s}%s\\n\"%(IMPACT_TIME,\"\"))\n",
    "f.write(\"\\\\newcommand{\\\\etarange}{%g-%g} %s%%adim.\\n\"%(eta_min,eta_max,\"\"))\n",
    "f.write(\"\\\\newcommand{\\\\logeta}{%.2f\\pm%.2f} %s%%log\\n\"%(logeta_mean,dlogeta,\"\"))\n",
    "\n",
    "#Position by visual inspection\n",
    "f.write(\"\\\\newcommand{\\\\latvisual}{%.2f} %s%%deg\\n\"%(IMPACT_LOC[\"lat\"],\"\"))\n",
    "f.write(\"\\\\newcommand{\\\\lonvisual}{%.2f} %s%%deg\\n\"%(IMPACT_LOC[\"lon\"],\"\"))\n",
    "\n",
    "#Position by geometrical procedure\n",
    "f.write(\"\\\\newcommand{\\\\latgeo}{%+.2f^{%+.2f}_{%+.2f}} %s%%deg\\n\"%(latGeo,dlatGeo_p,dlatGeo_m,\"\"))\n",
    "f.write(\"\\\\newcommand{\\\\longeo}{%+.2f^{%+.2f}_{%+.2f}} %s%%deg\\n\"%(lonGeo,dlonGeo_p,dlonGeo_m,\"\"))\n",
    "\n",
    "#Position by paralax\n",
    "f.write(\"\\\\newcommand{\\\\latpar}{%.2f\\pm 0.20} %s%%deg\\n\"%(Impact[\"slat\"],\"\"))\n",
    "f.write(\"\\\\newcommand{\\\\lonpar}{%.2f\\pm 0.08} %s%%deg\\n\"%(Impact[\"slon\"],\"\"))\n",
    "\n",
    "#Radiant\n",
    "f.write(\"\\\\newcommand{\\\\RArad}{%.1f} %s%%h\\n\"%(RArad,\"\"))\n",
    "f.write(\"\\\\newcommand{\\\\DECrad}{%.1f} %s%%deg\\n\"%(DECrad,\"\"))\n",
    "\n",
    "f.write(\"\\\\newcommand{\\\\Gf}{%.2f \\pm %.2f} %s%%mag\\n\"%(Go,dGo,\"\"))\n",
    "\n",
    "#Energy estimation\n",
    "f.write(\"\\\\newcommand{\\\\Moondist}{%g} %s%%km\\n\"%(MOON_DISTANCE,\"\"))\n",
    "f.write(\"\\\\newcommand{\\\\bG}{%s} %s%%bG\\n\"%(val2Exp(NG,fmt=\"%.1f\",text=True),\"\"))\n",
    "f.write(\"\\\\newcommand{\\\\Go}{%g} %s%%G0\\n\"%(G0,\"\"))\n",
    "f.write(\"\\\\newcommand{\\\\deltaLambda}{%.3f} %s%%nm\\n\"%(DLAMBDA,\"\"))\n",
    "f.write(\"\\\\newcommand{\\\\fany}{%g} %s%%adim\\n\"%(fany,\"\"))\n",
    "\n",
    "#Result of the energy\n",
    "f.write(\"\\\\newcommand{\\\\logEr}{%.1f\\pm %.3f} %s%%logJ\\n\"%(logEr,dlogEr,\"\"))\n",
    "f.write(\"\\\\newcommand{\\\\logK}{%.2f\\pm %.2f} %s%%logJ\\n\"%(logK,dlogK,\"\"))\n",
    "f.write(\"\\\\newcommand{\\\\rhoRegolith}{%g} %s%%g/cc\\n\"%(RHO_REG,\"\"))\n",
    "f.write(\"\\\\newcommand{\\\\rhoMin}{%g} %s%%g/cc\\n\"%(RHO_COMET,\"\"))\n",
    "f.write(\"\\\\newcommand{\\\\rhoMax}{%g} %s%%g/cc\\n\"%(RHO_METAL,\"\"))\n",
    "f.write(\"\\\\newcommand{\\\\rhoComet}{%g} %s%%g/cc\\n\"%(RHO_COMET,\"\"))\n",
    "f.write(\"\\\\newcommand{\\\\pComet}{%.1f} %s%%percentage\\n\"%(100*P_COMET,\"\"))\n",
    "f.write(\"\\\\newcommand{\\\\rhoRocky}{%g} %s%%g/cc\\n\"%(RHO_ROCKY,\"\"))\n",
    "f.write(\"\\\\newcommand{\\\\pRocky}{%.0f} %s%%percentage\\n\"%(100*P_ROCKY,\"\"))\n",
    "f.write(\"\\\\newcommand{\\\\rhoMetal}{%g} %s%%g/cc\\n\"%(RHO_METAL,\"\"))\n",
    "f.write(\"\\\\newcommand{\\\\pMetal}{%.0f} %s%%percentage\\n\"%(P_METAL,\"\"))\n",
    "\n",
    "#Geocentric position of the impact\n",
    "f.write(\"\\\\newcommand{\\\\RAgeo}{%.5f} %s%%h\\n\"%(Impact[\"RAgeo\"],\"\"))\n",
    "f.write(\"\\\\newcommand{\\\\DECgeo}{%.5f} %s%%deg\\n\"%(Impact[\"DECgeo\"],\"\"))\n",
    "f.write(\"\\\\newcommand{\\\\Dimpgeo}{%.0f} %s%%deg\\n\"%(Impact[\"Distance\"]*REARTH,\"\"))\n",
    "\n",
    "\n",
    "#Geocentric position of the lunar center\n",
    "f.write(\"\\\\newcommand{\\\\RAcen}{%.5f} %s%%h\\n\"%(Center[\"RAgeo\"],\"\"))\n",
    "f.write(\"\\\\newcommand{\\\\DECcen}{%.5f} %s%%deg\\n\"%(Center[\"DECgeo\"],\"\"))\n",
    "f.write(\"\\\\newcommand{\\\\Dcengeo}{%.0f} %s%%deg\\n\"%(Center[\"Distance\"]*REARTH,\"\"))\n",
    "\n",
    "#NASA SPICE NAIF position\n",
    "f.write(\"\\\\newcommand{\\\\RAcenNASA}{%.5f} %s%%h\\n\"%(RA_MOON,\"\"))\n",
    "f.write(\"\\\\newcommand{\\\\DECcenNASA}{%.5f} %s%%deg\\n\"%(DEC_MOON,\"\"))\n",
    "f.write(\"\\\\newcommand{\\\\DcenNASA}{%g} %s%%deg\\n\"%(MOON_DISTANCE,\"\"))\n",
    "        \n",
    "f.close()"
   ]
  },
  {
   "cell_type": "markdown",
   "metadata": {
    "colab_type": "text",
    "id": "h8jOOC5BvSdZ"
   },
   "source": [
    "### Observations"
   ]
  },
  {
   "cell_type": "code",
   "execution_count": 33,
   "metadata": {
    "colab": {},
    "colab_type": "code",
    "id": "smJYQcFzvSda"
   },
   "outputs": [],
   "source": [
    "#First set of \n",
    "f=open(f\"{IMPACT_FIGDIR}/tab-observations.tex\",\"w\")\n",
    "\n",
    "f.write(\"\"\"%TTTTTTTTTTTTTTTTTTTTTTTTTTTTTTTTTTTTTTTTTTTTTTTT\n",
    "%REFERENCE STARS TABLE\n",
    "\\\\begin{table*}\n",
    "\\\\centering\n",
    "\\\\resizebox{\\\\textwidth}{!}{%\n",
    "\\\\begin{tabular}{c|cc|rrr|rrr|rr}\n",
    "\\\\hline\\\\hline\n",
    "Star name & \n",
    "\\\\multicolumn{2}{c|}{Sky Position$^\\\\dagger$} & \n",
    "\\\\multicolumn{3}{c|}{Magnitudes} & \n",
    "\\\\multicolumn{3}{c|}{Counts (AP$^{\\\\dagger\\\\dagger}$)} & \n",
    "\\\\multicolumn{2}{c}{Coordinates}\\\\\\\\\n",
    " & RA & DEC & B & V & G$^\\\\ddagger$ & Red & Green & Blue & X & Y\\\\\\\\\n",
    "\\\\hline\n",
    "\"\"\")\n",
    "for keys in [\"RD\",\"Georgia\",\"CapeVerde\",\"CanaryIslands\"]:\n",
    "    site=sites[keys]\n",
    "    data=site[\"data\"]\n",
    "    f.write(\"\"\"\n",
    "\\\\hline\n",
    "\\\\multicolumn{11}{c}{%s}\\\\\\\\\n",
    "\\\\hline\n",
    "\"\"\"%keys)\n",
    "    for ind,star in data.loc[data[\"type\"]==\"Star\"].iterrows():\n",
    "        row=f\"{star.ObjName} & \"\n",
    "        comment=\"\"\n",
    "        for field in \"RA\",\"DEC\",\"B\",\"V\",\"G\",\"CountsR\",\"CountsG\",\"CountsB\",\"X\",\"Y\":\n",
    "            value=star[field]\n",
    "            if value==-1:\n",
    "                value=\"-\"\n",
    "            if field==\"RA\" or field==\"DEC\":\n",
    "                row+=f\"{value:.5f}{comment} & \"\n",
    "            elif field==\"X\" or field==\"Y\":\n",
    "                row+=f\"{value:.0f}{comment} & \"\n",
    "            elif field==\"B\" or field==\"V\" or field==\"G\":\n",
    "                row+=f\"{value:.2f}{comment} & \"\n",
    "            else:\n",
    "                row+=f\"{value}{comment} & \"\n",
    "        row=row.strip(\" & \")\n",
    "        row+=\"\\\\\\\\\\n\"\n",
    "        f.write(row)\n",
    "\n",
    "    star=data.loc[data[\"ObjName\"]==\"L1-21J\"].iloc[0]\n",
    "    comment=\"\"\n",
    "    row=f\"{star.ObjName} & \"\n",
    "    for field in \"RA\",\"DEC\",\"B\",\"V\",\"G\",\"CountsR\",\"CountsG\",\"CountsB\",\"X\",\"Y\":\n",
    "        value=star[field]\n",
    "        if value==-1:\n",
    "            value=\"-\"\n",
    "        if field==\"RA\" or field==\"DEC\":\n",
    "            comment=\"*\"\n",
    "            row+=f\"{value:.4f}{comment} & \"\n",
    "        elif field==\"X\" or field==\"Y\":\n",
    "            row+=f\"{value:.0f}{comment} & \"\n",
    "        else:\n",
    "            comment=\"\"\n",
    "            row+=f\"{value}{comment} & \"\n",
    "    row=row.strip(\" & \")\n",
    "    row+=\"\\\\\\\\\\n\"\n",
    "    f.write(row)\n",
    "\n",
    "f.write(\"\"\"\n",
    "\\\\hline\n",
    "\\\\multicolumn{11}{c}{\\\\it Continues in Table \\\\ref{tab:referencestars2}}\\\\\\\\\n",
    "\\\\hline\\\\hline\n",
    "\\\\multicolumn{11}{l}{\\\\footnotesize $^\\\\ddagger$ J2000, $^\\\\ddagger$ Gaia G-magnitude, $^{\\\\dagger\\\\dagger}$ Aperture photometry}\\\\\\\\\n",
    "\\\\multicolumn{11}{l}{\\\\footnotesize $^*$ Calculated coordinates (see Section \\\\ref{sec:parallax})}\\\\\\\\\n",
    "\\\\end{tabular}}\n",
    "\\\\caption{Reference stars properties, photometry and astrometry results for the pictures analysed in this work.\\\\label{tab:referencestars1}}\n",
    "\\\\end{table*}\n",
    "\"\"\")\n",
    "\n",
    "\n",
    "f.write(\"\"\"%TTTTTTTTTTTTTTTTTTTTTTTTTTTTTTTTTTTTTTTTTTTTTTTT\n",
    "%REFERENCE STARS TABLE\n",
    "\\\\begin{table*}\n",
    "\\\\centering\n",
    "\\\\resizebox{\\\\textwidth}{!}{%\n",
    "\\\\begin{tabular}{c|cc|rrr|rrr|rr}\n",
    "\\\\hline\\\\hline\n",
    "Star name & \n",
    "\\\\multicolumn{2}{c|}{Sky Position$^\\\\dagger$} & \n",
    "\\\\multicolumn{3}{c|}{Magnitudes} & \n",
    "\\\\multicolumn{3}{c|}{Counts (AP$^{\\\\dagger\\\\dagger}$)} & \n",
    "\\\\multicolumn{2}{c}{Coordinates}\\\\\\\\\n",
    " & RA & DEC & B & V & G$^\\\\ddagger$ & Red & Green & Blue & X & Y\\\\\\\\\n",
    "\\\\hline\n",
    "\\\\hline\n",
    "\\\\multicolumn{11}{c}{\\\\it Continued from Table \\\\ref{tab:referencestars1}}\\\\\\\\\n",
    "\"\"\")\n",
    "for keys in [\"Germany\",\"Czech\",\"Vienna\"]:\n",
    "    site=sites[keys]\n",
    "    data=site[\"data\"]\n",
    "    f.write(\"\"\"\n",
    "\\\\hline\n",
    "\\\\multicolumn{11}{c}{%s}\\\\\\\\\n",
    "\\\\hline\n",
    "\"\"\"%keys)\n",
    "    for ind,star in data.loc[data[\"type\"]==\"Star\"].iterrows():\n",
    "        row=f\"{star.ObjName} & \"\n",
    "        comment=\"\"\n",
    "        for field in \"RA\",\"DEC\",\"B\",\"V\",\"G\",\"CountsR\",\"CountsG\",\"CountsB\",\"X\",\"Y\":\n",
    "            value=star[field]\n",
    "            if value==-1:\n",
    "                value=\"-\"\n",
    "            if field==\"RA\" or field==\"DEC\":\n",
    "                row+=f\"{value:.5f}{comment} & \"\n",
    "            elif field==\"X\" or field==\"Y\":\n",
    "                row+=f\"{value:.0f}{comment} & \"\n",
    "            elif field==\"B\" or field==\"V\" or field==\"G\":\n",
    "                row+=f\"{value:.2f}{comment} & \"\n",
    "            else:\n",
    "                row+=f\"{value}{comment} & \"\n",
    "        row=row.strip(\" & \")\n",
    "        row+=\"\\\\\\\\\\n\"\n",
    "        f.write(row)\n",
    "\n",
    "    star=data.loc[data[\"ObjName\"]==\"L1-21J\"].iloc[0]\n",
    "    comment=\"\"\n",
    "    row=f\"{star.ObjName} & \"\n",
    "    for field in \"RA\",\"DEC\",\"B\",\"V\",\"G\",\"CountsR\",\"CountsG\",\"CountsB\",\"X\",\"Y\":\n",
    "        value=star[field]\n",
    "        if value==-1:\n",
    "            value=\"-\"\n",
    "        if field==\"RA\" or field==\"DEC\":\n",
    "            comment=\"*\"\n",
    "            row+=f\"{value:.4f}{comment} & \"\n",
    "        elif field==\"X\" or field==\"Y\":\n",
    "            row+=f\"{value:.0f}{comment} & \"\n",
    "        else:\n",
    "            comment=\"\"\n",
    "            row+=f\"{value}{comment} & \"\n",
    "    row=row.strip(\" & \")\n",
    "    row+=\"\\\\\\\\\\n\"\n",
    "    f.write(row)\n",
    "\n",
    "f.write(\"\"\"\n",
    "\\\\hline\\\\hline\n",
    "\\\\end{tabular}}\n",
    "\\\\caption{Continuation of Table \\\\ref{tab:referencestars1}.\\\\label{tab:referencestars2}}\n",
    "\\\\end{table*}\n",
    "\"\"\")\n",
    "\n",
    "f.close()"
   ]
  },
  {
   "cell_type": "markdown",
   "metadata": {
    "colab_type": "text",
    "id": "lOoKv32zvSdb"
   },
   "source": [
    "### Observing sites"
   ]
  },
  {
   "cell_type": "code",
   "execution_count": 34,
   "metadata": {
    "colab": {},
    "colab_type": "code",
    "id": "Eh1h5vUYvSdc"
   },
   "outputs": [],
   "source": [
    "#First set of \n",
    "f=open(f\"{IMPACT_FIGDIR}/tab-locations.tex\",\"w\")\n",
    "\n",
    "f.write(\"\"\"\n",
    "%TTTTTTTTTTTTTTTTTTTTTTTTTTTTTTTTTTTTTTTTTTTTTTTT\n",
    "%ASTROMETRY\n",
    "\\\\begin{table*}\n",
    "\\\\centering\n",
    "\\\\resizebox{\\\\textwidth}{!}{\\\\begin{tabular}{cccccccc}\n",
    "\\\\hline\\\\hline\n",
    "Location & Latitude & Longitude & Elevation & Exposure time & Flash magnitude$^\\\\dagger$ & Apparent Position$^\\\\ddagger$ &  Selenographic Coordinates$^\\\\ddagger$ \\\\\\\\\n",
    " & (deg) & (deg) & (m) & (seconds) & (G magnitude) & J2000(RA, Dec) & (Lat., Lon.) \\\\\\\\\\\\hline\n",
    "\"\"\")\n",
    "\n",
    "for key,site in sites.items():\n",
    "    data=site[\"data\"]\n",
    "    locname=site[\"location\"].replace(\" (\",\"\\\\\\\\(\")\n",
    "    impact=data.loc[data[\"ObjName\"]==\"L1-21J\"].iloc[0]\n",
    "    row=f\"{locname} & {site['lat']:.5f} & {site['lon']:.5f} & {site['alt']} & {site['texp']} & ${site['Gt']:.2f}\\\\pm {site['dG']:.2f}$ & ({impact['RA']:.4f},{impact['DEC']:.4f}) & ({site['ImpactLat']:.2f},{site['ImpactLon']:.2f})\\\\\\\\%\\\\hline\\n\"\n",
    "    f.write(row)\n",
    "\n",
    "f.write(\"\"\"\n",
    "\\\\hline\\\\hline\n",
    "\\\\multicolumn{8}{l}{$^\\\\dagger$ Section \\\\ref{sec:energy}, $^\\\\ddagger$ Section \\\\ref{sec:location}.}\n",
    "\\\\end{tabular}}\n",
    "\\\\caption{\\\\hl{Porperties of the images analized in this work.}\\\\label{tab:locations}}\n",
    "\\\\end{table*}\n",
    "%TTTTTTTTTTTTTTTTTTTTTTTTTTTTTTTTTTTTTTTTTTTTTTTT\n",
    "\"\"\")\n",
    "\n",
    "f.close()"
   ]
  },
  {
   "cell_type": "markdown",
   "metadata": {
    "colab_type": "text",
    "id": "6CZs1EutvSde"
   },
   "source": [
    "### Reference Lunar Features"
   ]
  },
  {
   "cell_type": "code",
   "execution_count": 35,
   "metadata": {
    "colab": {},
    "colab_type": "code",
    "id": "iRRqIJIMvSde"
   },
   "outputs": [],
   "source": [
    "#First set of \n",
    "f=open(f\"{IMPACT_FIGDIR}/tab-lunar.tex\",\"w\")\n",
    "\n",
    "f.write(\"\"\"\n",
    "%TTTTTTTTTTTTTTTTTTTTTTTTTTTTTTTTTTTTTTTTTTTTTTTT\n",
    "%LUNAR SURFACE FEATURES TABLE\n",
    "\\\\begin{table*}\n",
    "\\\\centering\n",
    "\\\\begin{tabular}{cccc}\n",
    "\\\\hline\\\\hline\n",
    "Surface Feature & Selenographic Coordinates & Geocentric Position$^\\\\dagger$ & Distance$^\\\\dagger$ \\\\\\\\\n",
    "                & (Lat.,Lon.)               & J2000 (RA,Dec)      & (km)     \\\\\\\\\\\\hline\n",
    "\"\"\")\n",
    "\n",
    "for ind,lunarsite in LunarSites.iterrows():\n",
    "    comment=\"\"\n",
    "    \n",
    "    coordinates=f\"({lunarsite['slat']:.2f},{lunarsite['slon']:.2f})\"\n",
    "    if lunarsite[\"LunarSite\"]==\"L1-21J\":\n",
    "        comment=\"$^\\\\ddagger$\"\n",
    "    if \"Center\" in lunarsite[\"LunarSite\"]:\n",
    "        coordinates=f\"-\"\n",
    "    f.write(f\"{lunarsite['LunarSite']} & {coordinates}{comment} & ({lunarsite['RAgeo']:.4f},{lunarsite['DECgeo']:.4f}) & {REARTH*lunarsite['Distance']:.0f}\\\\\\\\\\n\")\n",
    "    \n",
    "f.write(\"\"\"\n",
    "\\\\hline\\\\hline\n",
    "\\\\multicolumn{4}{l}{\\\\footnotesize $^\\\\dagger$ Calculated geocentric coordinates and distance (see Section \\\\ref{sec:parallax})}\\\\\\\\\n",
    "\\\\multicolumn{4}{l}{\\\\footnotesize $^\\\\ddagger$ Calculated with our geometrical procedure (see Section \\\\ref{subsec:geolocation})}\\\\\\\\\n",
    "\\\\end{tabular}\n",
    "\\\\caption{Lunar features reference points and their selenographic coordinates, along with the apparent geocentric equatorial coordinate RA, Dec and geocentric distance results from parallax analysis.}\n",
    "\\\\label{tab:surfacefeatures}\n",
    "\\\\end{table*}\n",
    "%TTTTTTTTTTTTTTTTTTTTTTTTTTTTTTTTTTTTTTTTTTTTTTTT\n",
    "\"\"\")\n",
    "f.close()"
   ]
  },
  {
   "cell_type": "code",
   "execution_count": null,
   "metadata": {
    "colab": {},
    "colab_type": "code",
    "id": "rqIrpHWbvSdg"
   },
   "outputs": [],
   "source": []
  }
 ],
 "metadata": {
  "colab": {
   "collapsed_sections": [],
   "name": "L1-21-J-Analysis.ipynb",
   "provenance": [],
   "toc_visible": true,
   "version": "0.3.2"
  },
  "kernelspec": {
   "display_name": "Python 3",
   "language": "python",
   "name": "python3"
  },
  "language_info": {
   "codemirror_mode": {
    "name": "ipython",
    "version": 3
   },
   "file_extension": ".py",
   "mimetype": "text/x-python",
   "name": "python",
   "nbconvert_exporter": "python",
   "pygments_lexer": "ipython3",
   "version": "3.6.8"
  }
 },
 "nbformat": 4,
 "nbformat_minor": 1
}
