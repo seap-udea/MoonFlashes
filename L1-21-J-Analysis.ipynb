{
 "cells": [
  {
   "cell_type": "markdown",
   "metadata": {
    "colab_type": "text",
    "id": "WZID_uHPnHSy"
   },
   "source": [
    "# Analysis of the L1-21J impact event on the Moon"
   ]
  },
  {
   "cell_type": "markdown",
   "metadata": {
    "colab_type": "text",
    "id": "sI89EzO-nHS1"
   },
   "source": [
    "*\"Location, orbit and energy of a meteoroid impacting the moon during the Lunar Eclipse of January 21, 2019* by Jorge I. Zuluaga, Pablo A. Cuartas, Jonathan Ospina, Matipon Tangmatitham, Sergio López, Fritz Pichardo & Karl Peña"
   ]
  },
  {
   "cell_type": "code",
   "execution_count": 1,
   "metadata": {
    "colab": {},
    "colab_type": "code",
    "id": "LdsimnGiwWNI"
   },
   "outputs": [],
   "source": [
    "BDIR=\"./\""
   ]
  },
  {
   "cell_type": "markdown",
   "metadata": {
    "colab_type": "text",
    "id": "ASf8eN0znvza"
   },
   "source": [
    "## Preparing the Environment\n",
    "\n",
    "Please skip if you are working on a Jupyter environment"
   ]
  },
  {
   "cell_type": "code",
   "execution_count": 2,
   "metadata": {
    "colab": {},
    "colab_type": "code",
    "id": "_AAT4Ykhn1Fy"
   },
   "outputs": [],
   "source": [
    "#ENVIRONMENT=\"Colaboratory\"\n",
    "ENVIRONMENT=\"Jupyter\"\n",
    "DATADIR=\"MoonFlashes\""
   ]
  },
  {
   "cell_type": "code",
   "execution_count": 3,
   "metadata": {
    "colab": {
     "base_uri": "https://localhost:8080/",
     "height": 343
    },
    "colab_type": "code",
    "executionInfo": {
     "elapsed": 35996,
     "status": "ok",
     "timestamp": 1554359844670,
     "user": {
      "displayName": "Matipon Tangmatitham",
      "photoUrl": "https://lh6.googleusercontent.com/-Z1Oy2xmUBk0/AAAAAAAAAAI/AAAAAAAAAEA/mmGv3PZGxHE/s64/photo.jpg",
      "userId": "17207820507831638312"
     },
     "user_tz": 240
    },
    "id": "utOfzl0_nizl",
    "outputId": "bfad1df7-8078-4bda-9bf4-ddad04cadfab"
   },
   "outputs": [
    {
     "name": "stdout",
     "output_type": "stream",
     "text": [
      "Home, sweet home\n"
     ]
    }
   ],
   "source": [
    "if ENVIRONMENT==\"Colaboratory\":\n",
    "  try:\n",
    "    import spiceypy\n",
    "  except:\n",
    "    !pip install spiceypy\n",
    "  from google.colab import drive,files\n",
    "  drive.mount('/content/gdrive')\n",
    "  \n",
    "  BDIR=f\"gdrive/My Drive/{DATADIR}/\"\n",
    "else:\n",
    "  BDIR=\"./\"\n",
    "from glob import glob \n",
    "if len(glob(f\"{BDIR}/data\"))==0:\n",
    "  print(\"You are not in the proper directory.  Please correct\")\n",
    "else:\n",
    "  print(\"Home, sweet home\")"
   ]
  },
  {
   "cell_type": "markdown",
   "metadata": {
    "colab_type": "text",
    "id": "JMRUY8Slvxmz"
   },
   "source": [
    "## External modules, constants and useful routines"
   ]
  },
  {
   "cell_type": "markdown",
   "metadata": {},
   "source": [
    "### External modules and macros"
   ]
  },
  {
   "cell_type": "code",
   "execution_count": 4,
   "metadata": {
    "colab": {},
    "colab_type": "code",
    "id": "AbcuOXVTnHS5"
   },
   "outputs": [],
   "source": [
    "###################################################################\n",
    "#EXTERNAL MODULES\n",
    "###################################################################\n",
    "import numpy as np\n",
    "from matplotlib import pyplot as plt\n",
    "from matplotlib.ticker import ScalarFormatter\n",
    "import pandas as pd\n",
    "from scipy.optimize import minimize\n",
    "from scipy import optimize\n",
    "from scipy.interpolate import interp1d as interpolate\n",
    "from scipy.integrate import quad as integrate\n",
    "import statistics as stats\n",
    "import spiceypy as spy\n",
    "from copy import deepcopy\n",
    "from tqdm import tqdm\n",
    "from collections import OrderedDict\n",
    "import math\n",
    "\n",
    "if ENVIRONMENT==\"Colaboratory\":\n",
    "    %matplotlib inline\n",
    "else:\n",
    "    %matplotlib nbagg\n",
    "\n",
    "###################################################################\n",
    "#INITIALIZE SPICE\n",
    "###################################################################\n",
    "spy.furnsh(BDIR+\"kernels/de430.bsp\")\n",
    "spy.furnsh(BDIR+\"kernels/naif0012.tls\")\n",
    "spy.furnsh(BDIR+\"kernels/pck00010.tpc\")\n",
    "spy.furnsh(BDIR+\"kernels/moon_pa_de421_1900-2050.bpc\")\n",
    "\n",
    "#Useful package routines\n",
    "norm=np.linalg.norm"
   ]
  },
  {
   "cell_type": "markdown",
   "metadata": {
    "colab_type": "text",
    "id": "m8ehV4yYnHS_"
   },
   "source": [
    "### Constants and Macros"
   ]
  },
  {
   "cell_type": "code",
   "execution_count": 5,
   "metadata": {
    "colab": {
     "base_uri": "https://localhost:8080/",
     "height": 85
    },
    "colab_type": "code",
    "executionInfo": {
     "elapsed": 647,
     "status": "ok",
     "timestamp": 1554355987464,
     "user": {
      "displayName": "JORGE IVAN ZULUAGA CALLEJAS",
      "photoUrl": "https://lh4.googleusercontent.com/--qQIu7n9AF0/AAAAAAAAAAI/AAAAAAAAAFs/vG8EzXLEHBQ/s64/photo.jpg",
      "userId": "14268130563590845195"
     },
     "user_tz": 300
    },
    "id": "3Mz015AGnHTB",
    "outputId": "0f4c62a0-a2dd-476b-e7d8-3165e9f1d2ca"
   },
   "outputs": [
    {
     "name": "stdout",
     "output_type": "stream",
     "text": [
      "Time of the eclipse: 01/21/2019 (TDB = 601317698.0, Delta t = 69.18449230785387\n",
      "Moon distance at the time of impact (km): 357745.19348597113\n",
      "Moon equatorial radius (km): 1737.4\n",
      "Position of the Moon as seen from Earth: (8.166039257679454, 20.436535879618923)\n",
      "Position of the Earth as seen from the moon: (20.166039257679454, -20.436535879618923)\n",
      "Earth shape (km): RE = 6378.1366 km , 1/f = 298.25700617731906\n",
      "log(eta) = -2.6066242889272195+/-0.13810320596947445\n"
     ]
    }
   ],
   "source": [
    "###################################################################\n",
    "#NUMERICAL\n",
    "###################################################################\n",
    "#Angle conversion\n",
    "DEG=np.pi/180\n",
    "RAD=1/DEG\n",
    "\n",
    "###################################################################\n",
    "#PHYSICAL \n",
    "###################################################################\n",
    "#Tons of TNT\n",
    "TTNT=4.184e9 #J\n",
    "\n",
    "#Regolith density\n",
    "RHO_REG=1600 #kg/m^3\n",
    "\n",
    "#Density of bodies\n",
    "RHO_COMET=1000\n",
    "P_COMET=0.01\n",
    "RHO_ROCKY=2500\n",
    "P_ROCKY=0.59\n",
    "RHO_METAL=3700\n",
    "P_METAL=1-P_COMET-P_ROCKY\n",
    "\n",
    "###################################################################\n",
    "#IMPACT DATA\n",
    "###################################################################\n",
    "IMPACT_DATA=\"L1-21J\"\n",
    "IMPACT_SUFFIX=\"lat_-2.94288e+01__lon_-6.81674e+01\"\n",
    "IMPACT_FIGDIR=f\"{BDIR}/data/{IMPACT_DATA}\"\n",
    "IMPACT_LOC=dict(\n",
    "    lon=-29.428816, #degrees, 29°25'43.74\"S\n",
    "    lat=-68.167435, #degrees, 68°10'2.77\"O\n",
    "    alt=0.510 #km\n",
    ")\n",
    "IMPACT_FLASH=0.30\n",
    "IMPACT_DATE=\"01/21/2019\"\n",
    "IMPACT_TIME=\"04:41:38 UTC\"\n",
    "\n",
    "#Ephemeris Time\n",
    "t=spy.str2et(IMPACT_DATE+\" \"+IMPACT_TIME)\n",
    "dt=spy.deltet(t,\"et\")\n",
    "IMPACT_ET=t-dt\n",
    "print(f\"Time of the eclipse: {IMPACT_DATE} (TDB = {IMPACT_ET}, Delta t = {dt}\")\n",
    "\n",
    "#Sideral time at the moment of the impact\n",
    "GST=12.71279 #H\n",
    "\n",
    "###################################################################\n",
    "#ASTRONOMICAL CONDITIONS\n",
    "###################################################################\n",
    "moonpos,tf=spy.spkezr(\"MOON\",IMPACT_ET,\"J2000\",\"NONE\",\"EARTH\")\n",
    "MOON_DISTANCE=norm(moonpos[:4]) #km\n",
    "print(f\"Moon distance at the time of impact (km): {MOON_DISTANCE}\")\n",
    "\n",
    "#Moon size\n",
    "n,rs=spy.bodvrd(\"MOON\",\"RADII\",3)\n",
    "RMOON=rs[0]\n",
    "FMOON=0.0\n",
    "print(f\"Moon equatorial radius (km): {RMOON}\")\n",
    "\n",
    "#Location of the Moon in the sky\n",
    "r,RA_MOON,DEC_MOON=spy.reclat(moonpos[:3])\n",
    "RA_MOON=24+RA_MOON*RAD/15 if RA_MOON<0 else RA_MOON*RAD/15\n",
    "DEC_MOON*=RAD\n",
    "print(f\"Position of the Moon as seen from Earth: {RA_MOON,DEC_MOON}\")\n",
    "\n",
    "#Moon reference frame matrix transformation\n",
    "Moon2j2000=spy.pxform(\"IAU_MOON\",\"J2000\",IMPACT_ET)\n",
    "\n",
    "#Location of the Earth at the time of the eclipse\n",
    "r,RA_EARTH,DEC_EARTH=spy.reclat(-moonpos[:3])\n",
    "RA_EARTH=24+RA_EARTH*RAD/15 if RA_EARTH<0 else RA_EARTH*RAD/15\n",
    "DEC_EARTH*=RAD\n",
    "print(f\"Position of the Earth as seen from the moon: {RA_EARTH,DEC_EARTH}\")\n",
    "\n",
    "#Earth size\n",
    "n,rs=spy.bodvrd(\"EARTH\",\"RADII\",3)\n",
    "REARTH=rs[0]\n",
    "FEARTH=(rs[0]-rs[2])/rs[0]\n",
    "print(f\"Earth shape (km): RE = {REARTH} km , 1/f = {1/FEARTH}\")\n",
    "\n",
    "###################################################################\n",
    "#OTHER NUMERICAL CONSTANTS\n",
    "###################################################################\n",
    "#Filter calibration, http://svo2.cab.inta-csic.es/svo/theory/fps3/index.php\n",
    "NG=2.500e-11 #W/m^2/nm\n",
    "G0=0.03\n",
    "DLAMBDA=420.360 #Weff, nm\n",
    "\n",
    "\n",
    "###################################################################\n",
    "#LUMINOUS EFFICIENCY\n",
    "###################################################################\n",
    "eta_min=1.8e-3\n",
    "eta_max=3.4e-3\n",
    "logeta_min=np.log10(eta_min)\n",
    "logeta_max=np.log10(eta_max)\n",
    "logeta_mean=(logeta_min+logeta_max)/2\n",
    "dlogeta=logeta_mean-logeta_min\n",
    "print(f\"log(eta) = {logeta_mean}+/-{dlogeta}\")\n",
    "\n",
    "#Plate constants\n",
    "PLATECONST=[-1.e-6,-1.e-7,8.16,-1.e-5,-1.e-4,19.7] \n",
    "PHOTOMETRY_COEFS=np.array([23.66200566,  0.42782257,  -5.9073529 ,1.73859671 ])\n",
    "\n",
    "#REF_LUNARSITE=\"L1-21J\"\n",
    "REF_LUNARSITE=\"Moon Center\"\n",
    "CENTER_LUNARSITE=\"Moon Center\""
   ]
  },
  {
   "cell_type": "markdown",
   "metadata": {},
   "source": [
    "### Routines"
   ]
  },
  {
   "cell_type": "code",
   "execution_count": 6,
   "metadata": {},
   "outputs": [],
   "source": [
    "###################################################################\n",
    "#ROUTINES\n",
    "###################################################################\n",
    "def val2Exp(value,fmt=\"%.1f\",text=False):\n",
    "    sgn=np.sign(value)\n",
    "    pot=np.floor(np.log10(np.abs(value)))\n",
    "    man=value/10**pot\n",
    "    man=fmt%man\n",
    "    pot=\"%d\"%pot\n",
    "    if text:return f\"%s\\EE%s\"%(man,pot)\n",
    "    return man,pot\n",
    "\n",
    "def str2vec(str):\n",
    "    v=np.array([float(x) for x in str.split(\" \")])\n",
    "    return v\n",
    "\n",
    "def angle(u,v):\n",
    "    return np.arccos(np.dot(u,v)/(norm(u)*norm(v)))*180/np.pi\n",
    "\n",
    "def randomX(xs,ps,N=100):\n",
    "    \"\"\"\n",
    "        Generate random values of x given a normalized histogram (ps)\n",
    "    \"\"\"\n",
    "    Ps=np.array([ps[:i].sum() for i in range(len(ps))])\n",
    "    Fi=interpolate(Ps,xs)\n",
    "    u=np.random.rand(N,1)\n",
    "    us=Ps.min()+u*(Ps.max()-Ps.min())\n",
    "    xrs=Fi(us)\n",
    "    return xrs\n",
    "\n",
    "def ipercs(xs,ps,qpercs):\n",
    "    Ps=np.array([ps[:i].sum() for i in range(len(ps))])\n",
    "    fi=interpolate(Ps,xs)\n",
    "    return fi(np.array(qpercs)/100.0)\n",
    "\n",
    "def Gmag(coefs,r=1,g=1,b=1,x=1,y=1):\n",
    "    \"\"\"\n",
    "    coefs: Coefficients\n",
    "    r,g,b: Counts in each band\n",
    "    \"\"\"\n",
    "    mG=coefs[0]+coefs[1]*np.log10(r)+coefs[2]*np.log10(g)+coefs[3]*np.log10(b)\n",
    "    return mG                                         \n",
    "\n",
    "def chiSquare(coefs,stars=None,verbose=False):\n",
    "    chisq=0\n",
    "    dGs=[]\n",
    "    for ind in stars.index[1:]:\n",
    "        star=stars.loc[ind]\n",
    "        Gteo=Gmag(coefs,star[\"Red\"],star[\"Blue\"],star[\"Green\"])\n",
    "        Gobs=float(star[\"G\"])\n",
    "        dGs+=[np.abs(Gteo-Gobs)]\n",
    "        if verbose:print(f\"{star['Starname']}:Teo={Gteo},Obs={Gobs},dM={dGs[-1]}\")\n",
    "        dG=0.05\n",
    "        chisq+=(Gteo-Gobs)**2/dG**2\n",
    "    if verbose:return chisq,dGs\n",
    "    return chisq\n",
    "                         \n",
    "#Convert Az,h into RA, DEC at a location lon,lat,alt on the moon\n",
    "def loc2Sky(et,Az,h,lon,lat,alt,bodyid=\"MOON\",frameid=\"IAU_MOON\"):\n",
    "    \"\"\"\n",
    "    Az,h,lon,lat in degress.\n",
    "    alt in km.\n",
    "    \n",
    "    Return RA(deg) and DEC(deg)\n",
    "    \n",
    "    Example: \n",
    "        Az=29.9670;h=19.2504\n",
    "        loc2Sky(et,Az,h,LON_MOON,LAT_MOON,ALT_MOON,\"MOON\",\"IAU_MOON\")\n",
    "    \"\"\"\n",
    "    #Rectangular position\n",
    "    r_local=spy.latrec(1,Az*DEG,h*DEG)\n",
    "    \n",
    "    #Size of the object\n",
    "    n,rs=spy.bodvrd(\"MOON\",\"RADII\",3)\n",
    "    Re=rs[0];Rp=rs[2]\n",
    "    f=(Re-Rp)/Re\n",
    "    geopos=spy.georec(lon*DEG,lat*DEG,alt,Re,f)\n",
    "\n",
    "    #Local to Body reference frame transformation\n",
    "    normal=spy.surfnm(Re,Re,Rp,geopos)\n",
    "    uy=spy.ucrss(np.array([0,0,1]),normal)\n",
    "    ux=spy.ucrss(normal,uy)\n",
    "    Local2Body=np.array(np.vstack((ux,uy,normal)).transpose().tolist())\n",
    "    \n",
    "    #Body to J2000\n",
    "    Body2j2000=spy.pxform(frameid,\"J2000\",et)\n",
    "    \n",
    "    #Transform vector from local to IAU moon\n",
    "    r_body=spy.mxv(Local2Body,r_local)\n",
    "    r_j2000=spy.mxv(Body2j2000,r_body)\n",
    "\n",
    "    #J2000 coordinates\n",
    "    r,RA,DEC=spy.reclat(r_j2000)\n",
    "    RA=RA+2*np.pi if RA<0 else RA\n",
    "    return RA*RAD,DEC*RAD   \n",
    "\n",
    "def getradec(plateconst,x,y,xcen,ycen):\n",
    "    \"\"\"\n",
    "    Get (RA,Dec) relative to center of frame from (X,Y) given plate constant parameters\n",
    "    \"\"\"\n",
    "    dec = plateconst[3]*(x-xcen)+plateconst[4]*(y-ycen)+plateconst[5]\n",
    "    ra = 15*math.cos(math.radians(dec))*(plateconst[0]*(x-xcen)-plateconst[1]*(y-ycen))+plateconst[2]\n",
    "    return ra,dec\n",
    "                         \n",
    "def distsq(plateconst,stars=None,verbose=False):\n",
    "    \"\"\"\n",
    "    Calculate distance squared for positions given plate constant and star coordinates\n",
    "    \"\"\"\n",
    "    distsq=0\n",
    "    drasq=[]\n",
    "    ddecsq=[]\n",
    "    center=stars.loc[stars[\"ObjName\"]==REF_LUNARSITE].iloc[0]\n",
    "    #print(center)\n",
    "    for ind,star in stars.loc[stars[\"type\"]==\"Star\"].iterrows():\n",
    "        #print(star)\n",
    "        ra,dec=getradec(plateconst,star[\"X\"],star[\"Y\"],center[\"X\"],center[\"Y\"])\n",
    "        drasq+=[(ra-star[\"RA\"])**2]\n",
    "        ddecsq+=[(dec-star[\"DEC\"])**2]\n",
    "        distsq+=225*math.cos(math.radians(dec))*drasq[-1]+ddecsq[-1]\n",
    "    if verbose:return distsq,drasq,ddecsq\n",
    "    return distsq\n",
    "\n",
    "# Get (RA,Dec) given selenographic coordinate (lat,lon)\n",
    "def selenographictoradec(params,lat,lon):\n",
    "    ra = params[0]*math.sin(math.radians(lon-params[6]))*math.cos(math.radians(lat-params[7]))+params[1]*math.sin(math.radians(lat-params[7]))+params[2]\n",
    "    dec = params[3]*math.sin(math.radians(lon-params[6]))*math.cos(math.radians(lat-params[7]))+params[4]*math.sin(math.radians(lat-params[7]))+params[5]\n",
    "    #print(\"\\t\",params,lat,lon,ra,dec)\n",
    "    return ra,dec\n",
    "\n",
    "def selenerr(coord,raref,decref,params):\n",
    "    \"\"\"\n",
    "    Calculates the error between selenographictoradec conversion and (raref,decref) given params\n",
    "    \"\"\"\n",
    "    ra,dec=selenographictoradec(params,coord[0],coord[1])\n",
    "    return math.cos(math.radians(dec))**2*(15*(ra-raref))**2+(dec-decref)**2\n",
    "    \n",
    "def selensq(params,site=None,lunarsites=None,verbose=False):\n",
    "    \"\"\"\n",
    "    Calculate Error Squared for each RA,Dec conversion from selenographic coordinate\n",
    "    \"\"\"\n",
    "    selensq=0\n",
    "    srasq=[]\n",
    "    sdecsq=[]\n",
    "    \n",
    "    objs=site[\"data\"]\n",
    "    locations=objs.loc[objs[\"type\"]==\"Moon\"]\n",
    "    \n",
    "    for ind in locations.index[2:]:\n",
    "        location=locations.loc[ind]\n",
    "        locname=location[\"ObjName\"]\n",
    "        sra=location[\"RA\"]\n",
    "        sdec=location[\"DEC\"]\n",
    "        lunarsite=lunarsites.loc[lunarsites[\"LunarSite\"]==locname].iloc[0]\n",
    "        ra,dec=selenographictoradec(params,lunarsite[\"slat\"],lunarsite[\"slon\"])\n",
    "        srasq+=[(15*(ra-sra)*np.cos(dec*DEG))**2]\n",
    "        sdecsq+=[(dec-sdec)**2]\n",
    "        selensq+=srasq[-1]+sdecsq[-1]\n",
    "        if verbose and False:\n",
    "            print(ind)\n",
    "            print(\"\\t\",lunarsite[\"slat\"],lunarsite[\"slon\"])\n",
    "            print(\"\\t\",sra,sdec)\n",
    "            print(\"\\t\",ra,dec)\n",
    "            print(\"\\t\",srasq[-1],sdecsq[-1])\n",
    "    if verbose: return selensq,srasq,sdecsq\n",
    "    return selensq\n",
    "                         \n",
    "def apparentSkyPosition(parallaxconst,lat,lon,alt,gst=GST):\n",
    "    \"\"\"\n",
    "    Get apparent coordinate (RA,Dec) of observer at (lat,lon,ele) given the \n",
    "    parallaxconst=(moon distance in Earth radii,geocentric RA,geocentric Dec)\n",
    "    \"\"\"\n",
    "    LST=gst+lon/15\n",
    "    HA=(LST-parallaxconst[1])*15\n",
    "\n",
    "    #Distance\n",
    "    pos=spy.georec(lon*DEG,lat*DEG,alt/1000,REARTH,FEARTH)\n",
    "    rho=norm(pos)/REARTH\n",
    "    \n",
    "    #Difference between apparent and true right ascension\n",
    "    deltara=np.arctan((rho*np.cos(lat*DEG)*np.sin(HA*DEG))/(parallaxconst[0]*np.cos(parallaxconst[2]*DEG)-\\\n",
    "                                                         rho*np.cos(lat*DEG)*np.cos(HA*DEG)))*RAD\n",
    "    ra=parallaxconst[1]-deltara/15\n",
    "    \n",
    "    #Apparent declination\n",
    "    dec=np.arctan(np.cos((HA+deltara)*DEG)*\\\n",
    "                  (parallaxconst[0]*np.sin(parallaxconst[2]*DEG)-rho*np.sin(lat*DEG))/\\\n",
    "                  (parallaxconst[0]*np.cos(parallaxconst[2]*DEG)*np.cos(HA*DEG)-rho*np.cos(lat*DEG)))*RAD\n",
    "    return ra,dec\n",
    "\n",
    "\n",
    "def parallaxsq(parallaxconst,sites=None,location=None,verbose=False):\n",
    "    \"\"\"\n",
    "    Calculate Error Squared for each parallax correction\n",
    "    \"\"\"\n",
    "    parallaxsq=0\n",
    "    prasq=[]\n",
    "    pdecsq=[]\n",
    "    for key,site in sites.items():\n",
    "        objs=site[\"data\"]\n",
    "        loc=objs.loc[objs[\"ObjName\"]==location].iloc[0]\n",
    "        #print(site[\"location\"],site[\"lat\"],site[\"lon\"])\n",
    "        ra,dec=apparentSkyPosition(parallaxconst,site[\"lat\"],site[\"lon\"],site[\"alt\"])\n",
    "        prasq+=[(15*(ra-loc[\"RA\"]))**2]\n",
    "        pdecsq+=[(dec-loc[\"DEC\"])**2]\n",
    "        parallaxsq+=np.cos(dec*DEG)**2*prasq[-1]+pdecsq[-1]\n",
    "    if verbose: return parallaxsq,prasq,pdecsq\n",
    "    return parallaxsq\n",
    "                         \n",
    "def Gmag(coefs,r=1,g=1,b=1):\n",
    "    \"\"\"\n",
    "    coefs: Coefficients\n",
    "    r,g,b: Counts in each band\n",
    "    \"\"\"\n",
    "    mG=coefs[0]+coefs[1]*np.log10(r)+coefs[2]*np.log10(g)+coefs[3]*np.log10(b)\n",
    "    return mG                                         \n",
    "\n",
    "def chiSquare(coefs,stars=None,verbose=False):\n",
    "    chisq=0\n",
    "    dGs=[]\n",
    "    for ind in stars.index:\n",
    "        star=stars.loc[ind]\n",
    "        Gteo=Gmag(coefs,star[\"CountsR\"],star[\"CountsG\"],star[\"CountsB\"])\n",
    "        Gobs=float(star[\"G\"])\n",
    "        dGs+=[np.abs(Gteo-Gobs)]\n",
    "        if verbose:print(f\"{star['ObjName']}:Teo={Gteo},Obs={Gobs},dM={dGs[-1]}\")\n",
    "        dG=0.05\n",
    "        chisq+=(Gteo-Gobs)**2/dG**2\n",
    "    if verbose:return chisq,dGs\n",
    "    return chisq\n",
    "\n",
    "def photoFit(x,ts,Gs,dGs,verbose=False):\n",
    "    Go=x[0]\n",
    "    chisq=0\n",
    "    res=[]\n",
    "    for texp,G,dG in zip(ts,Gs,dGs):\n",
    "        Gt=Go-2.5*np.log10(IMPACT_FLASH/texp)\n",
    "        res+=[(Gt-G)**2/dG**2]\n",
    "        chisq+=res[-1]\n",
    "    if verbose:return chisq,res\n",
    "    return chisq\n",
    "\n",
    "def errorMagnitude(Go,fun,dGo):\n",
    "    #see https://www.phas.ubc.ca/~oser/p509/Lec_09.pdf\n",
    "    def errorLstq(G,Go,fun):\n",
    "        return photoFit([G],texps,Gts,dGts,verbose=False)-fun-4\n",
    "    Goup=optimize.bisect(errorLstq,Go,Go+dGo,args=(Go,fun))\n",
    "    Godown=optimize.bisect(errorLstq,Go-dGo,Go,args=(Go,fun))\n",
    "    return (Goup-Go+Go-Godown)/2"
   ]
  },
  {
   "cell_type": "markdown",
   "metadata": {},
   "source": [
    "## Read data from images"
   ]
  },
  {
   "cell_type": "code",
   "execution_count": 7,
   "metadata": {},
   "outputs": [
    {
     "name": "stdout",
     "output_type": "stream",
     "text": [
      "Reading and loading data for RD...\n",
      "Reading and loading data for CapeVerde...\n",
      "Reading and loading data for Georgia...\n",
      "Reading and loading data for CanaryIslands...\n",
      "Reading and loading data for Czech...\n",
      "Reading and loading data for Vienna...\n",
      "Reading and loading data for Germany...\n",
      "Reading reference lunar sites...\n"
     ]
    }
   ],
   "source": [
    "sites=OrderedDict(\n",
    "    RD=dict(\n",
    "        location=\"Santo Domingo (The Dominican Republic)\",\n",
    "        observer=\"Fritz Pichardo\",\n",
    "        Nstars=9,\n",
    "        lat=18.43567,lon=-69.96872,alt=26,\n",
    "        texp=20.0,\n",
    "    ),\n",
    "    CapeVerde=dict(\n",
    "        location=\"Boa Vista (Cape Verde, South Africa)\",\n",
    "        observer=\"Petr Horalek\",\n",
    "        Nstars=9,\n",
    "        lat=16.14361,lon=-22.86400,alt=55,\n",
    "        texp=16.0,\n",
    "    ),\n",
    "    Georgia=dict(\n",
    "        location=\"Georgia (USA)\",\n",
    "        observer=\"GregHogan\",\n",
    "        Nstars=9,        \n",
    "        lat=32.51667,lon=-83.6544,alt=107,\n",
    "        texp=16.0,\n",
    "    ),\n",
    "    CanaryIslands=dict(\n",
    "        location=\"Santa Cruz de Tenerife (Cannary Island, Spain)\",\n",
    "        observer=\"Fritz Helmut Hemmerich\",\n",
    "        Nstars=9,        \n",
    "        lat=28.14169,lon=-16.6220,alt=1187,\n",
    "        texp=2.0,\n",
    "    ),\n",
    "    Czech=dict(\n",
    "        location=\"Velky Osek (Czech Republic)\",\n",
    "        observer=\"LiborHaspl\",\n",
    "        Nstars=9,        \n",
    "        lat=50.0982,lon=15.18885,alt=192, \n",
    "        texp=0.5,\n",
    "    ),\n",
    "    Vienna=dict(\n",
    "        location=\"Vienna (Austria)\",\n",
    "        observer=\"RobertEderArtis\",\n",
    "        Nstars=9,        \n",
    "        lat=48.250,lon=16.217,alt=450, \n",
    "        texp=4.0,\n",
    "    ),\n",
    "    Germany=dict(\n",
    "        location=\"Karben (Germany)\",\n",
    "        observer=\"Dr. Sighard Schrabler and Dr. Ulrike Loffler\",\n",
    "        Nstars=9,        \n",
    "        lat=50.21615,lon=8.79607,alt=140, \n",
    "        texp=1.0,\n",
    "    ),\n",
    ")\n",
    "\n",
    "#Read data\n",
    "for key,site in sites.items():\n",
    "    print(f\"Reading and loading data for {key}...\")\n",
    "    sites[key][\"data\"]=pd.read_csv(f\"{IMPACT_FIGDIR}/{key}.csv\")\n",
    "    sites[key][\"data\"][\"ObjName\"]=sites[key][\"data\"][\"ObjName\"].str.strip()\n",
    "\n",
    "print(\"Reading reference lunar sites...\")\n",
    "LunarSites=pd.read_csv(f\"{IMPACT_FIGDIR}/LunarSites.csv\")\n",
    "LunarSites[\"LunarSite\"]=LunarSites[\"LunarSite\"].str.strip()\n",
    "LunarSites[\"RAgeo\"]=-1\n",
    "LunarSites[\"DECgeo\"]=-1\n",
    "LunarSites[\"Distance\"]=-1"
   ]
  },
  {
   "cell_type": "markdown",
   "metadata": {},
   "source": [
    "## Geometrical analysis"
   ]
  },
  {
   "cell_type": "markdown",
   "metadata": {},
   "source": [
    "### Compute the apparent position of the flash and accidents "
   ]
  },
  {
   "cell_type": "code",
   "execution_count": 8,
   "metadata": {},
   "outputs": [
    {
     "name": "stdout",
     "output_type": "stream",
     "text": [
      "Analysing image from location: Santo Domingo (The Dominican Republic)\n",
      "\tRMS in RA: 2.09443e-04, Dec: 2.12604e-04, Overall: 3.04914e-03\n",
      "\tThe (RA, Dec) for Moon Center is 8.169011790269153, 20.47334835413386\n",
      "\tThe (RA, Dec) for L1-21J is 8.182559518370628, 20.284144310923235\n",
      "\tThe (RA, Dec) for Byrgius A is 8.183062619071835, 20.304846861429347\n",
      "\tThe (RA, Dec) for Grimaldi is 8.186710588720516, 20.385993077833753\n",
      "\tThe (RA, Dec) for Aristachus is 8.184043561598017, 20.539986329353248\n",
      "\tThe (RA, Dec) for Plato is 8.17444572230638, 20.681735850462754\n",
      "\tThe (RA, Dec) for Tycho is 8.168219363847026, 20.27732169115069\n",
      "\tThe (RA, Dec) for Copernicus is 8.176142372103508, 20.500875126236437\n",
      "\tThe (RA, Dec) for Manilius is 8.166732996167342, 20.556167718913617\n",
      "\tThe (RA, Dec) for Dionysus is 8.162948024956446, 20.510862354990984\n",
      "\tThe (RA, Dec) for Chladni is 8.168507537412626, 20.497887550709045\n",
      "\tThe (RA, Dec) for Kepler is 8.181421036945247, 20.473847083859987\n",
      "\tThe (RA, Dec) for Bullialdus is 8.173969886689136, 20.355176735851515\n",
      "\tFinding location using data from RD\n",
      "\t\tImpact coordinates: [-29.66952473 -67.81494055]\n",
      "Analysing image from location: Boa Vista (Cape Verde, South Africa)\n",
      "\tRMS in RA: 1.51855e-04, Dec: 2.70639e-04, Overall: 2.22228e-03\n",
      "\tThe (RA, Dec) for Moon Center is 8.116379216691046, 20.409848384537046\n",
      "\tThe (RA, Dec) for L1-21J is 8.129657723021518, 20.22234083168524\n",
      "\tThe (RA, Dec) for Byrgius A is 8.13008467826742, 20.243016785842023\n",
      "\tThe (RA, Dec) for Grimaldi is 8.133650757516053, 20.32355091826757\n",
      "\tThe (RA, Dec) for Aristachus is 8.130973638501933, 20.477005547196637\n",
      "\tThe (RA, Dec) for Plato is 8.121485239187377, 20.619456755579115\n",
      "\tThe (RA, Dec) for Tycho is 8.115502260494774, 20.215444807668536\n",
      "\tThe (RA, Dec) for Copernicus is 8.123096598805247, 20.437447766319526\n",
      "\tThe (RA, Dec) for Manilius is 8.11389911438901, 20.492281567312034\n",
      "\tThe (RA, Dec) for Dionysus is 8.110090907455215, 20.44628646767227\n",
      "\tThe (RA, Dec) for Chladni is 8.11559932727684, 20.4342951139222\n",
      "\tThe (RA, Dec) for Kepler is 8.128305088710437, 20.41115163344896\n",
      "\tThe (RA, Dec) for Bullialdus is 8.121047466502462, 20.293086014802245\n",
      "\tFinding location using data from CapeVerde\n",
      "\t\tImpact coordinates: [-29.51472282 -67.89187767]\n",
      "Analysing image from location: Georgia (USA)\n",
      "\tRMS in RA: 2.40023e-04, Dec: 1.29323e-04, Overall: 3.48974e-03\n",
      "\tThe (RA, Dec) for Moon Center is 8.183416512051728, 20.21047980794185\n",
      "\tThe (RA, Dec) for L1-21J is 8.196787041069676, 20.019779909857018\n",
      "\tThe (RA, Dec) for Byrgius A is 8.197274689730229, 20.040382321801943\n",
      "\tThe (RA, Dec) for Grimaldi is 8.200994147492919, 20.122051881997546\n",
      "\tThe (RA, Dec) for Aristachus is 8.198611241947873, 20.275835112163218\n",
      "\tThe (RA, Dec) for Plato is 8.189166711083242, 20.420412166985514\n",
      "\tThe (RA, Dec) for Tycho is 8.182450794923502, 20.013243806431152\n",
      "\tThe (RA, Dec) for Copernicus is 8.190631188816315, 20.236588151890192\n",
      "\tThe (RA, Dec) for Manilius is 8.181322761392638, 20.292022492942014\n",
      "\tThe (RA, Dec) for Dionysus is 8.177433299300393, 20.24656223136675\n",
      "\tThe (RA, Dec) for Chladni is 8.18302475520282, 20.233424324252134\n",
      "\tThe (RA, Dec) for Kepler is 8.195890235449049, 20.209059778447063\n",
      "\tThe (RA, Dec) for Bullialdus is 8.188249054041462, 20.090486523449137\n",
      "\tFinding location using data from Georgia\n",
      "\t\tImpact coordinates: [-29.56333419 -67.83860605]\n",
      "Analysing image from location: Santa Cruz de Tenerife (Cannary Island, Spain)\n",
      "\tRMS in RA: 1.45952e-04, Dec: 1.60965e-04, Overall: 2.12854e-03\n",
      "\tThe (RA, Dec) for Moon Center is 8.115862903335579, 20.177835386907958\n",
      "\tThe (RA, Dec) for L1-21J is 8.129056104242377, 19.99002763548508\n",
      "\tThe (RA, Dec) for Byrgius A is 8.129520157303299, 20.00983890872975\n",
      "\tThe (RA, Dec) for Grimaldi is 8.13321297214354, 20.09117749938821\n",
      "\tThe (RA, Dec) for Aristachus is 8.130540432953568, 20.244213868311675\n",
      "\tThe (RA, Dec) for Plato is 8.121117490267736, 20.3867866989633\n",
      "\tThe (RA, Dec) for Tycho is 8.114816467202012, 19.981179152558223\n",
      "\tThe (RA, Dec) for Copernicus is 8.12257930986479, 20.204238174340894\n",
      "\tThe (RA, Dec) for Manilius is 8.113328942083987, 20.258911898859928\n",
      "\tThe (RA, Dec) for Dionysus is 8.109537607714882, 20.21310004856667\n",
      "\tThe (RA, Dec) for Chladni is 8.115058860636127, 20.20060081899533\n",
      "\tThe (RA, Dec) for Kepler is 8.127910206247885, 20.17780583371941\n",
      "\tThe (RA, Dec) for Bullialdus is 8.120414042673612, 20.05891892545797\n",
      "\tFinding location using data from CanaryIslands\n",
      "\t\tImpact coordinates: [-29.42568322 -67.83877819]\n",
      "Analysing image from location: Velky Osek (Czech Republic)\n",
      "\tRMS in RA: 2.38706e-04, Dec: 4.10598e-04, Overall: 3.49798e-03\n",
      "\tThe (RA, Dec) for Moon Center is 8.120193499885563, 19.725193062010906\n",
      "\tThe (RA, Dec) for L1-21J is 8.1334370587331, 19.538550754744666\n",
      "\tThe (RA, Dec) for Byrgius A is 8.133865542307761, 19.559979574524938\n",
      "\tThe (RA, Dec) for Grimaldi is 8.13743832556719, 19.63848400706661\n",
      "\tThe (RA, Dec) for Aristachus is 8.134700153061127, 19.790600748611755\n",
      "\tThe (RA, Dec) for Plato is 8.125011100792513, 19.932382419629175\n",
      "\tThe (RA, Dec) for Tycho is 8.119312862146515, 19.52949341343346\n",
      "\tThe (RA, Dec) for Copernicus is 8.126872813488253, 19.74966641437742\n",
      "\tThe (RA, Dec) for Manilius is 8.117713034068577, 19.803752757767185\n",
      "\tThe (RA, Dec) for Dionysus is 8.114012549392703, 19.759104349598886\n",
      "\tThe (RA, Dec) for Chladni is 8.11943667810803, 19.74657864077751\n",
      "\tThe (RA, Dec) for Kepler is 8.132125091708424, 19.723836341833266\n",
      "\tThe (RA, Dec) for Bullialdus is 8.12490975962303, 19.606676954908785\n",
      "\tFinding location using data from Czech\n",
      "\t\tImpact coordinates: [-29.39628122 -67.94465889]\n",
      "Analysing image from location: Vienna (Austria)\n",
      "\tRMS in RA: 1.80037e-04, Dec: 3.17381e-04, Overall: 2.64115e-03\n",
      "\tThe (RA, Dec) for Moon Center is 8.118267363085952, 19.742112908625263\n",
      "\tThe (RA, Dec) for L1-21J is 8.131501007914867, 19.55623277093517\n",
      "\tThe (RA, Dec) for Byrgius A is 8.131881372677281, 19.575591502558726\n",
      "\tThe (RA, Dec) for Grimaldi is 8.135523979918354, 19.65620479726783\n",
      "\tThe (RA, Dec) for Aristachus is 8.132821377278598, 19.80707245292386\n",
      "\tThe (RA, Dec) for Plato is 8.123415075605724, 19.94924581331934\n",
      "\tThe (RA, Dec) for Tycho is 8.117384662703557, 19.54641010076188\n",
      "\tThe (RA, Dec) for Copernicus is 8.125064617948093, 19.766281948715445\n",
      "\tThe (RA, Dec) for Manilius is 8.115767898109597, 19.82083813352056\n",
      "\tThe (RA, Dec) for Dionysus is 8.112122967004971, 19.77605988767968\n",
      "\tThe (RA, Dec) for Chladni is 8.117531494327375, 19.763541647513858\n",
      "\tThe (RA, Dec) for Kepler is 8.13018985339314, 19.741401833609192\n",
      "\tThe (RA, Dec) for Bullialdus is 8.122909981740838, 19.623318719735693\n",
      "\tFinding location using data from Vienna\n",
      "\t\tImpact coordinates: [-29.0627695  -67.98381362]\n",
      "Analysing image from location: Karben (Germany)\n",
      "\tRMS in RA: 1.38752e-04, Dec: 6.02484e-04, Overall: 2.10836e-03\n",
      "\tThe (RA, Dec) for Moon Center is 8.12105001939442, 19.74888523514617\n",
      "\tThe (RA, Dec) for L1-21J is 8.134237025663023, 19.56250275953611\n",
      "\tThe (RA, Dec) for Byrgius A is 8.134675958834075, 19.582878289608207\n",
      "\tThe (RA, Dec) for Grimaldi is 8.138219832464085, 19.662458004425243\n",
      "\tThe (RA, Dec) for Aristachus is 8.135576094665492, 19.814614513577126\n",
      "\tThe (RA, Dec) for Plato is 8.12618888128039, 19.955725085906497\n",
      "\tThe (RA, Dec) for Tycho is 8.120142477425563, 19.553465382882713\n",
      "\tThe (RA, Dec) for Copernicus is 8.127675952259372, 19.77251909299841\n",
      "\tThe (RA, Dec) for Manilius is 8.118579042206319, 19.827611440599753\n",
      "\tThe (RA, Dec) for Dionysus is 8.114898042084578, 19.782017143666987\n",
      "\tThe (RA, Dec) for Chladni is 8.12028271748749, 19.769493609839063\n",
      "\tThe (RA, Dec) for Kepler is 8.132956200469435, 19.747705909231335\n",
      "\tThe (RA, Dec) for Bullialdus is 8.12563345481513, 19.62989970733976\n",
      "\tFinding location using data from Germany\n",
      "\t\tImpact coordinates: [-29.2857081  -67.96677455]\n"
     ]
    }
   ],
   "source": [
    "slats_impact=[]\n",
    "slons_impact=[]\n",
    "for key,site in sites.items():\n",
    "    #if key!=\"CapeVerde\":continue\n",
    "    print(f\"Analysing image from location: {site['location']}\")\n",
    "    \n",
    "    #Basic properties of the site\n",
    "    objs=site[\"data\"]\n",
    "    \n",
    "    #Initial plate constants\n",
    "    plateconst=deepcopy(PLATECONST)\n",
    "    center=objs.loc[objs[\"ObjName\"]==\"Moon Center\"].iloc[0]\n",
    "    \n",
    "    #print(center)\n",
    "    plateconst[2]=center[\"RA\"]\n",
    "    plateconst[5]=center[\"DEC\"]\n",
    "    \n",
    "    if not \"plateconst\" in site.keys() or 1:\n",
    "        #Find (X,Y) to (RA,Dec) map by least square fitting\n",
    "        solutionplate=optimize.minimize(distsq,plateconst,args=(objs,False))\n",
    "        dist,dra,ddec=distsq(solutionplate.x,objs,verbose=True)\n",
    "        rmsra=math.sqrt(np.mean(dra))\n",
    "        rmsdec=math.sqrt(np.mean(ddec))\n",
    "        rmsov=math.sqrt(dist/len(ddec))\n",
    "\n",
    "        #Store result\n",
    "        site[\"plateconst\"]=solutionplate.x\n",
    "        site[\"rmsastro\"]=[rmsra,rmsdec,rmsov]\n",
    "    else:\n",
    "        class solutionplate(object):x=site[\"plateconst\"]\n",
    "        rmsra,rmsdec,rmsov=site[\"rmsastro\"]\n",
    "          \n",
    "    print(f\"\\tRMS in RA: {rmsra:.5e}, Dec: {rmsdec:.5e}, Overall: {rmsov:.5e}\")\n",
    "          \n",
    "    #Transform coordinates of the unknown objects using the solutionplate\n",
    "    for ind,star in objs.loc[objs[\"type\"]==\"Moon\"].iterrows():\n",
    "        ra,dec=getradec(solutionplate.x,star[\"X\"],star[\"Y\"],center[\"X\"],center[\"Y\"])\n",
    "        print(f\"\\tThe (RA, Dec) for \"+star['ObjName']+f\" is {ra}, {dec}\")\n",
    "        objs.loc[ind,\"RA\"]=ra\n",
    "        objs.loc[ind,\"DEC\"]=dec\n",
    "    #break\n",
    "          \n",
    "    print(f\"\\tFinding location using data from {key}\")\n",
    "    data=site[\"data\"]\n",
    "    initialseleneparams=[-0.02,0.005,8.17,0.07,0.27,20.43,-2.5,-0.8]\n",
    "    initialseleneparams[2]=data.loc[data[\"ObjName\"]==\"L1-21J\"].iloc[0][\"RA\"]\n",
    "    initialseleneparams[5]=data.loc[data[\"ObjName\"]==\"L1-21J\"].iloc[0][\"DEC\"]\n",
    "\n",
    "    #Find parameters for selenographic<->geocentric conversion\n",
    "    solutionselenographic=optimize.minimize(selensq,initialseleneparams,args=(site,LunarSites,False)) \n",
    "    #print(solutionselenographic)\n",
    "    \n",
    "    initialcoord=[-29.,-68.]\n",
    "    ra_impact=data.loc[data[\"ObjName\"]==\"L1-21J\"].iloc[0][\"RA\"]\n",
    "    dec_impact=data.loc[data[\"ObjName\"]==\"L1-21J\"].iloc[0][\"DEC\"]\n",
    "    selencoordsolution=optimize.minimize(selenerr,initialcoord,\n",
    "                                         args=(ra_impact,dec_impact,solutionselenographic.x))\n",
    "    print(\"\\t\\tImpact coordinates:\",selencoordsolution.x)\n",
    "    slats_impact+=[selencoordsolution.x[0]]\n",
    "    slons_impact+=[selencoordsolution.x[1]]\n",
    "          \n",
    "    site[\"ImpactLat\"]=selencoordsolution.x[0]\n",
    "    site[\"ImpactLon\"]=selencoordsolution.x[1]        "
   ]
  },
  {
   "cell_type": "code",
   "execution_count": 9,
   "metadata": {},
   "outputs": [
    {
     "name": "stdout",
     "output_type": "stream",
     "text": [
      "Impact position from parallax: (slat,slon) = -29.416860542235764,-67.89706421767886\n",
      "Errors: (dslat,dslon) = 0.184372882910285,0.06351159339302637\n",
      "Midrange: (dslat,dslon) = 0.30337761059044865,0.08443653793868577\n",
      "Latitude quantile: [-29.63766757 -29.42568322 -29.12965108]\n",
      "Longitude quantile: [-67.9787019  -67.89187767 -67.8220402 ]\n",
      "Asymmetric errors: slat = -29.426$^+0.3_-0.21$\n",
      "Asymmetric errors: slon = -67.892^+0.07_-0.087\n"
     ]
    }
   ],
   "source": [
    "### Position of the impact on the moon surface\n",
    "slats_impact=np.array(slats_impact)\n",
    "slons_impact=np.array(slons_impact)\n",
    "slat_impact=slats_impact.mean()\n",
    "slon_impact=slons_impact.mean()\n",
    "\n",
    "dslat_impact=slats_impact.std()\n",
    "dslon_impact=slons_impact.std()\n",
    "\n",
    "LunarSites.loc[1,\"slat\"]=slat_impact\n",
    "LunarSites.loc[1,\"slon\"]=slon_impact\n",
    "\n",
    "Dslat_impact=(slats_impact.max()-slats_impact.min())/2\n",
    "Dslon_impact=(slons_impact.max()-slons_impact.min())/2\n",
    "\n",
    "slat_quant=np.quantile(slats_impact,[0.05,0.50,0.95])\n",
    "slon_quant=np.quantile(slons_impact,[0.05,0.50,0.95])\n",
    "\n",
    "latGeo=slat_quant[1]\n",
    "dlatGeo_p=slat_quant[2]-slat_quant[1]\n",
    "dlatGeo_m=slat_quant[0]-slat_quant[1]\n",
    "\n",
    "lonGeo=slon_quant[1]\n",
    "dlonGeo_p=slon_quant[2]-slon_quant[1]\n",
    "dlonGeo_m=slon_quant[0]-slon_quant[1]\n",
    "\n",
    "print(f\"Impact position from parallax: (slat,slon) = {slat_impact},{slon_impact}\")\n",
    "print(f\"Errors: (dslat,dslon) = {dslat_impact},{dslon_impact}\")\n",
    "print(f\"Midrange: (dslat,dslon) = {Dslat_impact},{Dslon_impact}\")\n",
    "print(f\"Latitude quantile:\",slat_quant)\n",
    "print(f\"Longitude quantile:\",slon_quant)\n",
    "print(f\"Asymmetric errors: slat = {slat_quant[1]:.5}$^+{slat_quant[2]-slat_quant[1]:.2}_-{slat_quant[1]-slat_quant[0]:.2}$\")\n",
    "print(f\"Asymmetric errors: slon = {slon_quant[1]:.5}^+{slon_quant[2]-slon_quant[1]:.2}_-{slon_quant[1]-slon_quant[0]:.2}\")"
   ]
  },
  {
   "cell_type": "markdown",
   "metadata": {},
   "source": [
    "### Parallax"
   ]
  },
  {
   "cell_type": "code",
   "execution_count": 10,
   "metadata": {},
   "outputs": [
    {
     "name": "stdout",
     "output_type": "stream",
     "text": [
      "Computing lunar parameters using location Moon Center...\n",
      "\tThe geocentric (RA,Dec) is 8.16670068676235, 20.438955729680206\n",
      "\tThe geocentric distance is 356557.69558913016\n",
      "Computing lunar parameters using location L1-21J...\n",
      "\tThe geocentric (RA,Dec) is 8.179883024513872, 20.253319038486893\n",
      "\tThe geocentric distance is 356057.5865443811\n",
      "Computing lunar parameters using location Byrgius A...\n",
      "\tThe geocentric (RA,Dec) is 8.180346964339613, 20.273689712086917\n",
      "\tThe geocentric distance is 355870.1408380828\n",
      "Computing lunar parameters using location Grimaldi...\n",
      "\tThe geocentric (RA,Dec) is 8.183977476577411, 20.353362950706916\n",
      "\tThe geocentric distance is 355644.8882189989\n",
      "Computing lunar parameters using location Aristachus...\n",
      "\tThe geocentric (RA,Dec) is 8.181448633590463, 20.50518160024648\n",
      "\tThe geocentric distance is 355006.5252531338\n",
      "Computing lunar parameters using location Plato...\n",
      "\tThe geocentric (RA,Dec) is 8.172058256125293, 20.646144638661582\n",
      "\tThe geocentric distance is 355156.72097769217\n",
      "Computing lunar parameters using location Tycho...\n",
      "\tThe geocentric (RA,Dec) is 8.165831092486515, 20.2461133649602\n",
      "\tThe geocentric distance is 355777.3546792121\n",
      "Computing lunar parameters using location Copernicus...\n",
      "\tThe geocentric (RA,Dec) is 8.17366853838876, 20.466216656031005\n",
      "\tThe geocentric distance is 354513.52133250795\n",
      "Computing lunar parameters using location Manilius...\n",
      "\tThe geocentric (RA,Dec) is 8.164488927932, 20.520500951232158\n",
      "\tThe geocentric distance is 354819.73524884926\n",
      "Computing lunar parameters using location Dionysus...\n",
      "\tThe geocentric (RA,Dec) is 8.160731269214864, 20.475508629387154\n",
      "\tThe geocentric distance is 355090.5311110858\n",
      "Computing lunar parameters using location Chladni...\n",
      "\tThe geocentric (RA,Dec) is 8.166191774524382, 20.463139139362543\n",
      "\tThe geocentric distance is 354798.7968414327\n",
      "Computing lunar parameters using location Kepler...\n",
      "\tThe geocentric (RA,Dec) is 8.178836371206083, 20.43986167631641\n",
      "\tThe geocentric distance is 354825.4996465936\n",
      "Computing lunar parameters using location Bullialdus...\n",
      "\tThe geocentric (RA,Dec) is 8.171460958367588, 20.32288234984344\n",
      "\tThe geocentric distance is 355230.5846068868\n"
     ]
    }
   ],
   "source": [
    "#Initial conditions\n",
    "parallaxinitialconst=[56.0,8.17,20.44]\n",
    "    \n",
    "for ind,lunarsite in LunarSites.iterrows():\n",
    "    location=lunarsite[\"LunarSite\"]\n",
    "    print(f\"Computing lunar parameters using location {location}...\")\n",
    "    \n",
    "    #Find geocentric distance and RA,Dec by least square fitting\n",
    "    solutionparallax=optimize.minimize(parallaxsq,parallaxinitialconst,args=(sites,location,False)) \n",
    "\n",
    "    #Read solution\n",
    "    geo_dist=solutionparallax.x[0]\n",
    "    geo_ra=solutionparallax.x[1]\n",
    "    geo_dec=solutionparallax.x[2]\n",
    "    \n",
    "    #Save solution\n",
    "    LunarSites.loc[ind,\"RAgeo\"]=geo_ra\n",
    "    LunarSites.loc[ind,\"DECgeo\"]=geo_dec\n",
    "    LunarSites.loc[ind,\"Distance\"]=geo_dist\n",
    "    \n",
    "    print(f\"\\tThe geocentric (RA,Dec) is {geo_ra}, {geo_dec}\")\n",
    "    print(f\"\\tThe geocentric distance is {geo_dist*6378.16}\")"
   ]
  },
  {
   "cell_type": "code",
   "execution_count": 11,
   "metadata": {},
   "outputs": [],
   "source": [
    "Center=LunarSites.loc[LunarSites[\"LunarSite\"]==\"Moon Center\"].iloc[0]\n",
    "Impact=LunarSites.loc[LunarSites[\"LunarSite\"]==\"L1-21J\"].iloc[0]"
   ]
  },
  {
   "cell_type": "markdown",
   "metadata": {
    "colab_type": "text",
    "id": "u_nAyq2ZnHTQ"
   },
   "source": [
    "## Orbital analysis"
   ]
  },
  {
   "cell_type": "markdown",
   "metadata": {
    "colab_type": "text",
    "id": "_M2HkWxWnHTR"
   },
   "source": [
    "### Read data"
   ]
  },
  {
   "cell_type": "code",
   "execution_count": 12,
   "metadata": {
    "colab": {
     "base_uri": "https://localhost:8080/",
     "height": 34
    },
    "colab_type": "code",
    "executionInfo": {
     "elapsed": 2137,
     "status": "ok",
     "timestamp": 1554355082816,
     "user": {
      "displayName": "JORGE IVAN ZULUAGA CALLEJAS",
      "photoUrl": "https://lh4.googleusercontent.com/--qQIu7n9AF0/AAAAAAAAAAI/AAAAAAAAAFs/vG8EzXLEHBQ/s64/photo.jpg",
      "userId": "14268130563590845195"
     },
     "user_tz": 300
    },
    "id": "MTOMyPK_nHTS",
    "outputId": "72b844a8-5fa0-471f-c4b2-f188b5702648"
   },
   "outputs": [
    {
     "name": "stdout",
     "output_type": "stream",
     "text": [
      "Number of test trajectories read: 41167\n"
     ]
    }
   ],
   "source": [
    "data_rays=np.loadtxt(f\"{IMPACT_FIGDIR}/rays-{IMPACT_SUFFIX}.data.phys\")\n",
    "data_rays_prob=np.loadtxt(f\"{IMPACT_FIGDIR}/rays-{IMPACT_SUFFIX}.data.prob\")\n",
    "Nrays=len(data_rays)\n",
    "print(f\"Number of test trajectories read: {Nrays}\")"
   ]
  },
  {
   "cell_type": "markdown",
   "metadata": {
    "colab_type": "text",
    "id": "Bes_XdXonHTX"
   },
   "source": [
    "### Posterior probability distribution of key properties "
   ]
  },
  {
   "cell_type": "code",
   "execution_count": 13,
   "metadata": {
    "colab": {
     "base_uri": "https://localhost:8080/",
     "height": 360
    },
    "colab_type": "code",
    "executionInfo": {
     "elapsed": 847,
     "status": "ok",
     "timestamp": 1554355589950,
     "user": {
      "displayName": "JORGE IVAN ZULUAGA CALLEJAS",
      "photoUrl": "https://lh4.googleusercontent.com/--qQIu7n9AF0/AAAAAAAAAAI/AAAAAAAAAFs/vG8EzXLEHBQ/s64/photo.jpg",
      "userId": "14268130563590845195"
     },
     "user_tz": 300
    },
    "id": "hAjRgGJnnHTY",
    "outputId": "441277a9-d342-4999-f070-9733518251c3"
   },
   "outputs": [
    {
     "name": "stderr",
     "output_type": "stream",
     "text": [
      "9049it [00:00, 90484.69it/s]"
     ]
    },
    {
     "name": "stdout",
     "output_type": "stream",
     "text": [
      "Computed rays: 41167\n",
      "Computing ppd for elevation\n",
      "\tUnique values of property: 498\n",
      "\tRanges: 0.27798 83.332\n",
      "\tSampling points: 16\n"
     ]
    },
    {
     "name": "stderr",
     "output_type": "stream",
     "text": [
      "41167it [00:00, 89375.16it/s]\n",
      "0it [00:00, ?it/s]"
     ]
    },
    {
     "name": "stdout",
     "output_type": "stream",
     "text": [
      "\tSaving .//data/L1-21J/elevation-marginal.dat\n",
      "Computing ppd for vimp\n",
      "\tUnique values of property: 100\n",
      "\tRanges: 2.7972 44.058\n",
      "\tSampling points: 20\n"
     ]
    },
    {
     "name": "stderr",
     "output_type": "stream",
     "text": [
      "41167it [00:00, 203012.15it/s]\n",
      "41167it [00:00, 220746.35it/s]"
     ]
    },
    {
     "name": "stdout",
     "output_type": "stream",
     "text": [
      "\tSaving .//data/L1-21J/vimp-marginal.dat\n",
      "Computing ppd for azimuth\n",
      "\tUnique values of property: 498\n",
      "\tRanges: 0.27282 359.06\n",
      "\tSampling points: 9\n",
      "\tSaving .//data/L1-21J/azimuth-marginal.dat\n"
     ]
    },
    {
     "name": "stderr",
     "output_type": "stream",
     "text": [
      "\n"
     ]
    }
   ],
   "source": [
    "properties=[\n",
    "    dict(indice=0,property=\"elevation\",factor=30),\n",
    "    dict(indice=2,property=\"vimp\",factor=5),\n",
    "    dict(indice=1,property=\"azimuth\",factor=50)\n",
    "]\n",
    "pprob=data_rays_prob[:,7]\n",
    "print(\"Computed rays:\",len(pprob))\n",
    "for qprop in properties:\n",
    "    print(f\"Computing ppd for {qprop['property']}\")\n",
    "    xs=data_rays[:,qprop[\"indice\"]]\n",
    "    xun=np.unique(xs)\n",
    "    Nun=len(xun)\n",
    "    print(\"\\tUnique values of property:\",Nun)\n",
    "\n",
    "    # Range of elevations                                                                                                                                                                                                                                     \n",
    "    xmin=xs.min()\n",
    "    xmax=xs.max()\n",
    "    print(\"\\tRanges:\",xmin,xmax)\n",
    "\n",
    "    # Create boxes                                                                                                                                                                                                                                            \n",
    "    Nb=int(Nun/qprop[\"factor\"])\n",
    "    print(\"\\tSampling points:\",Nb)\n",
    "    xb=np.linspace(xmin,1.01*xmax,Nb,endpoint=False)\n",
    "    dxb=xb[1]-xb[0]\n",
    "\n",
    "    # Compute probabilities                                                                                                                                                                                                                                   \n",
    "    P=0\n",
    "    hb=np.zeros(Nb)\n",
    "    for i,x in tqdm(enumerate(xs)):\n",
    "        p=pprob[i]\n",
    "        n=int((x-xmin)/dxb)\n",
    "        if qprop[\"property\"]==\"elevation\":\n",
    "          xcen=(xmin+(n+1./2)*dxb)\n",
    "          factor=1/np.cos(xcen*np.pi/180)\n",
    "        else:\n",
    "          factor=1\n",
    "        P+=factor*p\n",
    "        hb[n]+=factor*p\n",
    "\n",
    "    hb=np.array(hb)\n",
    "    hb/=P\n",
    "\n",
    "    #Save histogram\n",
    "    fname=f\"{IMPACT_FIGDIR}/{qprop['property']}-marginal.dat\"\n",
    "    print(f\"\\tSaving {fname}\")\n",
    "    np.savetxt(fname,np.vstack((xb,hb)).transpose())"
   ]
  },
  {
   "cell_type": "markdown",
   "metadata": {
    "colab_type": "text",
    "id": "XUAq7sHqnHTc"
   },
   "source": [
    "### Impact velocity statistics"
   ]
  },
  {
   "cell_type": "code",
   "execution_count": 14,
   "metadata": {
    "colab": {
     "base_uri": "https://localhost:8080/",
     "height": 297
    },
    "colab_type": "code",
    "executionInfo": {
     "elapsed": 998,
     "status": "ok",
     "timestamp": 1554355149211,
     "user": {
      "displayName": "JORGE IVAN ZULUAGA CALLEJAS",
      "photoUrl": "https://lh4.googleusercontent.com/--qQIu7n9AF0/AAAAAAAAAAI/AAAAAAAAAFs/vG8EzXLEHBQ/s64/photo.jpg",
      "userId": "14268130563590845195"
     },
     "user_tz": 300
    },
    "id": "jKgAeNA0nHTf",
    "outputId": "cfeb156d-35d0-45b8-9c3a-6b1101c734af"
   },
   "outputs": [
    {
     "data": {
      "image/png": "[encoded data removed]",
      "text/plain": [
       "<matplotlib.figure.Figure at 0x1822349438>"
      ]
     },
     "metadata": {
      "needs_background": "light"
     },
     "output_type": "display_data"
    }
   ],
   "source": [
    "#Posterior probability distribution of impact velocities\n",
    "data=np.loadtxt(f\"{IMPACT_FIGDIR}/vimp-marginal.dat\")\n",
    "vimps=data[:,0]\n",
    "pvs=data[:,1]\n",
    "v1,vm,v2=ipercs(vimps,pvs,[15.0,50.0,85.0])\n",
    "mv=v1-vm;pv=v2-vm\n",
    "vimp=vm;dvimp_p=pv;dvimp_m=mv\n",
    "\n",
    "#Plot\n",
    "fig=plt.figure()\n",
    "ax=fig.gca()\n",
    "\n",
    "ax.step(vimps,pvs,color='r',lw=2)\n",
    "\n",
    "ax.set_xlabel(r\"$v_{\\rm imp}$\",fontsize=14)\n",
    "ax.set_ylabel(r\"$p(v_{\\rm imp})$\",fontsize=14)\n",
    "\n",
    "ax.axvspan(v1,vm,color='k',alpha=0.3)\n",
    "ax.axvline(vm,color='k',lw=2)\n",
    "ax.axvspan(vm,v2,color='k',alpha=0.3)\n",
    "\n",
    "#ax.set_title(\"L1-J-21 Impact Velocity\",fontsize=18)\n",
    "\n",
    "ax.text(0.95,0.95,r\"$v_{\\rm imp}=%.1lf^{%+.1lf}_{%+.1lf}$ km/s\"%(vm,pv,mv),\n",
    "        transform=ax.transAxes,ha='right',va='top',fontsize=14)\n",
    "\n",
    "ymin,ymax=ax.get_ylim()\n",
    "ax.set_ylim((0,ymax))\n",
    "\n",
    "fig.tight_layout()\n",
    "fig.savefig(f\"{IMPACT_FIGDIR}/l21j-vimp-ppd.png\")\n",
    "plt.show();"
   ]
  },
  {
   "cell_type": "markdown",
   "metadata": {
    "colab_type": "text",
    "id": "uqU9yB47nHTo"
   },
   "source": [
    "### Incident angle statistics"
   ]
  },
  {
   "cell_type": "code",
   "execution_count": 15,
   "metadata": {
    "colab": {
     "base_uri": "https://localhost:8080/",
     "height": 297
    },
    "colab_type": "code",
    "executionInfo": {
     "elapsed": 811,
     "status": "ok",
     "timestamp": 1554355596652,
     "user": {
      "displayName": "JORGE IVAN ZULUAGA CALLEJAS",
      "photoUrl": "https://lh4.googleusercontent.com/--qQIu7n9AF0/AAAAAAAAAAI/AAAAAAAAAFs/vG8EzXLEHBQ/s64/photo.jpg",
      "userId": "14268130563590845195"
     },
     "user_tz": 300
    },
    "id": "mMMzUEyynHTq",
    "outputId": "cbab3936-4fd0-414b-f5d9-cd511f100dc1"
   },
   "outputs": [
    {
     "data": {
      "image/png": "[encoded data removed]",
      "text/plain": [
       "<matplotlib.figure.Figure at 0x18224c3e48>"
      ]
     },
     "metadata": {
      "needs_background": "light"
     },
     "output_type": "display_data"
    }
   ],
   "source": [
    "plt.ion()\n",
    "#Posterior probability distribution of impact velocities\n",
    "data=np.loadtxt(f\"{IMPACT_FIGDIR}/elevation-marginal.dat\")\n",
    "angles=data[:,0]\n",
    "pas=data[:,1]\n",
    "v1,vm,v2=ipercs(angles,pas,[15.0,50.0,85.0])\n",
    "mv=v1-vm;pv=v2-vm\n",
    "thetamax=v2\n",
    "\n",
    "#Figure\n",
    "fig=plt.figure()\n",
    "ax=fig.gca()\n",
    "\n",
    "ax.step(angles,pas,color='r',lw=2)\n",
    "\n",
    "ax.set_xlabel(r\"$\\theta$ (degrees)\",fontsize=14)\n",
    "ax.set_ylabel(r\"$p(\\theta)$\",fontsize=14)\n",
    "\n",
    "ax.axvspan(v1,vm,color='k',alpha=0.3)\n",
    "ax.axvline(vm,color='k',lw=2)\n",
    "ax.axvspan(vm,v2,color='k',alpha=0.3)\n",
    "\n",
    "ax.text(0.95,0.95,r\"$\\theta=%.1lf^{%+.1lf}_{%+.1lf}$\"%(vm,pv,mv),\n",
    "        transform=ax.transAxes,ha='right',va='top',fontsize=14)\n",
    "\n",
    "ymin,ymax=ax.get_ylim()\n",
    "ax.set_ylim((0,ymax))\n",
    "ax.set_xlim((0,60))\n",
    "\n",
    "fig.tight_layout()\n",
    "fig.savefig(f\"{IMPACT_FIGDIR}/l21j-elevation-ppd.png\")"
   ]
  },
  {
   "cell_type": "markdown",
   "metadata": {
    "colab_type": "text",
    "id": "losF13AFnHTv"
   },
   "source": [
    "### Distribution of Radiants"
   ]
  },
  {
   "cell_type": "code",
   "execution_count": 16,
   "metadata": {
    "colab": {
     "base_uri": "https://localhost:8080/",
     "height": 34
    },
    "colab_type": "code",
    "executionInfo": {
     "elapsed": 7888,
     "status": "ok",
     "timestamp": 1554355775396,
     "user": {
      "displayName": "JORGE IVAN ZULUAGA CALLEJAS",
      "photoUrl": "https://lh4.googleusercontent.com/--qQIu7n9AF0/AAAAAAAAAAI/AAAAAAAAAFs/vG8EzXLEHBQ/s64/photo.jpg",
      "userId": "14268130563590845195"
     },
     "user_tz": 300
    },
    "id": "8i2-c6P6nHTw",
    "outputId": "6665646b-f2c3-4894-a179-87230558a740"
   },
   "outputs": [
    {
     "name": "stderr",
     "output_type": "stream",
     "text": [
      "100%|██████████| 41167/41167 [00:16<00:00, 2451.98it/s]\n"
     ]
    }
   ],
   "source": [
    "#Build 2D histogram\n",
    "RAmin=0.0;RAmax=360;NRA=20;dRA=(RAmax-RAmin)/NRA\n",
    "DECmin=-90.0;DECmax=90.0;NDEC=20;dDEC=(DECmax-DECmin)/NDEC\n",
    "\n",
    "#Run over all combinations\n",
    "hrd=np.zeros((NDEC,NRA))\n",
    "pprob=data_rays_prob[:,7]\n",
    "\n",
    "j=0\n",
    "P=0\n",
    "for i in tqdm(range(len(data_rays))):\n",
    "\n",
    "    #Topocentric coordinates\n",
    "    Az=data_rays[i,1]\n",
    "    h=data_rays[i,0]\n",
    "    p=pprob[i]\n",
    "\n",
    "    #J2000 coordinates\n",
    "    RA,DEC=loc2Sky(IMPACT_ET,Az,h,\n",
    "                   IMPACT_LOC[\"lon\"],IMPACT_LOC[\"lat\"],IMPACT_LOC[\"alt\"],\n",
    "                   \"MOON\",\"IAU_MOON\")\n",
    "    #print(Az,h,RA/15,DEC)\n",
    "    \n",
    "    nRA=int((RA-RAmin)/dRA)\n",
    "    nDEC=int((DEC-DECmin)/dDEC)\n",
    "\n",
    "    if nRA>=NRA or nDEC>=NDEC:continue\n",
    "        \n",
    "    DEC=DECmin+(nDEC+0.5)*dDEC\n",
    "    factor=1/np.cos(DEC*np.pi/180)\n",
    "    \n",
    "    P+=factor*p\n",
    "    hrd[nDEC,nRA]+=factor*p\n",
    "    j+=1\n",
    "hrd/=P"
   ]
  },
  {
   "cell_type": "code",
   "execution_count": 17,
   "metadata": {
    "colab": {},
    "colab_type": "code",
    "id": "C6sn_ap_nHT0"
   },
   "outputs": [],
   "source": [
    "#Surface of the moon\n",
    "sRA=[]\n",
    "sDEC=[]\n",
    "h=0\n",
    "for Az in np.linspace(0,360,100):\n",
    "    RA,DEC=loc2Sky(IMPACT_ET,Az,h,IMPACT_LOC[\"lon\"],IMPACT_LOC[\"lat\"],IMPACT_LOC[\"alt\"],\n",
    "                   \"MOON\",\"IAU_MOON\")\n",
    "    sRA+=[RA]\n",
    "    sDEC+=[DEC]\n",
    "sRA=np.array(sRA);sDEC=np.array(sDEC)"
   ]
  },
  {
   "cell_type": "code",
   "execution_count": 18,
   "metadata": {
    "colab": {
     "base_uri": "https://localhost:8080/",
     "height": 297
    },
    "colab_type": "code",
    "executionInfo": {
     "elapsed": 1365,
     "status": "ok",
     "timestamp": 1554355779337,
     "user": {
      "displayName": "JORGE IVAN ZULUAGA CALLEJAS",
      "photoUrl": "https://lh4.googleusercontent.com/--qQIu7n9AF0/AAAAAAAAAAI/AAAAAAAAAFs/vG8EzXLEHBQ/s64/photo.jpg",
      "userId": "14268130563590845195"
     },
     "user_tz": 300
    },
    "id": "_UV8kLuEnHT4",
    "outputId": "86ee199a-a129-4414-dceb-1f4f04757b17"
   },
   "outputs": [
    {
     "data": {
      "image/png": "[encoded data removed]",
      "text/plain": [
       "<matplotlib.figure.Figure at 0x1823d33da0>"
      ]
     },
     "metadata": {
      "needs_background": "light"
     },
     "output_type": "display_data"
    }
   ],
   "source": [
    "#Map\n",
    "RAs,DECs=np.meshgrid(np.arange(RAmin,RAmax,dRA),np.arange(DECmin,DECmax,dDEC))\n",
    "hrd/=hrd.sum()\n",
    "hmin=hrd.min();hmax=hrd.max()\n",
    "\n",
    "fig=plt.figure()\n",
    "ax=fig.gca()\n",
    "\n",
    "c=ax.contourf(RAs/15.0,DECs,hrd,levels=np.linspace(hrd.min(),hrd.max(),10)) #,cmap=\"YlOrBr\")\n",
    "cbar=fig.colorbar(c)\n",
    "cbar.ax.set_ylabel('Fraction of Trajetcories',fontsize=12)\n",
    "\n",
    "ytl=[]\n",
    "for y in cbar.ax.get_yticks():\n",
    "    ytl+=[\"%.3f\"%(hmin+y*(hmax-hmin))]\n",
    "cbar.ax.set_yticklabels(ytl)\n",
    "\n",
    "#ax.plot(RA_EARTH,DEC_EARTH,'wo')\n",
    "ax.plot(sRA/15.0,sDEC,'w.',ms=1)\n",
    "\n",
    "ax.set_ylim((-90.0,5*max(sDEC)))\n",
    "ax.set_xlim((0,RAs.max()/15.0))\n",
    "\n",
    "ax.text(RA_EARTH,DEC_EARTH,r'$\\oplus$',ha='center',va='center',color='w',fontsize=16)\n",
    "ax.text(0.5,0.95,\"Moon surface\",ha='center',va='center',transform=ax.transAxes,color='w',fontsize=16)\n",
    "\n",
    "ax.set_xlabel(\"RA (h)\",fontsize=14)\n",
    "ax.set_ylabel(\"DEC (degrees)\",fontsize=14)\n",
    "\n",
    "ax.set_aspect(0.2)\n",
    "fig.tight_layout()\n",
    "fig.savefig(f\"{IMPACT_FIGDIR}/l21j-RA_DEC-map.png\")"
   ]
  },
  {
   "cell_type": "code",
   "execution_count": 19,
   "metadata": {},
   "outputs": [],
   "source": [
    "#Identify maxima\n",
    "RArad=3.07\n",
    "DECrad=-23.7"
   ]
  },
  {
   "cell_type": "markdown",
   "metadata": {
    "colab_type": "text",
    "id": "07AF3ncAnHT8"
   },
   "source": [
    "### Orbital Map"
   ]
  },
  {
   "cell_type": "code",
   "execution_count": 20,
   "metadata": {
    "colab": {
     "base_uri": "https://localhost:8080/",
     "height": 34
    },
    "colab_type": "code",
    "executionInfo": {
     "elapsed": 582,
     "status": "ok",
     "timestamp": 1554355798486,
     "user": {
      "displayName": "JORGE IVAN ZULUAGA CALLEJAS",
      "photoUrl": "https://lh4.googleusercontent.com/--qQIu7n9AF0/AAAAAAAAAAI/AAAAAAAAAFs/vG8EzXLEHBQ/s64/photo.jpg",
      "userId": "14268130563590845195"
     },
     "user_tz": 300
    },
    "id": "S3PWbisBnHT9",
    "outputId": "592a1dfb-ecf3-41ce-c962-74f2fabf2f76"
   },
   "outputs": [
    {
     "name": "stderr",
     "output_type": "stream",
     "text": [
      "100%|██████████| 41167/41167 [00:00<00:00, 96088.24it/s]\n"
     ]
    }
   ],
   "source": [
    "amin=0.5;amax=2.5;Na=10;da=(amax-amin)/Na\n",
    "emin=0.0;emax=1.0;Ne=10;de=(emax-emin)/Ne\n",
    "\n",
    "hae=np.zeros((Na,Ne))\n",
    "for i in tqdm(range(Nrays)):\n",
    "    q=data_rays[i,9]\n",
    "    e=data_rays[i,10]\n",
    "    if e>=1:continue\n",
    "    a=q/(1-e)\n",
    "    na=int((a-amin)/da)\n",
    "    ne=int((e-emin)/de)\n",
    "    if na>=Na or ne>=Ne:continue\n",
    "    hae[ne,na]+=1\n",
    "Nt=hae.sum()"
   ]
  },
  {
   "cell_type": "code",
   "execution_count": 21,
   "metadata": {
    "colab": {
     "base_uri": "https://localhost:8080/",
     "height": 297
    },
    "colab_type": "code",
    "executionInfo": {
     "elapsed": 1265,
     "status": "ok",
     "timestamp": 1554355800774,
     "user": {
      "displayName": "JORGE IVAN ZULUAGA CALLEJAS",
      "photoUrl": "https://lh4.googleusercontent.com/--qQIu7n9AF0/AAAAAAAAAAI/AAAAAAAAAFs/vG8EzXLEHBQ/s64/photo.jpg",
      "userId": "14268130563590845195"
     },
     "user_tz": 300
    },
    "id": "BTt2lOVznHUF",
    "outputId": "8e476986-5c54-4a6e-e385-d59dc1975e45"
   },
   "outputs": [
    {
     "data": {
      "image/png": "[encoded data removed]",
      "text/plain": [
       "<matplotlib.figure.Figure at 0x182259ce80>"
      ]
     },
     "metadata": {
      "needs_background": "light"
     },
     "output_type": "display_data"
    }
   ],
   "source": [
    "#Figure\n",
    "hmin=hae.min()/Nt;hmax=hae.max()/Nt\n",
    "\n",
    "A,E=np.meshgrid(np.arange(amin,amax,da),np.arange(emin,emax,de))\n",
    "fig=plt.figure()\n",
    "ax=fig.gca()\n",
    "\n",
    "im=ax.imshow(hae/Nt,origin='lower')\n",
    "cbar=fig.colorbar(im)\n",
    "cbar.ax.set_ylabel('Fraction of Trajetcories',fontsize=12)\n",
    "\n",
    "ytl=[]\n",
    "for y in cbar.ax.get_yticks():\n",
    "    ytl+=[\"%.3f\"%(hmin+y*(hmax-hmin))]\n",
    "cbar.ax.set_yticklabels(ytl)\n",
    "\n",
    "\n",
    "ax.set_xlabel(\"a (AU)\",fontsize=14)\n",
    "ax.set_ylabel(\"e\",fontsize=14)\n",
    "\n",
    "xts=[]\n",
    "xtl=[]\n",
    "for i in np.arange(0.0,Na+1,1):\n",
    "    xts+=[i-0.5]\n",
    "    xtl+=[\"%.1f\"%(amin+i*da)]\n",
    "t=ax.set_xticks(xts)\n",
    "t=ax.set_xticklabels(xtl)\n",
    "\n",
    "xts=[]\n",
    "xtl=[]\n",
    "for i in np.arange(0.0,Ne+1,1):\n",
    "    xts+=[i-0.5]\n",
    "    xtl+=[\"%.1f\"%(emin+i*de)]\n",
    "t=ax.set_yticks(xts)\n",
    "t=ax.set_yticklabels(xtl)\n",
    "\n",
    "fig.tight_layout()\n",
    "fig.savefig(f\"{IMPACT_FIGDIR}/l21j-ae-map.png\")"
   ]
  },
  {
   "cell_type": "markdown",
   "metadata": {
    "colab_type": "text",
    "id": "DE79vJJ7nHUN"
   },
   "source": [
    "## Photometry"
   ]
  },
  {
   "cell_type": "markdown",
   "metadata": {},
   "source": [
    "### Magnitude calculations"
   ]
  },
  {
   "cell_type": "code",
   "execution_count": 22,
   "metadata": {},
   "outputs": [
    {
     "name": "stdout",
     "output_type": "stream",
     "text": [
      "Fitting photometry for site RD:\n",
      "BD+21 1766:Teo=8.332326935276292,Obs=8.3523,dM=0.019973064723707523\n",
      "BD+20 2007:Teo=9.716401243841592,Obs=9.7906,dM=0.07419875615840787\n",
      "HD 67564:Teo=9.214110841358224,Obs=9.0181,dM=0.19601084135822333\n",
      "TYC 1385-899-1:Teo=10.096088322435435,Obs=10.0132,dM=0.08288832243543531\n",
      "BD+21 1779:Teo=8.862222440980187,Obs=8.9471,dM=0.08487755901981409\n",
      "BD+21 1777:Teo=9.5698938006629,Obs=9.6792,dM=0.10930619933709984\n",
      "BD+20 2009:Teo=10.34659999263705,Obs=10.4423,dM=0.09570000736295015\n",
      "BD+20 2005:Teo=8.665190381334455,Obs=8.6293,dM=0.03589038133445399\n",
      "TYC 1385-939-1:Teo=10.421865975179573,Obs=10.3526,dM=0.06926597517957234\n",
      "\tRMS magnitude fit error:0.09752010282437712\n",
      "\tMagnitude without exposure correction: 11.682978318448377\n",
      "Fitting photometry for site CapeVerde:\n",
      "BD+20 2005:Teo=8.736658085269694,Obs=8.6293,dM=0.10735808526969315\n",
      "BD+21 1766:Teo=8.768209604889433,Obs=8.3523,dM=0.41590960488943374\n",
      "BD+20 2007:Teo=9.719346742915683,Obs=9.7906,dM=0.07125325708431696\n",
      "TYC 13841851:Teo=9.621200919086773,Obs=9.8998,dM=0.27859908091322794\n",
      "TYC 13843851:Teo=11.314207629712682,Obs=11.2398,dM=0.074407629712681\n",
      "TYC 13859851:Teo=9.982089030704277,Obs=10.035,dM=0.052910969295723476\n",
      "BD+20 2009:Teo=10.329054746855663,Obs=10.4423,dM=0.11324525314433664\n",
      "TYC 13845091:Teo=11.560351062184129,Obs=11.5007,dM=0.059651062184128634\n",
      "HD 67150:Teo=7.396882111116144,Obs=7.5382,dM=0.1413178888838562\n",
      "\tRMS magnitude fit error:0.1861572157470253\n",
      "\tMagnitude without exposure correction: 10.703111606179952\n",
      "Fitting photometry for site Georgia:\n",
      "TYC 1385-116-1:Teo=10.55747389086084,Obs=10.5824,dM=0.0249261091391606\n",
      "HD 68121:Teo=9.56017838210927,Obs=9.5567,dM=0.003478382109269873\n",
      "TYC 1385-1052-1:Teo=9.909495928692767,Obs=10.0134,dM=0.10390407130723389\n",
      "TYC 1385-368-1:Teo=10.879522526865529,Obs=10.9407,dM=0.06117747313447097\n",
      "TYC 1385-188-1:Teo=10.489357431548676,Obs=10.5111,dM=0.02174256845132483\n",
      "TYC 1385-1391-1:Teo=11.04550220998024,Obs=11.0578,dM=0.012297790019760058\n",
      "TYC 1385-1610-1:Teo=11.236780395242642,Obs=11.2203,dM=0.016480395242641777\n",
      "TYC 1385-1675-1:Teo=10.056760692388128,Obs=9.8901,dM=0.16666069238812753\n",
      "TYC 1385-376-1:Teo=11.429028475139045,Obs=11.3916,dM=0.03742847513904479\n",
      "\tRMS magnitude fit error:0.07090244064155385\n",
      "\tMagnitude without exposure correction: 10.757113322332886\n",
      "Fitting photometry for site CanaryIslands:\n",
      "HD 67150:Teo=7.51396353347762,Obs=7.5382,dM=0.024236466522379985\n",
      "HD 67424:Teo=8.598367476188725,Obs=8.4742,dM=0.1241674761887257\n",
      "TYC 1385-985-1:Teo=9.93156175705803,Obs=10.035,dM=0.10343824294196935\n",
      "HD 67564:Teo=8.962288582124469,Obs=9.0181,dM=0.05581141787553179\n",
      "BD+20 2007:Teo=9.746633453153631,Obs=9.7906,dM=0.04396654684636836\n",
      "BD+20 2009:Teo=10.401478093076406,Obs=10.4423,dM=0.04082190692359333\n",
      "BD+20 2005:Teo=8.677367359260987,Obs=8.6293,dM=0.04806735926098682\n",
      "TYC 1384-185-1:Teo=9.899716590926532,Obs=9.8998,dM=8.34090734684878e-05\n",
      "TYC 1384-1748-1:Teo=11.223523076831,Obs=11.1274,dM=0.09612307683100063\n",
      "\tRMS magnitude fit error:0.07068628825867503\n",
      "\tMagnitude without exposure correction: 8.517442619794242\n",
      "Fitting photometry for site Czech:\n",
      "HD 67346:Teo=7.496274489513495,Obs=7.4785,dM=0.017774489513494807\n",
      "HD 67424:Teo=8.32632231021915,Obs=8.4742,dM=0.14787768978085047\n",
      "TYC 1385-985-1:Teo=9.715125375497493,Obs=10.035,dM=0.31987462450250703\n",
      "BD+20 2007:Teo=9.606040823155373,Obs=9.7906,dM=0.1845591768446262\n",
      "BD+20 2002:Teo=10.196446995917213,Obs=10.2011,dM=0.0046530040827867936\n",
      "HD 66551:Teo=9.14968747292613,Obs=8.914,dM=0.23568747292613068\n",
      "BD+20 1997:Teo=9.242952018493884,Obs=9.0853,dM=0.15765201849388433\n",
      "TYC 1384-594-1:Teo=9.81329578285789,Obs=9.6143,dM=0.19899578285789055\n",
      "TYC 1384-1330-1:Teo=9.807854664257924,Obs=9.761,dM=0.04685466425792484\n",
      "\tRMS magnitude fit error:0.1766304001156138\n",
      "\tMagnitude without exposure correction: 6.613071392945025\n",
      "Fitting photometry for site Vienna:\n",
      "HD 67346:Teo=7.484272360479953,Obs=7.4785,dM=0.005772360479952887\n",
      "HD 67424:Teo=8.426052066928655,Obs=8.4742,dM=0.048147933071344795\n",
      "TYC 13859851:Teo=10.075217468210546,Obs=10.035,dM=0.04021746821054606\n",
      "BD+20 2007:Teo=9.779201381406367,Obs=9.7906,dM=0.011398618593633003\n",
      "TYC 13841851:Teo=9.801890518260521,Obs=9.8998,dM=0.09790948173947989\n",
      "BD+20 1997:Teo=9.153607558444822,Obs=9.0853,dM=0.06830755844482184\n",
      "TYC 13845941:Teo=9.611628818291212,Obs=9.6143,dM=0.002671181708787884\n",
      "TYC 138413301:Teo=9.780528148791518,Obs=9.761,dM=0.019528148791518873\n",
      "HD 67564:Teo=9.044401612063341,Obs=9.0181,dM=0.026301612063340585\n",
      "\tRMS magnitude fit error:0.04646547657362213\n",
      "\tMagnitude without exposure correction: 9.882882217320823\n",
      "Fitting photometry for site Germany:\n",
      "HD 67424:Teo=8.176904414266026,Obs=8.4742,dM=0.2972955857339734\n",
      "HD 67346:Teo=7.745006059391715,Obs=7.4785,dM=0.26650605939171434\n",
      "TYC 1384-1330-1:Teo=9.905332572895315,Obs=9.761,dM=0.14433257289531554\n",
      "TYC 1384-594-1:Teo=9.621907243064415,Obs=9.6143,dM=0.007607243064414959\n",
      "BD+20 1997:Teo=9.323026899738954,Obs=9.0853,dM=0.2377268997389539\n",
      "BD+20 2002:Teo=9.99629944598715,Obs=10.2011,dM=0.20480055401285036\n",
      "TYC 1385-985-1:Teo=9.755201449640277,Obs=10.035,dM=0.27979855035972356\n",
      "TYC 1384-963-1:Teo=11.063003363378384,Obs=10.7476,dM=0.31540336337838326\n",
      "TYC 1385-1668-1:Teo=10.88611848148912,Obs=11.0758,dM=0.1896815185108789\n",
      "\tRMS magnitude fit error:0.23392848892981666\n",
      "\tMagnitude without exposure correction: 8.5417183319497\n"
     ]
    }
   ],
   "source": [
    "Gts=[]\n",
    "dGts=[]\n",
    "texps=[]\n",
    "for key,site in sites.items():\n",
    "\n",
    "    print(f\"Fitting photometry for site {key}:\")\n",
    "    \n",
    "    #Extract photometric data\n",
    "    stars=site[\"data\"]\n",
    "    impact=stars.loc[stars[\"ObjName\"]==\"L1-21J\"].iloc[0]\n",
    "    stars=stars.loc[stars[\"type\"]==\"Star\"]\n",
    "    texps+=[site[\"texp\"]]\n",
    "\n",
    "    #Minimize\n",
    "    coefs=deepcopy(PHOTOMETRY_COEFS)\n",
    "    solution=minimize(chiSquare,coefs,args=(stars,False),tol=1e-5)\n",
    "\n",
    "    #Test Solution\n",
    "    chisq,dGs=chiSquare(solution.x,stars,verbose=True)\n",
    "    dG=np.sqrt(np.mean(np.array(dGs)**2))\n",
    "    print(f\"\\tRMS magnitude fit error:{dG}\")\n",
    "    \n",
    "    #Determine the magnitude of the simpact\n",
    "    Gt=Gmag(solution.x,impact[\"CountsR\"],impact[\"CountsG\"],impact[\"CountsB\"])\n",
    "    print(f\"\\tMagnitude without exposure correction:\",Gt)\n",
    "    Gts+=[Gt]\n",
    "    dGts+=[dG]\n",
    "    \n",
    "    site[\"Gt\"]=Gt\n",
    "    site[\"dG\"]=dG\n",
    "    impact.loc[\"G\"]=Gt"
   ]
  },
  {
   "cell_type": "markdown",
   "metadata": {},
   "source": [
    "### Intercept calculation"
   ]
  },
  {
   "cell_type": "code",
   "execution_count": 23,
   "metadata": {},
   "outputs": [
    {
     "name": "stdout",
     "output_type": "stream",
     "text": [
      "Best fitted magnitude: 6.791689255169698+/-0.06182268661359558\n"
     ]
    }
   ],
   "source": [
    "photofitparam=[6.0]\n",
    "solution=minimize(photoFit,photofitparam,args=(texps,Gts,dGts))\n",
    "Go=solution.x[0]\n",
    "fun=solution.fun\n",
    "dGo=errorMagnitude(Go,fun,1)\n",
    "print(f\"Best fitted magnitude: {Go}+/-{dGo}\")"
   ]
  },
  {
   "cell_type": "code",
   "execution_count": 24,
   "metadata": {},
   "outputs": [
    {
     "data": {
      "image/png": "[encoded data removed]",
      "text/plain": [
       "<matplotlib.figure.Figure at 0x18223990f0>"
      ]
     },
     "metadata": {
      "needs_background": "light"
     },
     "output_type": "display_data"
    }
   ],
   "source": [
    "fig=plt.figure()\n",
    "ax=fig.gca()\n",
    "\n",
    "tmin=0.125\n",
    "tmax=32.0\n",
    "ts=np.linspace(tmin,tmax,10)\n",
    "\n",
    "ax.errorbar(texps,Gts,yerr=dGts,ls='',fmt='s',ms=4,capsize=5)\n",
    "ax.fill_between(ts,\n",
    "               (Go+dGo)-2.5*np.log10(IMPACT_FLASH/ts),\n",
    "               (Go-dGo)-2.5*np.log10(IMPACT_FLASH/ts),\n",
    "               color='red',alpha=0.2)\n",
    "\n",
    "ax.set_xscale(\"log\")\n",
    "\n",
    "ax.set_xlabel(\"Exposure time (s)\",fontsize=16)\n",
    "ax.set_ylabel(\"$G_t$\",fontsize=14)\n",
    "\n",
    "ax.axvline(IMPACT_FLASH,lw=3,color='b')\n",
    "ax.axhline(Go,ls='--',color='b')\n",
    "\n",
    "ax.set_xlim((tmin,tmax))\n",
    "ax.text(1.1*0.3,12,r\"$t_{\\rm flash}=0.3$ s\",fontsize=16,ha='left')\n",
    "ax.text(0.9*tmax,Go-dGo,f\"$G_f={Go:.2f}\\pm{dGo:.2f}$\",ha='right',va='bottom',fontsize=18)\n",
    "\n",
    "ax.set_xticks([0.25,0.5,1.0,2.0,4.0,8.0,16.0,32.0])\n",
    "ax.get_xaxis().set_tick_params(which='minor', size=0)\n",
    "ax.get_xaxis().set_tick_params(which='minor', width=0) \n",
    "ax.get_xaxis().set_tick_params(which='major', size=0)\n",
    "ax.get_xaxis().set_tick_params(which='major', width=0) \n",
    "ax.xaxis.set_major_formatter(ScalarFormatter())\n",
    "ax.invert_yaxis()\n",
    "ax.grid()\n",
    "\n",
    "fig.tight_layout()\n",
    "fig.savefig(f\"{IMPACT_FIGDIR}/l21j-Gmag-time.png\")"
   ]
  },
  {
   "cell_type": "markdown",
   "metadata": {
    "colab_type": "text",
    "id": "Waa4QguUnHU6"
   },
   "source": [
    "## Energy of the impact"
   ]
  },
  {
   "cell_type": "code",
   "execution_count": 25,
   "metadata": {
    "colab": {},
    "colab_type": "code",
    "id": "iOjanBWWnHU7",
    "outputId": "0e13a40a-3364-4a72-db88-10f195275c4e"
   },
   "outputs": [
    {
     "name": "stdout",
     "output_type": "stream",
     "text": [
      "Luminous energy (log): 6.699334427993102 +/- 0.0609820086433181\n",
      "Kinetic energy (log): 9.30595871692032 +/- 0.15096788028326028\n",
      "Range of kinetic energy in tons: 0.3415066467474286-0.6844392730355868 tons of TNT\n"
     ]
    }
   ],
   "source": [
    "#Luminous energy\n",
    "fany=2\n",
    "Er=NG*10**((-Go+G0)/2.5)*DLAMBDA*fany*np.pi*(MOON_DISTANCE*1e3)**2*IMPACT_FLASH\n",
    "logEr=np.log10(Er)\n",
    "dlogEr=dGo/Go*logEr\n",
    "print(f\"Luminous energy (log): {logEr} +/- {dlogEr}\")\n",
    "#Kinetic energy\n",
    "logK=logEr-logeta_mean\n",
    "dlogK=np.sqrt(dlogEr**2+dlogeta**2)\n",
    "print(f\"Kinetic energy (log): {logK} +/- {dlogK}\")\n",
    "Kton_m=10**(logK-dlogK)/TTNT\n",
    "Kton_p=10**(logK+dlogK)/TTNT\n",
    "print(f\"Range of kinetic energy in tons: {Kton_m}-{Kton_p} tons of TNT\")"
   ]
  },
  {
   "cell_type": "markdown",
   "metadata": {
    "colab_type": "text",
    "id": "-EiBxUmLnHVK"
   },
   "source": [
    "## Meteoroid and crater size"
   ]
  },
  {
   "cell_type": "markdown",
   "metadata": {
    "colab_type": "text",
    "id": "x2cqlpCZnHVO"
   },
   "source": [
    "### Random values of primary quantities "
   ]
  },
  {
   "cell_type": "code",
   "execution_count": 26,
   "metadata": {
    "colab": {},
    "colab_type": "code",
    "id": "0wsAQSQ9nHVP"
   },
   "outputs": [],
   "source": [
    "#Generate random values of the key quantities\n",
    "N=1000\n",
    "#Random kinetic energy\n",
    "logKs=np.random.normal(logK,dlogK,N)\n",
    "Ks=10**logKs\n",
    "#Random impact speed\n",
    "vrs=randomX(vimps,pvs,N)\n",
    "#Random impact angle\n",
    "thetas=randomX(angles,pas,N)\n",
    "#Random densities\n",
    "u=np.random.rand(N)\n",
    "rhos=np.zeros(N)\n",
    "\n",
    "RHO_COMET=1000\n",
    "P_COMET=0.01\n",
    "RHO_ROCKY=2500\n",
    "P_ROCKY=0.59\n",
    "RHO_METAL=3700\n",
    "P_METAL=1-P_COMET-P_ROCKY\n",
    "\n",
    "rhos[(u<0.01)]=RHO_COMET\n",
    "rhos[(u>=0.01)*(u<0.59)]=RHO_ROCKY\n",
    "rhos[(u>=0.59)]=RHO_METAL"
   ]
  },
  {
   "cell_type": "markdown",
   "metadata": {
    "colab_type": "text",
    "id": "bbC8uO37nHVX"
   },
   "source": [
    "### Derived quantities"
   ]
  },
  {
   "cell_type": "code",
   "execution_count": 27,
   "metadata": {
    "colab": {},
    "colab_type": "code",
    "id": "tzNDHXlxnHVZ"
   },
   "outputs": [],
   "source": [
    "#Mass\n",
    "Ms=2*Ks/(vrs*1e3)**2\n",
    "logMs=np.log10(Ms)\n",
    "#Diameter\n",
    "Ds=2*(3*Ms/(3*np.pi*rhos))**(1./3)\n",
    "#Crater diameter\n",
    "dcs=0.25*rhos**(1./6.)*RHO_REG**(-0.5)*Ks**0.29*(np.sin(thetas*DEG))**(1./3.)"
   ]
  },
  {
   "cell_type": "code",
   "execution_count": 28,
   "metadata": {},
   "outputs": [
    {
     "name": "stdout",
     "output_type": "stream",
     "text": [
      "Median impactor mass: 20.919053014900925 kg\n",
      "Median impactor diameter: 0.26291790570656604 m\n",
      "Median crater size: 8.020776440508957 m\n"
     ]
    }
   ],
   "source": [
    "#Basic statistics\n",
    "print(f\"Median impactor mass: {np.percentile(Ms,50)} kg\")\n",
    "print(f\"Median impactor diameter: {np.percentile(Ds,50)} m\")\n",
    "print(f\"Median crater size: {np.percentile(dcs,50)} m\")"
   ]
  },
  {
   "cell_type": "markdown",
   "metadata": {
    "colab_type": "text",
    "id": "FR68XAm0nHVh"
   },
   "source": [
    "### Posterior probability distributions"
   ]
  },
  {
   "cell_type": "code",
   "execution_count": 29,
   "metadata": {
    "colab": {},
    "colab_type": "code",
    "id": "YEsXnzZDnHVj",
    "outputId": "fa3f513d-c601-466e-fef7-4f4d80f82a44"
   },
   "outputs": [
    {
     "name": "stdout",
     "output_type": "stream",
     "text": [
      "Generating statistics of logMs...\n",
      "\tValue: $\\log(M)$$=1.3^{+0.38}_{-0.38}$ [kg]\n",
      "\tCreating figure file .//data/L1-21J/l21j-logMs-ppd.png\n"
     ]
    },
    {
     "name": "stderr",
     "output_type": "stream",
     "text": [
      "/Users/jzuluaga/anaconda/lib/python3.6/site-packages/ipykernel_launcher.py:1: VisibleDeprecationWarning: Passing `normed=True` on non-uniform bins has always been broken, and computes neither the probability density function nor the probability mass function. The result is only correct if the bins are uniform, when density=True will produce the same result anyway. The argument will be removed in a future version of numpy.\n",
      "  \"\"\"Entry point for launching an IPython kernel.\n"
     ]
    },
    {
     "name": "stdout",
     "output_type": "stream",
     "text": [
      "Generating statistics of Ds...\n",
      "\tValue: $D$$=0.3^{+0.07}_{-0.09}$ m\n",
      "\tCreating figure file .//data/L1-21J/l21j-Ds-ppd.png\n",
      "Generating statistics of dcs...\n",
      "\tValue: $d$$=8.0^{+2.85}_{-2.12}$ m\n",
      "\tCreating figure file .//data/L1-21J/l21j-dcs-ppd.png\n"
     ]
    },
    {
     "data": {
      "image/png": "[encoded data removed]",
      "text/plain": [
       "<matplotlib.figure.Figure at 0x18223ea9b0>"
      ]
     },
     "metadata": {
      "needs_background": "light"
     },
     "output_type": "display_data"
    },
    {
     "data": {
      "image/png": "[encoded data removed]",
      "text/plain": [
       "<matplotlib.figure.Figure at 0x182283bd68>"
      ]
     },
     "metadata": {
      "needs_background": "light"
     },
     "output_type": "display_data"
    },
    {
     "data": {
      "image/png": "[encoded data removed]",
      "text/plain": [
       "<matplotlib.figure.Figure at 0x1823c00978>"
      ]
     },
     "metadata": {
      "needs_background": "light"
     },
     "output_type": "display_data"
    }
   ],
   "source": [
    "properties=[\n",
    "    dict(name=\"$\\log(M)$\",units=\"[kg]\",symbol=\"logMs\",xlabel=r\"$\\log(M/{\\rm kg})$\",ylabel=r\"$p(\\log M)$\"),\n",
    "    dict(name=\"$D$\",units=\"m\",symbol=\"Ds\",xlabel=r\"$D$ (m)\",ylabel=r\"$p(D)$\"),\n",
    "    dict(name=\"$d$\",units=\"m\",symbol=\"dcs\",xlabel=r\"$d$ (m)\",ylabel=r\"$p(d)$\"),\n",
    "]\n",
    "plt.ioff()\n",
    "for q in properties[:]:\n",
    "    \n",
    "    print(f\"Generating statistics of {q['symbol']}...\")\n",
    "    \n",
    "    #Statistics\n",
    "    exec(f\"vs=deepcopy({q['symbol']})\")\n",
    "    exec(f\"hs,xs=np.histogram({q['symbol']},100,normed=True)\")\n",
    "    xms=(xs[1:]+xs[:-1])/2\n",
    "    #Error\n",
    "    x1,xm,x2=np.percentile(vs,[15,50,85])\n",
    "    mv=xm-x1;pv=x2-xm\n",
    "          \n",
    "    if q[\"symbol\"]==\"logMs\":\n",
    "          logMs_val=xm\n",
    "          dlogMs_m=x1-xm\n",
    "          dlogMs_p=x2-xm\n",
    "    elif q[\"symbol\"]==\"Ds\":\n",
    "          Ds_val=xm\n",
    "          dDs_m=x1-xm\n",
    "          dDs_p=x2-xm\n",
    "    elif q[\"symbol\"]==\"dcs\":\n",
    "          dcs_val=xm\n",
    "          ddcs_m=x1-xm\n",
    "          ddcs_p=x2-xm\n",
    "\n",
    "    #Plot distributions\n",
    "    fig=plt.figure()\n",
    "    ax=fig.gca()\n",
    "    ax.step(xms,hs,color='r',lw=2)\n",
    "\n",
    "    ax.set_xlabel(q[\"xlabel\"],fontsize=14)\n",
    "    ax.set_ylabel(q[\"ylabel\"],fontsize=14)\n",
    "\n",
    "    ax.axvspan(x1,xm,color='k',alpha=0.3)\n",
    "    ax.axvline(xm,color='k',lw=2)\n",
    "    ax.axvspan(xm,x2,color='k',alpha=0.3)\n",
    "\n",
    "    value=r\"%s$=%.1lf^{+%.2lf}_{-%.2f}$ %s\"%(q[\"name\"],xm,mv,pv,q[\"units\"])\n",
    "    print(f\"\\tValue: {value}\")\n",
    "    ax.text(0.5,0.1,value,\n",
    "            transform=ax.transAxes,ha='center',va='center',fontsize=14,bbox=dict(facecolor='lightgray'))\n",
    "\n",
    "    ymin,ymax=ax.get_ylim()\n",
    "    ax.set_ylim((0,ymax))\n",
    "    ax.set_xlim((x1-2*mv,x2+2*pv))\n",
    "    fname=f\"{IMPACT_FIGDIR}/l21j-{q['symbol']}-ppd.png\"\n",
    "    print(f\"\\tCreating figure file {fname}\")\n",
    "    fig.savefig(fname)\n",
    "    fig.tight_layout()\n",
    "    del(fig)\n",
    "\n",
    "\n",
    "Mmin=10**(logMs_val+dlogMs_m)\n",
    "Mmax=10**(logMs_val+dlogMs_p)\n",
    "Dmin=Ds_val+dDs_m\n",
    "Dmax=Ds_val+dDs_p\n",
    "dmin=dcs_val+ddcs_m\n",
    "dmax=dcs_val+ddcs_p"
   ]
  },
  {
   "cell_type": "markdown",
   "metadata": {},
   "source": [
    "## Generate paper content"
   ]
  },
  {
   "cell_type": "markdown",
   "metadata": {},
   "source": [
    "### Macros"
   ]
  },
  {
   "cell_type": "code",
   "execution_count": 30,
   "metadata": {},
   "outputs": [],
   "source": [
    "#First set of \n",
    "f=open(f\"{IMPACT_FIGDIR}/macros-results.tex\",\"w\")\n",
    "\n",
    "f.write(\"\\\\newcommand{\\\\vimpvalue}{%.1f^{%+.1f}_{%+.1f}} %s%%km/s\\n\"%(vimp,dvimp_p,dvimp_m,\"\"))\n",
    "f.write(\"\\\\newcommand{\\\\thetamax}{%.1f} %s%%deg\\n\"%(thetamax,\"\"))\n",
    "f.write(\"\\\\newcommand{\\\\Erel}{%s} %s%%log J\\n\"%(val2Exp(Er,fmt=\"%.0f\",text=True),\"\"))\n",
    "f.write(\"\\\\newcommand{\\\\tflash}{%.1f} %s%%s \\n\"%(IMPACT_FLASH,\"\"))\n",
    "f.write(\"\\\\newcommand{\\\\Eimp}{%.1f-%.1f} %s%%tons of TNT\\n\"%(Kton_m,Kton_p,\"\"))\n",
    "f.write(\"\\\\newcommand{\\\\Mrange}{%.0f-%.0f} %s%%kg\\n\"%(Mmin,Mmax,\"\"))\n",
    "f.write(\"\\\\newcommand{\\\\Drange}{%.0f-%.0f} %s%%cm\\n\"%(100*Dmin,100*Dmax,\"\"))\n",
    "f.write(\"\\\\newcommand{\\\\craterRange}{%.0f-%.0f} %s%%m\\n\"%(dmin,dmax,\"\"))\n",
    "f.write(\"\\\\newcommand{\\\\flashtime}{%s}%s\\n\"%(IMPACT_TIME,\"\"))\n",
    "f.write(\"\\\\newcommand{\\\\etarange}{%g-%g} %s%%adim.\\n\"%(eta_min,eta_max,\"\"))\n",
    "f.write(\"\\\\newcommand{\\\\logeta}{%.2f\\pm%.2f} %s%%log\\n\"%(logeta_mean,dlogeta,\"\"))\n",
    "\n",
    "#Position by visual inspection\n",
    "f.write(\"\\\\newcommand{\\\\latvisual}{%.5f} %s%%deg\\n\"%(IMPACT_LOC[\"lat\"],\"\"))\n",
    "f.write(\"\\\\newcommand{\\\\lonvisual}{%.5f} %s%%deg\\n\"%(IMPACT_LOC[\"lon\"],\"\"))\n",
    "\n",
    "#Position by geometrical procedure\n",
    "f.write(\"\\\\newcommand{\\\\latgeo}{%+.3f^{%+.2f}_{%+.2f}} %s%%deg\\n\"%(latGeo,dlatGeo_p,dlatGeo_m,\"\"))\n",
    "f.write(\"\\\\newcommand{\\\\longeo}{%+.3f^{%+.2f}_{%+.2f}} %s%%deg\\n\"%(lonGeo,dlonGeo_p,dlonGeo_m,\"\"))\n",
    "\n",
    "#Position by paralax\n",
    "f.write(\"\\\\newcommand{\\\\latpar}{%.3f\\pm 0.2} %s%%deg\\n\"%(Impact[\"slat\"],\"\"))\n",
    "f.write(\"\\\\newcommand{\\\\lonpar}{%.3f\\pm 0.08} %s%%deg\\n\"%(Impact[\"slon\"],\"\"))\n",
    "\n",
    "#Radiant\n",
    "f.write(\"\\\\newcommand{\\\\RArad}{%.1f} %s%%h\\n\"%(RArad,\"\"))\n",
    "f.write(\"\\\\newcommand{\\\\DECrad}{%.1f} %s%%deg\\n\"%(DECrad,\"\"))\n",
    "\n",
    "f.write(\"\\\\newcommand{\\\\Gf}{%.2f \\pm %.2f} %s%%mag\\n\"%(Go,dGo,\"\"))\n",
    "\n",
    "#Energy estimation\n",
    "f.write(\"\\\\newcommand{\\\\Moondist}{%g} %s%%km\\n\"%(MOON_DISTANCE,\"\"))\n",
    "f.write(\"\\\\newcommand{\\\\bG}{%s} %s%%bG\\n\"%(val2Exp(NG,fmt=\"%.1f\",text=True),\"\"))\n",
    "f.write(\"\\\\newcommand{\\\\Go}{%g} %s%%G0\\n\"%(G0,\"\"))\n",
    "f.write(\"\\\\newcommand{\\\\deltaLambda}{%.3f} %s%%nm\\n\"%(DLAMBDA,\"\"))\n",
    "f.write(\"\\\\newcommand{\\\\fany}{%g} %s%%adim\\n\"%(fany,\"\"))\n",
    "\n",
    "#Result of the energy\n",
    "f.write(\"\\\\newcommand{\\\\logEr}{%.1f\\pm %.3f} %s%%logJ\\n\"%(logEr,dlogEr,\"\"))\n",
    "f.write(\"\\\\newcommand{\\\\logK}{%.2f\\pm %.2f} %s%%logJ\\n\"%(logK,dlogK,\"\"))\n",
    "f.write(\"\\\\newcommand{\\\\rhoRegolith}{%g} %s%%g/cc\\n\"%(RHO_REG,\"\"))\n",
    "f.write(\"\\\\newcommand{\\\\rhoMin}{%g} %s%%g/cc\\n\"%(RHO_COMET,\"\"))\n",
    "f.write(\"\\\\newcommand{\\\\rhoMax}{%g} %s%%g/cc\\n\"%(RHO_METAL,\"\"))\n",
    "f.write(\"\\\\newcommand{\\\\rhoComet}{%g} %s%%g/cc\\n\"%(RHO_COMET,\"\"))\n",
    "f.write(\"\\\\newcommand{\\\\pComet}{%.1f} %s%%percentage\\n\"%(100*P_COMET,\"\"))\n",
    "f.write(\"\\\\newcommand{\\\\rhoRocky}{%g} %s%%g/cc\\n\"%(RHO_ROCKY,\"\"))\n",
    "f.write(\"\\\\newcommand{\\\\pRocky}{%.0f} %s%%percentage\\n\"%(100*P_ROCKY,\"\"))\n",
    "f.write(\"\\\\newcommand{\\\\rhoMetal}{%g} %s%%g/cc\\n\"%(RHO_METAL,\"\"))\n",
    "f.write(\"\\\\newcommand{\\\\pMetal}{%.0f} %s%%percentage\\n\"%(P_METAL,\"\"))\n",
    "\n",
    "#Geocentric position of the impact\n",
    "f.write(\"\\\\newcommand{\\\\RAgeo}{%.5f} %s%%h\\n\"%(Impact[\"RAgeo\"],\"\"))\n",
    "f.write(\"\\\\newcommand{\\\\DECgeo}{%.5f} %s%%deg\\n\"%(Impact[\"DECgeo\"],\"\"))\n",
    "f.write(\"\\\\newcommand{\\\\Dimpgeo}{%.0f} %s%%deg\\n\"%(Impact[\"Distance\"]*REARTH,\"\"))\n",
    "\n",
    "\n",
    "#Geocentric position of the lunar center\n",
    "f.write(\"\\\\newcommand{\\\\RAcen}{%.5f} %s%%h\\n\"%(Center[\"RAgeo\"],\"\"))\n",
    "f.write(\"\\\\newcommand{\\\\DECcen}{%.5f} %s%%deg\\n\"%(Center[\"DECgeo\"],\"\"))\n",
    "f.write(\"\\\\newcommand{\\\\Dcengeo}{%.0f} %s%%deg\\n\"%(Center[\"Distance\"]*REARTH,\"\"))\n",
    "\n",
    "#NASA SPICE NAIF position\n",
    "f.write(\"\\\\newcommand{\\\\RAcenNASA}{%.5f} %s%%h\\n\"%(RA_MOON,\"\"))\n",
    "f.write(\"\\\\newcommand{\\\\DECcenNASA}{%.5f} %s%%deg\\n\"%(DEC_MOON,\"\"))\n",
    "f.write(\"\\\\newcommand{\\\\DcenNASA}{%g} %s%%deg\\n\"%(MOON_DISTANCE,\"\"))\n",
    "        \n",
    "f.close()"
   ]
  },
  {
   "cell_type": "markdown",
   "metadata": {},
   "source": [
    "### Observations"
   ]
  },
  {
   "cell_type": "code",
   "execution_count": 31,
   "metadata": {},
   "outputs": [],
   "source": [
    "#First set of \n",
    "f=open(f\"{IMPACT_FIGDIR}/tab-observations.tex\",\"w\")\n",
    "\n",
    "f.write(\"\"\"%TTTTTTTTTTTTTTTTTTTTTTTTTTTTTTTTTTTTTTTTTTTTTTTT\n",
    "%REFERENCE STARS TABLE\n",
    "\\\\begin{table*}\n",
    "\\\\centering\n",
    "\\\\resizebox{\\\\textwidth}{!}{%\n",
    "\\\\begin{tabular}{c|cc|ccc|ccc|cc}\n",
    "\\\\hline\\\\hline\n",
    "Star name & \n",
    "\\\\multicolumn{2}{c|}{Sky Position$^\\\\dagger$} & \n",
    "\\\\multicolumn{3}{c|}{Magnitudes} & \n",
    "\\\\multicolumn{3}{c|}{Counts (AP$^{\\\\dagger\\\\dagger}$)} & \n",
    "\\\\multicolumn{2}{c}{Coordinates}\\\\\\\\\n",
    " & RA & DEC & B & V & G$^\\\\ddagger$ & Red & Green & Blue & X & Y\\\\\\\\\n",
    "\\\\hline\n",
    "\"\"\")\n",
    "for keys in [\"RD\",\"CapeVerde\",\"Georgia\",\"CanaryIslands\"]:\n",
    "    site=sites[keys]\n",
    "    data=site[\"data\"]\n",
    "    f.write(\"\"\"\n",
    "\\\\hline\n",
    "\\\\multicolumn{11}{c}{%s}\\\\\\\\\n",
    "\\\\hline\n",
    "\"\"\"%keys)\n",
    "    for ind,star in data.loc[data[\"type\"]==\"Star\"].iterrows():\n",
    "        row=f\"{star.ObjName} & \"\n",
    "        comment=\"\"\n",
    "        for field in \"RA\",\"DEC\",\"B\",\"V\",\"G\",\"CountsR\",\"CountsG\",\"CountsB\",\"X\",\"Y\":\n",
    "            value=star[field]\n",
    "            if value==-1:\n",
    "                value=\"-\"\n",
    "            if field==\"RA\" or field==\"DEC\":\n",
    "                row+=f\"{value:.5}{comment} & \"\n",
    "            else:\n",
    "                row+=f\"{value}{comment} & \"\n",
    "        row=row.strip(\" & \")\n",
    "        row+=\"\\\\\\\\\\n\"\n",
    "        f.write(row)\n",
    "\n",
    "    star=data.loc[data[\"ObjName\"]==\"L1-21J\"].iloc[0]\n",
    "    comment=\"\"\n",
    "    row=f\"{star.ObjName} & \"\n",
    "    for field in \"RA\",\"DEC\",\"B\",\"V\",\"G\",\"CountsR\",\"CountsG\",\"CountsB\",\"X\",\"Y\":\n",
    "        value=star[field]\n",
    "        if value==-1:\n",
    "            value=\"-\"\n",
    "        if field==\"RA\" or field==\"DEC\":\n",
    "            comment=\"*\"\n",
    "            row+=f\"{value:.5}{comment} & \"\n",
    "        else:\n",
    "            comment=\"\"\n",
    "            row+=f\"{value}{comment} & \"\n",
    "    row=row.strip(\" & \")\n",
    "    row+=\"\\\\\\\\\\n\"\n",
    "    f.write(row)\n",
    "\n",
    "f.write(\"\"\"\n",
    "\\\\hline\n",
    "\\\\multicolumn{11}{c}{\\\\it Continues in Table \\\\ref{tab:referencestars2}}\\\\\\\\\n",
    "\\\\hline\\\\hline\n",
    "\\\\multicolumn{11}{l}{\\\\footnotesize $^\\\\ddagger$ J2000, $^\\\\ddagger$ Gaia G-magnitude, $^{\\\\dagger\\\\dagger}$ Aperture photometry}\\\\\\\\\n",
    "\\\\multicolumn{11}{l}{\\\\footnotesize $^*$ Calculated coordinates (see Section \\\\ref{subsec:parallax})}\\\\\\\\\n",
    "\\\\end{tabular}}\n",
    "\\\\caption{Reference stars properties, photometry and astrometry results for the pictures analysed in this work.\\\\label{tab:referencestars1}}\n",
    "\\\\end{table*}\n",
    "\"\"\")\n",
    "\n",
    "\n",
    "f.write(\"\"\"%TTTTTTTTTTTTTTTTTTTTTTTTTTTTTTTTTTTTTTTTTTTTTTTT\n",
    "%REFERENCE STARS TABLE\n",
    "\\\\begin{table*}\n",
    "\\\\centering\n",
    "\\\\resizebox{\\\\textwidth}{!}{%\n",
    "\\\\begin{tabular}{c|cc|ccc|ccc|cc}\n",
    "\\\\hline\\\\hline\n",
    "Star name & \n",
    "\\\\multicolumn{2}{c|}{Sky Position$^\\\\dagger$} & \n",
    "\\\\multicolumn{3}{c|}{Magnitudes} & \n",
    "\\\\multicolumn{3}{c|}{Counts (AP$^{\\\\dagger\\\\dagger}$)} & \n",
    "\\\\multicolumn{2}{c}{Coordinates}\\\\\\\\\n",
    " & RA & DEC & B & V & G$^\\\\ddagger$ & Red & Green & Blue & X & Y\\\\\\\\\n",
    "\\\\hline\n",
    "\\\\hline\n",
    "\\\\multicolumn{11}{c}{\\\\it Continued from Table \\\\ref{tab:referencestars1}}\\\\\\\\\n",
    "\"\"\")\n",
    "for keys in [\"Czech\",\"Vienna\",\"Germany\"]:\n",
    "    site=sites[keys]\n",
    "    data=site[\"data\"]\n",
    "    f.write(\"\"\"\n",
    "\\\\hline\n",
    "\\\\multicolumn{11}{c}{%s}\\\\\\\\\n",
    "\\\\hline\n",
    "\"\"\"%keys)\n",
    "    for ind,star in data.loc[data[\"type\"]==\"Star\"].iterrows():\n",
    "        row=f\"{star.ObjName} & \"\n",
    "        comment=\"\"\n",
    "        for field in \"RA\",\"DEC\",\"B\",\"V\",\"G\",\"CountsR\",\"CountsG\",\"CountsB\",\"X\",\"Y\":\n",
    "            value=star[field]\n",
    "            if value==-1:\n",
    "                value=\"-\"\n",
    "            if field==\"RA\" or field==\"DEC\":\n",
    "                row+=f\"{value:.5}{comment} & \"\n",
    "            else:\n",
    "                row+=f\"{value}{comment} & \"\n",
    "        row=row.strip(\" & \")\n",
    "        row+=\"\\\\\\\\\"\n",
    "        f.write(row)\n",
    "\n",
    "    star=data.loc[data[\"ObjName\"]==\"L1-21J\"].iloc[0]\n",
    "    comment=\"\"\n",
    "    row=f\"{star.ObjName} & \"\n",
    "    for field in \"RA\",\"DEC\",\"B\",\"V\",\"G\",\"CountsR\",\"CountsG\",\"CountsB\",\"X\",\"Y\":\n",
    "        value=star[field]\n",
    "        if value==-1:\n",
    "            value=\"-\"\n",
    "        if field==\"RA\" or field==\"DEC\":\n",
    "            comment=\"*\"\n",
    "            row+=f\"{value:.5}{comment} & \"\n",
    "        else:\n",
    "            comment=\"\"\n",
    "            row+=f\"{value}{comment} & \"\n",
    "    row=row.strip(\" & \")\n",
    "    row+=\"\\\\\\\\\"\n",
    "    f.write(row)\n",
    "\n",
    "f.write(\"\"\"\n",
    "\\\\hline\\\\hline\n",
    "\\\\end{tabular}}\n",
    "\\\\caption{Continuation of Table \\\\ref{tab:referencestars1}.\\\\label{tab:referencestars2}}\n",
    "\\\\end{table*}\n",
    "\"\"\")\n",
    "\n",
    "f.close()"
   ]
  },
  {
   "cell_type": "markdown",
   "metadata": {},
   "source": [
    "### Observing sites"
   ]
  },
  {
   "cell_type": "code",
   "execution_count": 32,
   "metadata": {},
   "outputs": [],
   "source": [
    "#First set of \n",
    "f=open(f\"{IMPACT_FIGDIR}/tab-locations.tex\",\"w\")\n",
    "\n",
    "f.write(\"\"\"\n",
    "%TTTTTTTTTTTTTTTTTTTTTTTTTTTTTTTTTTTTTTTTTTTTTTTT\n",
    "%ASTROMETRY\n",
    "\\\\begin{table*}\n",
    "\\\\centering\n",
    "\\\\resizebox{\\\\textwidth}{!}{\\\\begin{tabular}{cccccccc}\n",
    "\\\\hline\\\\hline\n",
    "Location & Latitude & Longitude & Elevation & Exposure time & Flash magnitude$^\\\\dagger$ & Flash Position$^\\\\ddagger$ &  Selenographic Coordinates$^\\\\ddagger$ \\\\\\\\\n",
    " & (deg) & (deg) & (m) & (seconds) & (G magnitude) & J2000(RA, Dec) & (Lat., Lon.) \\\\\\\\\\\\hline\n",
    "\"\"\")\n",
    "\n",
    "for key,site in sites.items():\n",
    "    data=site[\"data\"]\n",
    "    locname=site[\"location\"].replace(\" (\",\"\\\\\\\\(\")\n",
    "    impact=data.loc[data[\"ObjName\"]==\"L1-21J\"].iloc[0]\n",
    "    row=f\"{locname} & {site['lat']:.5f} & {site['lon']:.5f} & {site['alt']} & {site['texp']} & ${site['Gt']:.2f}\\\\pm {site['dG']:.2f}$ & ({impact['RA']:.5f},{impact['DEC']:.5f}) & ({site['ImpactLat']:.5f},{site['ImpactLon']:.5f})\\\\\\\\%\\\\hline\\n\"\n",
    "    f.write(row)\n",
    "\n",
    "f.write(\"\"\"\n",
    "\\\\hline\\\\hline\n",
    "\\\\multicolumn{8}{l}{$^\\\\dagger$ Section \\\\ref{sec:energy}, $^\\\\dagger$ Section \\\\ref{sec:location}.}\n",
    "\\\\end{tabular}}\n",
    "\\\\caption{\\\\hl{Porperties of the images analized in this work.}\\\\label{tab:locations}}\n",
    "\\\\end{table*}\n",
    "%TTTTTTTTTTTTTTTTTTTTTTTTTTTTTTTTTTTTTTTTTTTTTTTT\n",
    "\"\"\")\n",
    "\n",
    "f.close()"
   ]
  },
  {
   "cell_type": "markdown",
   "metadata": {},
   "source": [
    "### Reference Lunar Features"
   ]
  },
  {
   "cell_type": "code",
   "execution_count": 33,
   "metadata": {},
   "outputs": [],
   "source": [
    "#First set of \n",
    "f=open(f\"{IMPACT_FIGDIR}/tab-lunar.tex\",\"w\")\n",
    "\n",
    "f.write(\"\"\"\n",
    "%TTTTTTTTTTTTTTTTTTTTTTTTTTTTTTTTTTTTTTTTTTTTTTTT\n",
    "%LUNAR SURFACE FEATURES TABLE\n",
    "\\\\begin{table*}\n",
    "\\\\centering\n",
    "\\\\begin{tabular}{cccc}\n",
    "\\\\hline\\\\hline\n",
    "Surface Feature & Selenographic Coordinates & Geocentric Position$^\\\\dagger$ & Distance$^\\\\dagger$ \\\\\\\\\n",
    "                & (Lat.,Lon.)               & J2000 (RA,Dec)      & (km)     \\\\\\\\\\\\hline\n",
    "\"\"\")\n",
    "\n",
    "for ind,lunarsite in LunarSites.iterrows():\n",
    "    comment=\"\"\n",
    "    \n",
    "    coordinates=f\"({lunarsite['slat']:.3f},{lunarsite['slon']:.3f})\"\n",
    "    if lunarsite[\"LunarSite\"]==\"L1-21J\":\n",
    "        comment=\"$^\\\\ddagger$\"\n",
    "    if \"Center\" in lunarsite[\"LunarSite\"]:\n",
    "        coordinates=f\"-\"\n",
    "    f.write(f\"{lunarsite['LunarSite']} & {coordinates}{comment} & ({lunarsite['RAgeo']:.5f},{lunarsite['DECgeo']:.5f}) & {REARTH*lunarsite['Distance']:.0f}\\\\\\\\\\n\")\n",
    "    \n",
    "f.write(\"\"\"\n",
    "\\\\hline\\\\hline\n",
    "\\\\multicolumn{4}{l}{\\\\footnotesize $^\\\\dagger$ Calculated geocentric coordinates and distance (see Section \\\\ref{sec:parallax})}\\\\\\\\\n",
    "\\\\multicolumn{4}{l}{\\\\footnotesize $^\\\\ddagger$ Calculated with our geometrical procedure (see Section \\\\ref{subsec:geolocation})}\\\\\\\\\n",
    "\\\\end{tabular}\n",
    "\\\\caption{Lunar features reference points and their selenographic coordinates, along with the apparent geocentric equatorial coordinate RA, Dec and geocentric distance results from parallax analysis.}\n",
    "\\\\label{tab:surfacefeatures}\n",
    "\\\\end{table*}\n",
    "%TTTTTTTTTTTTTTTTTTTTTTTTTTTTTTTTTTTTTTTTTTTTTTTT\n",
    "\"\"\")\n",
    "f.close()"
   ]
  },
  {
   "cell_type": "code",
   "execution_count": null,
   "metadata": {},
   "outputs": [],
   "source": []
  }
 ],
 "metadata": {
  "colab": {
   "collapsed_sections": [],
   "name": "L1-21-J-Analysis.ipynb",
   "provenance": [],
   "toc_visible": true,
   "version": "0.3.2"
  },
  "kernelspec": {
   "display_name": "Python 3",
   "language": "python",
   "name": "python3"
  },
  "language_info": {
   "codemirror_mode": {
    "name": "ipython",
    "version": 3
   },
   "file_extension": ".py",
   "mimetype": "text/x-python",
   "name": "python",
   "nbconvert_exporter": "python",
   "pygments_lexer": "ipython3",
   "version": "3.6.8"
  }
 },
 "nbformat": 4,
 "nbformat_minor": 1
}
